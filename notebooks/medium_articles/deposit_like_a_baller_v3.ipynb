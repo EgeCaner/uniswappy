{
 "cells": [
  {
   "cell_type": "markdown",
   "id": "8497145d-a630-4c95-860a-b534aed34a81",
   "metadata": {},
   "source": [
    "# Uniswap Deposits like an Baller"
   ]
  },
  {
   "cell_type": "code",
   "execution_count": null,
   "id": "685294f3-f8e2-42f7-aa29-f396873fb8b5",
   "metadata": {},
   "outputs": [],
   "source": [
    "import os\n",
    "import math\n",
    "import numpy as np\n",
    "from termcolor import colored"
   ]
  },
  {
   "cell_type": "code",
   "execution_count": null,
   "id": "a1f99434-79ec-49c3-9de6-4c8a569c6531",
   "metadata": {},
   "outputs": [],
   "source": [
    "from uniswappy import *"
   ]
  },
  {
   "cell_type": "code",
   "execution_count": null,
   "id": "36f7fe68-bc6d-4990-8d74-4ec69beb8512",
   "metadata": {},
   "outputs": [],
   "source": [
    "user_nm = 'user0'\n",
    "eth_amount = 1000\n",
    "usdc_amount = 1000000"
   ]
  },
  {
   "cell_type": "markdown",
   "id": "91356ac0-b762-4b00-8476-c37ba69b47f6",
   "metadata": {},
   "source": [
    "#### SwapDeposit (incl. fee):\n",
    "\n",
    "* A ```SwapDeposit``` is where a certain amount of a specific token is deposited into the LP under one operation\n",
    "* Includes two steps:\n",
    "    * (step 1) perform approx. 50% swap for opposing token\n",
    "    * (step 2) using amt from step 1, perform 1:1 deposit\n",
    "* A portion of the incoming funds are swapped to achieve equal portions of both assets\n",
    "* These portions are then deposited into the LP\n",
    "* To ensure all the funds are deposited, we must determine the portion ($\\alpha$) of $s_{in}$ that must first get swapped\n",
    "\n",
    "> $ \\Delta x =\\Delta x_{swap}  + \\Delta x_{deposit}$\n",
    "\n",
    "> $ \\Delta x =\\alpha \\Delta x   + \\Delta x_{deposit}$\n",
    "\n",
    "\n",
    "#### Follows this system of equations:\n",
    "\n",
    "> (Eq. 1) $\\Delta y = \\frac{997 y \\alpha \\Delta x }{1000x + 997\\alpha\\Delta x }$\n",
    "\n",
    "> (Eq. 2) $\\Delta x = \\alpha\\Delta x   + \\frac{\\Delta y(x + \\alpha\\Delta x )}{y - \\Delta y}$\n",
    "\n",
    "where \n",
    "* $\\Delta x$ -> amt token in \n",
    "* $\\Delta y$ -> amt opposing token out after swap\n",
    "* $\\alpha$ -> portion of $\\Delta x$ swapped in\n",
    "* x -> reserve0\n",
    "* y -> reserve1"
   ]
  },
  {
   "cell_type": "markdown",
   "id": "2b273c68-cbdc-4de9-b6b6-13fff82c4f9b",
   "metadata": {},
   "source": [
    "### Let's highlight why the above considerations are important ..."
   ]
  },
  {
   "cell_type": "code",
   "execution_count": null,
   "id": "d4937c98-58d9-42bc-90f1-197550a1e002",
   "metadata": {},
   "outputs": [],
   "source": [
    "user_nm = 'user_intro'\n",
    "fee = UniV3Utils.FeeAmount.MEDIUM\n",
    "tick_spacing = UniV3Utils.TICK_SPACINGS[fee]\n",
    "lwr_tick = UniV3Utils.getMinTick(tick_spacing)\n",
    "upr_tick = UniV3Utils.getMaxTick(tick_spacing)\n",
    "init_price = UniV3Utils.encodePriceSqrt(1, 10)\n",
    "\n",
    "tkn = ERC20(\"TKN\", \"0x111\")\n",
    "dai = ERC20(\"DAI\", \"0x09\")\n",
    "\n",
    "exchg_data = UniswapExchangeData(tkn0 = tkn, tkn1 = dai, symbol=\"LP\", \n",
    "                                   address=\"0x011\", version = 'V3', \n",
    "                                   tick_spacing = tick_spacing, \n",
    "                                   fee = fee)\n",
    "\n",
    "factory = UniswapFactory(\"TKN pool factory\", \"0x2\")\n",
    "lp = factory.deploy(exchg_data)\n",
    "lp.initialize(init_price)\n",
    "out_v3 = lp.mint(user_nm, lwr_tick, upr_tick, 3162.2776601683795)\n",
    "\n",
    "dai_amount = lp.get_reserve(dai)\n",
    "\n",
    "print('***\\nInitial LP\\n***')\n",
    "lp.summary()\n",
    "\n",
    "s_in = 100\n",
    "alpha = 0.5\n",
    "s_out = Swap().apply(lp, tkn, user_nm, alpha*s_in)\n",
    "\n",
    "print('***\\nLP post step 1\\n***')\n",
    "lp.summary()\n",
    "\n",
    "sqrt_P = lp.slot0.sqrtPriceX96/2**96\n",
    "balance1 = s_in - alpha*s_in\n",
    "liq = balance1*sqrt_P\n",
    "\n",
    "out = lp.mint(user_nm, lwr_tick, upr_tick, liq)\n",
    "\n",
    "print('***\\nLP post step 2\\n***')\n",
    "lp.summary() \n",
    "\n",
    "\n",
    "print('Given {} initial TKN:'.format(s_in))\n",
    "print('  (step 1) {} TKN must first get swapped for {} '.format(alpha*s_in, s_out[1]))\n",
    "print('  (step 2) The received TKN gets deposited along with the remaining {} TKN'.format(balance1))\n",
    "\n",
    "print('\\nTotal deposited is {:.6f} + {:.6f} = {:.6f} TKN:'.format(alpha*s_in,  balance1, alpha*s_in + balance1))\n",
    "print('However, we have {} unaccounted DAI which need to be considered when using a 50/50 split'.format(colored(str(dai_amount-lp.get_reserve(dai)), 'red', attrs=['bold'])))"
   ]
  },
  {
   "cell_type": "markdown",
   "id": "e907be0a-c905-4a90-9553-4dc5ba12ea7d",
   "metadata": {},
   "source": [
    "### Let's now address this problem ..."
   ]
  },
  {
   "cell_type": "code",
   "execution_count": null,
   "id": "76d9edf2-fab8-47a5-8ad4-57ae6791070f",
   "metadata": {},
   "outputs": [],
   "source": [
    "tkn = ERC20(\"TKN\", \"0x111\")\n",
    "dai = ERC20(\"DAI\", \"0x09\")\n",
    "\n",
    "exchg_data = UniswapExchangeData(tkn0 = tkn, tkn1 = dai, symbol=\"LP\", \n",
    "                                   address=\"0x011\", version = 'V3', \n",
    "                                   tick_spacing = tick_spacing, \n",
    "                                   fee = fee)\n",
    "\n",
    "factory = UniswapFactory(\"TKN pool factory\", \"0x2\")\n",
    "lp = factory.deploy(exchg_data)\n",
    "lp.initialize(init_price)\n",
    "out_v3 = lp.mint(user_nm, lwr_tick, upr_tick, 3162.2776601683795)\n",
    "\n",
    "s_in = 100\n",
    "alpha = 0.5\n",
    "y = lp.get_reserve(dai)\n",
    "x = lp.get_reserve(tkn)"
   ]
  },
  {
   "cell_type": "markdown",
   "id": "59dfa98f-ca16-4881-8aed-94bd087c17a2",
   "metadata": {},
   "source": [
    "#### Plug above into equation (1), and see how many TKN we get when 50% of ETH is swapped in for step (1)"
   ]
  },
  {
   "cell_type": "code",
   "execution_count": null,
   "id": "e85a8f4d-fe91-4f08-b4d5-7a47f9c7b4ec",
   "metadata": {},
   "outputs": [],
   "source": [
    "s_out = (997*alpha*s_in*y)/(1000*x + 997*alpha*s_in)\n",
    "print('For {} TKN, we get {:.2f} DAI with a 50% portion'.format(s_in, s_out))"
   ]
  },
  {
   "cell_type": "markdown",
   "id": "82577435-f59e-4212-ba04-fe60475b1b3d",
   "metadata": {},
   "source": [
    "#### Now, lets check how many ETH gets SwapDeposited in when 50% of ETH is swapped in for step (1)"
   ]
  },
  {
   "cell_type": "code",
   "execution_count": null,
   "id": "b91829c3-6c2d-4bab-9a8f-00e8d9417f4d",
   "metadata": {},
   "outputs": [],
   "source": [
    "a1_out = alpha*s_in + s_out*(x + alpha*s_in)/(y - s_out)\n",
    "print('Instead of {} TKN, we get {:.2f} TKN under a 50% portion'.format(s_in, a1_out))"
   ]
  },
  {
   "cell_type": "markdown",
   "id": "5660c788-ba06-40c7-8d67-a9e51b3b50a1",
   "metadata": {},
   "source": [
    "We can see that there is an imbalance in the system under a 50% distribution for step (1); \n",
    "* we need to solve the system above for $\\alpha$ to get the proper distribution\n",
    "* plug (1) into (2) and we get:\n",
    "\n",
    "$\\Delta x = \\alpha\\Delta x + \\left(\\frac{997 y\\alpha\\Delta x}{1000x + 997\\alpha\\Delta x} \\right) \\left(\\frac{ x + \\alpha\\Delta x}{y - \\frac{997 y \\alpha \\Delta x}{1000x + 997\\alpha\\Delta x}} \\right)$\n",
    "\n",
    "reduces to: \n",
    "\n",
    "$\\alpha^2 \\frac{997 \\Delta x^2}{1000x} + \\alpha\\frac{1997\\Delta x}{1000} - \\Delta x = 0$\n",
    "\n",
    "#### Now, solve for $\\alpha$, and we can calculate the correct distribution using ```calc_deposit_dist``` "
   ]
  },
  {
   "cell_type": "code",
   "execution_count": null,
   "id": "c6787841-d624-4812-9235-473a48eaefbe",
   "metadata": {},
   "outputs": [],
   "source": [
    "def calc_deposit_portion(lp, token_in, dx):\n",
    "\n",
    "    tokens = lp.factory.token_from_exchange[lp.name]\n",
    "    if(token_in.token_name == lp.token0):\n",
    "        tkn_supply = lp.get_virtual_reserve(tokens[lp.token0])\n",
    "    else:    \n",
    "        tkn_supply = lp.get_virtual_reserve(tokens[lp.token1])\n",
    "            \n",
    "    a = 997*(dx**2)/(1000*tkn_supply)\n",
    "    b = dx*(1997/1000)\n",
    "    c = -dx\n",
    "\n",
    "    alpha = -(b - np.sqrt(b*b - 4*a*c)) / (2*a)\n",
    "    return alpha "
   ]
  },
  {
   "cell_type": "code",
   "execution_count": null,
   "id": "1700980e-2da6-411e-9957-852408b28fc9",
   "metadata": {},
   "outputs": [],
   "source": [
    "alpha = calc_deposit_portion(lp, tkn, s_in)\n",
    "print('The correct swap distrbution (for step 1) is {}'.format(alpha))"
   ]
  },
  {
   "cell_type": "markdown",
   "id": "d4bed8c5-4ebd-400c-94d4-4c2011512b02",
   "metadata": {},
   "source": [
    "#### Now, check against our reduced quadratic, and we should expect to get 0"
   ]
  },
  {
   "cell_type": "code",
   "execution_count": null,
   "id": "9f7863c9-c13c-44f0-914e-a45e382c4978",
   "metadata": {},
   "outputs": [],
   "source": [
    "#alpha = 0.49950915\n",
    "997*(alpha**2)*(s_in**2)/(1000*x) + alpha*s_in*(1997/1000) - s_in"
   ]
  },
  {
   "cell_type": "markdown",
   "id": "4a4894df-cded-406e-864d-f027de99e8b7",
   "metadata": {},
   "source": [
    "#### Finally, lets run through the steps to a ```SwapDeposit``` and compare above"
   ]
  },
  {
   "cell_type": "code",
   "execution_count": null,
   "id": "682b222a-85b2-4249-8ad0-81afa9efc5ac",
   "metadata": {},
   "outputs": [],
   "source": [
    "tkn = ERC20(\"TKN\", \"0x111\")\n",
    "dai = ERC20(\"DAI\", \"0x09\")\n",
    "\n",
    "exchg_data = UniswapExchangeData(tkn0 = tkn, tkn1 = dai, symbol=\"LP\", \n",
    "                                   address=\"0x011\", version = 'V3', \n",
    "                                   tick_spacing = tick_spacing, \n",
    "                                   fee = fee)\n",
    "\n",
    "factory = UniswapFactory(\"TKN pool factory\", \"0x2\")\n",
    "lp = factory.deploy(exchg_data)\n",
    "lp.initialize(init_price)\n",
    "out_v3 = lp.mint(user_nm, lwr_tick, upr_tick, 3162.2776601683795)\n",
    "\n",
    "print('***\\nInitial LP\\n***')\n",
    "lp.summary()\n",
    "\n",
    "s_in = 100\n",
    "alpha = calc_deposit_portion(lp, tkn, s_in) #+0.0000035\n",
    "s_out = Swap().apply(lp, tkn, user_nm, alpha*s_in)\n",
    "\n",
    "print('***\\nLP post step 1\\n***')\n",
    "lp.summary()\n",
    "\n",
    "sqrt_P = lp.slot0.sqrtPriceX96/2**96\n",
    "balance1 = abs(s_out[2]) \n",
    "liq = balance1/sqrt_P \n",
    "\n",
    "out = lp.mint(user_nm, lwr_tick, upr_tick, liq)\n",
    "\n",
    "print('***\\nLP post step 2\\n***')\n",
    "lp.summary() \n",
    "\n",
    "print('Given {} initial TKN:'.format(s_in))\n",
    "print('  (step 1) {} TKN must first get swapped for {} '.format(alpha*s_in, abs(s_out[2])))\n",
    "print('  (step 2) The received TKN gets deposited along with the remaining {} TKN'.format(out[0]))\n",
    "\n",
    "print('\\nTotal deposited is {:.6f} + {:.6f} = {:.6f} TKN:'.format(alpha*s_in,  out[0], alpha*s_in + out[0]))\n"
   ]
  },
  {
   "cell_type": "markdown",
   "id": "70b7cace-2da1-48aa-8cb3-2e40bda047e1",
   "metadata": {},
   "source": [
    "#### Finally, let's check when our solution is integrated into ```SwapDeposit```"
   ]
  },
  {
   "cell_type": "code",
   "execution_count": null,
   "id": "be62b0b4-6f46-4deb-8a68-0a96aad777f5",
   "metadata": {},
   "outputs": [],
   "source": [
    "tkn = ERC20(\"TKN\", \"0x111\")\n",
    "dai = ERC20(\"DAI\", \"0x09\")\n",
    "\n",
    "exchg_data = UniswapExchangeData(tkn0 = tkn, tkn1 = dai, symbol=\"LP\", \n",
    "                                   address=\"0x011\", version = 'V3', \n",
    "                                   tick_spacing = tick_spacing, \n",
    "                                   fee = fee)\n",
    "\n",
    "factory = UniswapFactory(\"TKN pool factory\", \"0x2\")\n",
    "lp = factory.deploy(exchg_data)\n",
    "lp.initialize(init_price)\n",
    "out_v3 = lp.mint(user_nm, lwr_tick, upr_tick, 3162.2776601683795)\n",
    "lp.summary()\n",
    "\n",
    "s_in = 100\n",
    "dep = SwapDeposit().apply(lp, tkn, user_nm, s_in, lwr_tick, upr_tick)\n",
    "lp.summary()\n",
    "dep"
   ]
  },
  {
   "cell_type": "code",
   "execution_count": null,
   "id": "cef0bb26-4761-4c06-a513-e309c4f66f47",
   "metadata": {},
   "outputs": [],
   "source": [
    "tkn = ERC20(\"TKN\", \"0x111\")\n",
    "dai = ERC20(\"DAI\", \"0x09\")\n",
    "exchg_data = UniswapExchangeData(tkn0 = tkn, tkn1 = dai, symbol=\"LP\", address=\"0x011\")\n",
    "\n",
    "factory = UniswapFactory(\"TKN pool factory\", \"0x2\")\n",
    "lp = factory.deploy(exchg_data)\n",
    "lp.add_liquidity(user_nm, 10000, 1000, 10000, 1000)\n",
    "lp.summary()\n",
    "\n",
    "s_in = 100\n",
    "dep = SwapDeposit().apply(lp, tkn, user_nm, s_in)\n",
    "lp.summary()"
   ]
  }
 ],
 "metadata": {
  "kernelspec": {
   "display_name": "py3",
   "language": "python",
   "name": "py3"
  },
  "language_info": {
   "codemirror_mode": {
    "name": "ipython",
    "version": 3
   },
   "file_extension": ".py",
   "mimetype": "text/x-python",
   "name": "python",
   "nbconvert_exporter": "python",
   "pygments_lexer": "ipython3",
   "version": "3.10.0rc2"
  }
 },
 "nbformat": 4,
 "nbformat_minor": 5
}
