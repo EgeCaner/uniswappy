{
 "cells": [
  {
   "cell_type": "markdown",
   "id": "fb6cd7f4-db41-4259-97c7-50e99e82c705",
   "metadata": {},
   "source": [
    "* https://uniswapv3book.com/index.html\n",
    "* https://medium.com/@chaisomsri96/defi-math-uniswap-v3-concentrated-liquidity-bd87686b3ecf\n",
    "* https://liobaheimbach.github.io/assets/pdf/Papers/Risks_and_Returns_of_Uniswap_V3_Liquidity_Providers.pdf\n",
    "* https://docs.uniswap.org/sdk/v3/guides/advanced/active-liquidity\n",
    "* https://blog.uniswap.org/uniswap-v3-math-primer"
   ]
  },
  {
   "cell_type": "code",
   "execution_count": null,
   "id": "54d68f40-5184-403c-a548-fbb76c2a6476",
   "metadata": {},
   "outputs": [],
   "source": [
    "from uniswappy import *\n",
    "import pandas as pd\n",
    "import copy\n",
    "import matplotlib.pyplot as plt\n",
    "\n",
    "user_nm = MockAddress().apply()\n",
    "eth_amount = 10000\n",
    "tkn_amount = 100000\n",
    "\n",
    "fee = UniV3Utils.FeeAmount.MEDIUM\n",
    "tick_spacing = UniV3Utils.TICK_SPACINGS[fee]\n",
    "lwr_tick = UniV3Utils.getMinTick(tick_spacing)\n",
    "upr_tick = UniV3Utils.getMaxTick(tick_spacing)"
   ]
  },
  {
   "cell_type": "code",
   "execution_count": null,
   "id": "10f39729-e0fb-40aa-85d5-9a624f62f0c9",
   "metadata": {},
   "outputs": [],
   "source": [
    "def get_current_liquidity(lp, user, positions):\n",
    "    _id = UniV3Utils.getPositionKey(user, lwr_tick, upr_tick)\n",
    "    if(_id in positions):\n",
    "        return positions[_id].liquidity\n",
    "    else:\n",
    "        return 0\n",
    "        \n",
    "def update_graph(lp, user, tkn, positions, graph):\n",
    "    curr = get_current_liquidity(lp, user, positions)\n",
    "    delta_liq = get_current_liquidity(lp, user, lp.positions) - curr\n",
    "    #print(f'curr {curr}')\n",
    "    if not user in graph:\n",
    "        graph[user_add] = {} \n",
    "        graph[user_add]['price'] = lp.get_price(tkn)\n",
    "        graph[user_add]['lwr_tick'] = lwr_tick\n",
    "        graph[user_add]['upr_tick'] = upr_tick\n",
    "        graph[user_add]['delta_liq'] = delta_liq\n",
    "    else:  \n",
    "        graph[user_add]['price'] = lp.get_price(tkn)\n",
    "        graph[user_add]['lwr_tick'] = lwr_tick\n",
    "        graph[user_add]['upr_tick'] = upr_tick\n",
    "        graph[user_add]['delta_liq'] += delta_liq        \n"
   ]
  },
  {
   "cell_type": "code",
   "execution_count": null,
   "id": "e2169415-721d-4610-aaa9-54d7ced0ab08",
   "metadata": {},
   "outputs": [],
   "source": [
    "n_steps = 2500\n",
    "start_price = eth_amount/tkn_amount\n",
    "mu = 0.1; sigma = 0.5\n",
    "n_paths = 1\n",
    "\n",
    "b = BrownianModel(start_price)\n",
    "p_arr = b.gen_gbms(mu, sigma, n_steps, n_paths)\n",
    "exp_p_arr = np.median(p_arr, axis = 1)\n",
    "\n",
    "accounts = MockAddress().apply(250)"
   ]
  },
  {
   "cell_type": "code",
   "execution_count": null,
   "id": "9a7fdcb8-1fd4-42b4-9834-7de2235c32ae",
   "metadata": {},
   "outputs": [],
   "source": [
    "x_val = np.arange(0,len(p_arr))\n",
    "fig, (USD_ax) = plt.subplots(nrows=1, sharex=False, sharey=False, figsize=(18, 5))\n",
    "USD_ax.plot(x_val[1:], p_arr[1:], color = 'r',linestyle = 'dashdot', label='initial invest') \n",
    "USD_ax.set_title(f'Price Chart (ETH/TKN)', fontsize=20)\n",
    "USD_ax.set_ylabel('Price (USD)', size=20)\n",
    "USD_ax.set_xlabel('Date', size=20)"
   ]
  },
  {
   "cell_type": "code",
   "execution_count": null,
   "id": "8715bd6e-c822-4fea-b400-2d64af291b95",
   "metadata": {},
   "outputs": [],
   "source": [
    "tkn = ERC20(\"TKN\", \"0x111\")\n",
    "eth = ERC20(\"ETH\", \"0x09\")\n",
    "exchg_data = UniswapExchangeData(tkn0 = eth, tkn1 = tkn, symbol=\"LP\", address=\"0x011\")\n",
    "\n",
    "factory = UniswapFactory(\"ETH pool factory\", \"0x2\")\n",
    "lp = factory.deploy(exchg_data)\n",
    "\n",
    "Join().apply(lp, user_nm, eth_amount, tkn_amount)\n",
    "lp.summary()\n",
    "\n",
    "df_v2 = pd.DataFrame(columns = ['price', 'liq'])"
   ]
  },
  {
   "cell_type": "code",
   "execution_count": null,
   "id": "2e463ce7-c0f6-4e19-9e17-59619ed5f039",
   "metadata": {},
   "outputs": [],
   "source": [
    "arb = CorrectReserves(lp, x0 = 1/exp_p_arr[0])\n",
    "for k in range(1, n_steps):\n",
    "    p = 1/exp_p_arr[k]\n",
    "    arb.apply(p)\n",
    "    \n",
    "    select_tkn = EventSelectionModel().bi_select(0.5)\n",
    "    rnd_swap_amt = TokenDeltaModel(30).delta()\n",
    "    rnd_add_amt = TokenDeltaModel(30).delta()\n",
    "\n",
    "    user_add = random.choice(accounts)\n",
    "    user_swap = random.choice(accounts)\n",
    "\n",
    "    # Random trade volume  \n",
    "    if(select_tkn == 0):\n",
    "        AddLiquidity().apply(lp, eth, user_add, rnd_add_amt)\n",
    "        df_v2 = pd.concat([df_v2,pd.DataFrame.from_dict({'price': [lp.get_price(tkn)], 'liq': [lp.last_liquidity_deposit]})])\n",
    "        out = Swap().apply(lp, eth, user_nm, rnd_swap_amt) \n",
    "    else:\n",
    "        AddLiquidity().apply(lp, tkn, user_add, p*rnd_add_amt)\n",
    "        df_v2 = pd.concat([df_v2,pd.DataFrame.from_dict({'price': [lp.get_price(tkn)], 'liq': [lp.last_liquidity_deposit]})])\n",
    "        out = Swap().apply(lp, tkn, user_nm,  p*rnd_swap_amt)  \n",
    "    \n",
    "    #print(f'Market: {exp_p_arr[k]}, LP: {lp.get_price(tkn)}')\n",
    "\n",
    "print('')\n",
    "lp.summary()"
   ]
  },
  {
   "cell_type": "code",
   "execution_count": null,
   "id": "301348d6-2029-4541-adf7-89e40db23170",
   "metadata": {},
   "outputs": [],
   "source": [
    "df_v2.sort_values(by=['price'], inplace=True)\n",
    "df_v2.reset_index(drop=True,inplace=True)\n",
    "df_v2['price'] = np.round(df_v2['price'].values, 3)\n",
    "freq_df_v2 = df_v2.groupby('price').agg({'liq': 'sum'})"
   ]
  },
  {
   "cell_type": "code",
   "execution_count": null,
   "id": "4444c168-f86a-48d6-876d-b38317b30d84",
   "metadata": {},
   "outputs": [],
   "source": [
    "eth = ERC20(\"ETH\", \"0x09\")\n",
    "tkn = ERC20(\"TKN\", \"0x111\")\n",
    "\n",
    "exchg_data = UniswapExchangeData(tkn0 = eth, tkn1 = tkn, symbol=\"LP\", \n",
    "                                   address=\"0x011\", version = 'V3', \n",
    "                                   tick_spacing = tick_spacing, \n",
    "                                   fee = fee)\n",
    "\n",
    "factory = UniswapFactory(\"ETH pool factory\", \"0x2\")\n",
    "lp = factory.deploy(exchg_data)\n",
    "\n",
    "Join().apply(lp, user_nm, eth_amount, tkn_amount, lwr_tick, upr_tick)\n",
    "lp.summary()\n",
    "\n",
    "v3_positions = lp.positions.copy()\n",
    "v3_graph = {}"
   ]
  },
  {
   "cell_type": "code",
   "execution_count": null,
   "id": "2f8d0aaf-2c72-4cb5-9dce-43847a5bcd2e",
   "metadata": {},
   "outputs": [],
   "source": [
    "arb = CorrectReserves(lp, x0 = 1/exp_p_arr[0])\n",
    "for k in range(1, n_steps):\n",
    "    p = 1/exp_p_arr[k]\n",
    "    arb.apply(p, lwr_tick, upr_tick)\n",
    "    \n",
    "    select_tkn = EventSelectionModel().bi_select(0.5)\n",
    "    rnd_swap_amt = TokenDeltaModel(30).delta()\n",
    "    rnd_add_amt = TokenDeltaModel(30).delta()\n",
    "    user_add = random.choice(accounts)\n",
    "    user_swap = random.choice(accounts)\n",
    "    v3_positions = copy.deepcopy(lp.positions)\n",
    "    if(select_tkn == 0): \n",
    "        AddLiquidity().apply(lp, eth, user_add, rnd_add_amt, lwr_tick, upr_tick)\n",
    "        update_graph(lp, user_add, tkn, v3_positions, v3_graph)\n",
    "        out = Swap().apply(lp, eth, user_swap, rnd_swap_amt) \n",
    "    else:\n",
    "        AddLiquidity().apply(lp, tkn, user_add, p*rnd_add_amt, lwr_tick, upr_tick)\n",
    "        update_graph(lp, user_add, tkn, v3_positions, v3_graph)\n",
    "        out = Swap().apply(lp, tkn, user_swap,  p*rnd_swap_amt) \n",
    "\n",
    "    #print(f'Market: {exp_p_arr[k]}, LP: {lp.get_price(tkn)}')\n",
    "\n",
    "print('')\n",
    "lp.summary()"
   ]
  },
  {
   "cell_type": "code",
   "execution_count": null,
   "id": "3faa947e-2de1-44c4-bd61-4b00f9d3e924",
   "metadata": {},
   "outputs": [],
   "source": [
    "    def get_tick_price(self):  \n",
    "               \n",
    "        Q96 = 2**96\n",
    "        sqrtPriceX96 = lp.slot0.sqrtPriceX96\n",
    "        return math.floor(math.log((sqrtPriceX96/Q96)**2)/math.log(1.0001))     "
   ]
  },
  {
   "cell_type": "code",
   "execution_count": null,
   "id": "cba35749-0779-4d0c-9b41-c36e72df7d78",
   "metadata": {},
   "outputs": [],
   "source": [
    "lp.get_tick_price()"
   ]
  },
  {
   "cell_type": "code",
   "execution_count": null,
   "id": "f451f079-2b2b-4eaa-abf9-d3dba7771f12",
   "metadata": {},
   "outputs": [],
   "source": [
    "lp.ticks"
   ]
  },
  {
   "cell_type": "code",
   "execution_count": null,
   "id": "407a425d-e3e1-4087-a376-f24c7135d409",
   "metadata": {},
   "outputs": [],
   "source": [
    "UniV3Utils.getPositionKey(accounts[0], lwr_tick, upr_tick)"
   ]
  },
  {
   "cell_type": "code",
   "execution_count": null,
   "id": "a580a8f6-c090-4e9d-9e6c-8e1668a31f8d",
   "metadata": {},
   "outputs": [],
   "source": [
    "lp.positions"
   ]
  },
  {
   "cell_type": "code",
   "execution_count": null,
   "id": "5fdcd56f-4bb2-42bb-960e-3767639aa3ee",
   "metadata": {},
   "outputs": [],
   "source": [
    "#for pos in v3_graph:\n",
    "#    print(f\"price {v3_graph[pos]['price']}, liq: {v3_graph[pos]['delta_liq']/10**18}\")"
   ]
  },
  {
   "cell_type": "code",
   "execution_count": null,
   "id": "e0455956-be44-4f8c-9167-ac2ebc32caed",
   "metadata": {},
   "outputs": [],
   "source": [
    "for k, pos in enumerate(v3_graph):\n",
    "    row = np.empty(2)\n",
    "    row[0] = v3_graph[pos]['price']\n",
    "    row[1] = v3_graph[pos]['delta_liq']/10**18\n",
    "    res = row if k == 0 else np.vstack((res, row))\n",
    "\n",
    "df = pd.DataFrame(res, columns = ['price', 'liq'])\n",
    "df.sort_values(by=['price'], inplace=True)\n",
    "df.reset_index(drop=True,inplace=True)\n",
    "df['price'] = np.round(df['price'].values, 3)\n",
    "freq_df_v3 = df.groupby('price').agg({'liq': 'sum'})"
   ]
  },
  {
   "cell_type": "code",
   "execution_count": null,
   "id": "bbb0fbeb-7b19-4dc1-ba0c-7b2eb8f9e8d9",
   "metadata": {},
   "outputs": [],
   "source": [
    "fig, (price_ax, ld_ax) = plt.subplots(nrows=2, sharex=False, sharey=False, figsize=(12, 10))\n",
    "\n",
    "price_ax.plot(x_val[1:], p_arr[1:], color = 'r',linestyle = 'dashdot', label='initial invest') \n",
    "price_ax.set_title(f'Price Chart (ETH/TKN)', fontsize=15)\n",
    "price_ax.set_ylabel('Price (USD)', size=14)\n",
    "price_ax.set_xlabel('Date', size=10)\n",
    "\n",
    "ld_ax.axvline(x = lp.get_price(tkn), color = 'red', linestyle = 'dashdot', linewidth=2, label = 'Last Price')\n",
    "ld_ax.bar(freq_df_v2.index, freq_df_v2['liq'].values, color ='purple', width = 0.00095, alpha = .5, label = 'Uni V2')\n",
    "ld_ax.bar(freq_df_v3.index, freq_df_v3['liq'].values, color ='teal', width = 0.00095, alpha = .5, label = 'Uni V3')\n",
    "ld_ax.set_title('Liquidity Frequency Distribution: Uniswap V2 vs V3',fontsize=15)\n",
    "ld_ax.set_ylabel('Liquidity', fontsize=14)\n",
    "ld_ax.set_xlabel('Price (USD)', fontsize=10)\n",
    "ld_ax.legend()"
   ]
  }
 ],
 "metadata": {
  "kernelspec": {
   "display_name": "Python 3 (ipykernel)",
   "language": "python",
   "name": "python3"
  },
  "language_info": {
   "codemirror_mode": {
    "name": "ipython",
    "version": 3
   },
   "file_extension": ".py",
   "mimetype": "text/x-python",
   "name": "python",
   "nbconvert_exporter": "python",
   "pygments_lexer": "ipython3",
   "version": "3.10.0rc2"
  }
 },
 "nbformat": 4,
 "nbformat_minor": 5
}
