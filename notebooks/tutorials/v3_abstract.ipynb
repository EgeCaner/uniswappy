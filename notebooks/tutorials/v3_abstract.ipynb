{
 "cells": [
  {
   "cell_type": "markdown",
   "id": "58a1be19-e923-4894-89ec-69d7113e85e0",
   "metadata": {},
   "source": [
    "## Pairing Code Abstractions (Uniswap V3)\n",
    "\n",
    "**Swap()**: swaps X for Y (and vice verse) <br>\n",
    "**AddLiquidity()**: adds liquidity using only X or Y amounts <br>\n",
    "**RemoveLiquidity()**: removes liquidity using only X or Y amounts <br>\n",
    "**SwapDeposit()**: deposit desired token -> perform approx. 50% swap ->  perform approx. 50/50 deposit (exact percentages are calculated) <br>\n",
    "**WithdrawSwap()**: perform approx. 50/50 withdraw  -> swap remaining approx. 50% -> return desired token (exact percentages are calculated) <br>"
   ]
  },
  {
   "cell_type": "code",
   "execution_count": null,
   "id": "a61be224-630a-433a-af8b-7fce08782cba",
   "metadata": {},
   "outputs": [],
   "source": [
    "from uniswappy import *\n",
    "\n",
    "user_nm = 'user_intro'\n",
    "tkn_amount = 31622.776601683792\n",
    "dai_amount = 316.22776601683796\n",
    "\n",
    "tkn = ERC20(\"TKN\", \"0x111\")\n",
    "dai = ERC20(\"DAI\", \"0x09\")\n",
    "exchg_data = UniswapExchangeData(tkn0 = tkn, tkn1 = dai, symbol=\"LP\", address=\"0x011\")\n",
    "\n",
    "factory = UniswapFactory(\"ETH pool factory\", \"0x2\")\n",
    "lp = factory.deploy(exchg_data)\n",
    "lp.add_liquidity(user_nm, tkn_amount, dai_amount, tkn_amount, dai_amount)\n",
    "lp.summary()\n",
    "\n",
    "out_v2 = RemoveLiquidity().apply(lp, dai, user_nm, 100)\n",
    "lp.summary()\n",
    "\n",
    "out_v2 = AddLiquidity().apply(lp, dai, user_nm, 100)\n",
    "lp.summary()\n",
    "\n",
    "out_v2 = WithdrawSwap().apply(lp, dai, user_nm, 100)\n",
    "lp.summary()\n",
    "\n",
    "out_v2 = Swap().apply(lp, dai, user_nm, 100)\n",
    "lp.summary()\n",
    "\n",
    "#out_v2 = SwapDeposit().apply(lp, dai, user_nm, 100)\n",
    "#lp.summary()\n",
    "\n",
    "LPQuote(False).get_amount_from_lp(lp, dai, 1000)"
   ]
  },
  {
   "cell_type": "code",
   "execution_count": null,
   "id": "35fe2842-c161-4b61-b3ff-7986fda5313a",
   "metadata": {},
   "outputs": [],
   "source": []
  },
  {
   "cell_type": "code",
   "execution_count": null,
   "id": "cf13bfb2-9d32-48d8-af08-dee42f7a749e",
   "metadata": {},
   "outputs": [],
   "source": [
    "LPQuote().get_lp_from_amount(lp, dai, 416.22776601683796)"
   ]
  },
  {
   "cell_type": "code",
   "execution_count": null,
   "id": "4af86233-f376-4d93-b720-b632502e4ce5",
   "metadata": {},
   "outputs": [],
   "source": [
    "out = WithdrawSwap().apply(lp, dai, user_nm, 100)\n",
    "lp.summary() "
   ]
  },
  {
   "cell_type": "code",
   "execution_count": null,
   "id": "b2d58674-862e-4ef2-bea3-377a0ea47b0b",
   "metadata": {},
   "outputs": [],
   "source": [
    "SettlementLPToken().calc_lp_settlement(lp, tkn, 100)"
   ]
  },
  {
   "cell_type": "code",
   "execution_count": null,
   "id": "63ca6f43-3de5-4de1-8fdf-ba11cdfdf948",
   "metadata": {},
   "outputs": [],
   "source": [
    "RebaseIndexToken().calc_tkn_settlement(lp, dai, 3162.2776601683795)"
   ]
  },
  {
   "cell_type": "code",
   "execution_count": null,
   "id": "1582219f-9e8f-4bca-badd-7637fb629cc2",
   "metadata": {},
   "outputs": [],
   "source": [
    "LPQuote().get_lp_from_amount(lp, dai, 316.2277660168379)"
   ]
  },
  {
   "cell_type": "code",
   "execution_count": null,
   "id": "d03628a2-1a64-4442-89da-782dce6d2029",
   "metadata": {},
   "outputs": [],
   "source": [
    "LPQuote(False).get_amount_from_lp(lp, dai, 1000)"
   ]
  },
  {
   "cell_type": "code",
   "execution_count": null,
   "id": "84b93b8d-97b4-4d4a-b10f-5b87207fbe8e",
   "metadata": {},
   "outputs": [],
   "source": [
    "LPQuote(False).get_amount_from_lp(lp, dai, 1000)"
   ]
  },
  {
   "cell_type": "markdown",
   "id": "008623b1-cc77-4882-b239-ea10ad383e30",
   "metadata": {},
   "source": [
    "#### Uni V3: swapExact0For1 (Correct) "
   ]
  },
  {
   "cell_type": "code",
   "execution_count": null,
   "id": "1d4241af-e188-478d-beb8-6d5226f0913e",
   "metadata": {},
   "outputs": [],
   "source": [
    "from uniswappy import *\n",
    "\n",
    "user_nm = 'user_intro'\n",
    "fee = UniV3Utils.FeeAmount.MEDIUM\n",
    "tick_spacing = UniV3Utils.TICK_SPACINGS[fee]\n",
    "lwr_tick = UniV3Utils.getMinTick(tick_spacing)\n",
    "upr_tick = UniV3Utils.getMaxTick(tick_spacing)\n",
    "init_price = UniV3Utils.encodePriceSqrt(1, 100)\n",
    "\n",
    "tkn = ERC20(\"TKN\", \"0x111\")\n",
    "dai = ERC20(\"DAI\", \"0x09\")\n",
    "\n",
    "exchg_data = UniswapExchangeData(tkn0 = tkn, tkn1 = dai, symbol=\"LP\", \n",
    "                                   address=\"0x011\", version = 'V3', \n",
    "                                   tick_spacing = tick_spacing, \n",
    "                                   fee = fee)\n",
    "\n",
    "factory = UniswapFactory(\"TKN pool factory\", \"0x2\")\n",
    "lp = factory.deploy(exchg_data)\n",
    "lp.initialize(init_price)\n",
    "out_v3 = lp.mint(user_nm, lwr_tick, upr_tick, 3162.2776601683795)\n",
    "lp.summary()\n",
    "\n",
    "out_v3 = RemoveLiquidity().apply(lp, dai, user_nm, 100, lwr_tick, upr_tick)\n",
    "lp.summary()\n",
    "\n",
    "out_v3 = AddLiquidity().apply(lp, dai, user_nm, 100, lwr_tick, upr_tick)\n",
    "lp.summary()\n",
    "\n",
    "out_v2 = Swap().apply(lp, dai, user_nm, 100)\n",
    "lp.summary()\n",
    "\n",
    "out_v3 = WithdrawSwap().apply(lp, dai, user_nm, 100, lwr_tick, upr_tick)\n",
    "lp.summary()\n",
    "\n",
    "#out_v3 = SwapDeposit().apply(lp, dai, user_nm, 100, lwr_tick, upr_tick)\n",
    "#lp.summary()\n",
    "\n",
    "LPQuote(False).get_amount_from_lp(lp, dai, 1000)"
   ]
  },
  {
   "cell_type": "code",
   "execution_count": null,
   "id": "49d28f43-9807-46f5-b35d-784c29601781",
   "metadata": {},
   "outputs": [],
   "source": [
    "SettlementLPToken().calc_lp_settlement(lp, tkn, 100)"
   ]
  },
  {
   "cell_type": "code",
   "execution_count": 1,
   "id": "e9b9a9d7-902c-4de0-aac4-9aaecb5cd53f",
   "metadata": {},
   "outputs": [
    {
     "name": "stdout",
     "output_type": "stream",
     "text": [
      "Exchange TKN-DAI (LP)\n",
      "Real Reserves:   TKN = 31622.776601683792, DAI = 316.22776601683796\n",
      "Liquidity: 3162.2776601683795 \n",
      "\n",
      "Exchange TKN-DAI (LP)\n",
      "Real Reserves:   TKN = 24042.636286982513, DAI = 416.22776601683796\n",
      "Liquidity: 3162.2776601683795 \n",
      "\n",
      "Exchange TKN-DAI (LP)\n",
      "Real Reserves:   TKN = 24042.636286982513, DAI = 316.22776601683796\n",
      "Liquidity: 2755.5045246097507 \n",
      "\n"
     ]
    },
    {
     "data": {
      "text/plain": [
       "406.77313555862895"
      ]
     },
     "execution_count": 1,
     "metadata": {},
     "output_type": "execute_result"
    }
   ],
   "source": [
    "from uniswappy import *\n",
    "\n",
    "user_nm = 'user_intro'\n",
    "fee = UniV3Utils.FeeAmount.MEDIUM\n",
    "tick_spacing = UniV3Utils.TICK_SPACINGS[fee]\n",
    "lwr_tick = UniV3Utils.getMinTick(tick_spacing)\n",
    "upr_tick = UniV3Utils.getMaxTick(tick_spacing)\n",
    "init_price = UniV3Utils.encodePriceSqrt(1, 100)\n",
    "\n",
    "tkn = ERC20(\"TKN\", \"0x111\")\n",
    "dai = ERC20(\"DAI\", \"0x09\")\n",
    "\n",
    "exchg_data = UniswapExchangeData(tkn0 = tkn, tkn1 = dai, symbol=\"LP\", \n",
    "                                   address=\"0x011\", version = 'V3', \n",
    "                                   tick_spacing = tick_spacing, \n",
    "                                   fee = fee)\n",
    "\n",
    "factory = UniswapFactory(\"TKN pool factory\", \"0x2\")\n",
    "lp = factory.deploy(exchg_data)\n",
    "lp.initialize(init_price)\n",
    "out_v3 = lp.mint(user_nm, lwr_tick, upr_tick, 3162.2776601683795)\n",
    "lp.summary()\n",
    "\n",
    "out_v2 = Swap().apply(lp, dai, user_nm, 100)\n",
    "lp.summary()\n",
    "\n",
    "liq_prev = lp.get_liquidity()\n",
    "\n",
    "lp_test = LPQuote(False).get_lp_from_amount(lp, dai, 100)\n",
    "\n",
    "out_v3 = WithdrawSwap().apply(lp, dai, user_nm, 100, lwr_tick, upr_tick)\n",
    "lp.summary()\n",
    "\n",
    "liq_post = lp.get_liquidity()\n",
    "\n",
    "lp_test"
   ]
  },
  {
   "cell_type": "code",
   "execution_count": 2,
   "id": "6bc5633d-e07d-4a46-acfb-7204df2d080e",
   "metadata": {},
   "outputs": [
    {
     "data": {
      "text/plain": [
       "406.77313555862884"
      ]
     },
     "execution_count": 2,
     "metadata": {},
     "output_type": "execute_result"
    }
   ],
   "source": [
    "liq_prev - liq_post"
   ]
  },
  {
   "cell_type": "code",
   "execution_count": null,
   "id": "4c602412-6fd5-4a3f-a404-77eb9efc580b",
   "metadata": {},
   "outputs": [],
   "source": [
    "from uniswappy import *\n",
    "\n",
    "user_nm = 'user_intro'\n",
    "fee = UniV3Utils.FeeAmount.MEDIUM\n",
    "tick_spacing = UniV3Utils.TICK_SPACINGS[fee]\n",
    "lwr_tick = UniV3Utils.getMinTick(tick_spacing)\n",
    "upr_tick = UniV3Utils.getMaxTick(tick_spacing)\n",
    "init_price = UniV3Utils.encodePriceSqrt(1, 100)\n",
    "\n",
    "tkn = ERC20(\"TKN\", \"0x111\")\n",
    "dai = ERC20(\"DAI\", \"0x09\")\n",
    "\n",
    "exchg_data = UniswapExchangeData(tkn0 = tkn, tkn1 = dai, symbol=\"LP\", \n",
    "                                   address=\"0x011\", version = 'V3', \n",
    "                                   tick_spacing = tick_spacing, \n",
    "                                   fee = fee)\n",
    "\n",
    "factory = UniswapFactory(\"TKN pool factory\", \"0x2\")\n",
    "lp = factory.deploy(exchg_data)\n",
    "lp.initialize(init_price)\n",
    "out_v3 = lp.mint(user_nm, lwr_tick, upr_tick, 3162.2776601683795)\n",
    "lp.summary()\n",
    "\n",
    "res_prev = lp.get_reserve(dai)\n",
    "\n",
    "amt_test = LPQuote(False).get_amount_from_lp(lp, dai, 100)\n",
    "\n",
    "out_v3 = WithdrawSwap().apply(lp, dai, user_nm, amt_test, lwr_tick, upr_tick)\n",
    "lp.summary()\n",
    "\n",
    "res_post = lp.get_reserve(dai)\n",
    "\n",
    "amt_test"
   ]
  },
  {
   "cell_type": "code",
   "execution_count": null,
   "id": "eedcfc4b-e50f-4588-adab-ef9457559862",
   "metadata": {},
   "outputs": [],
   "source": [
    "amt_test"
   ]
  },
  {
   "cell_type": "code",
   "execution_count": null,
   "id": "cb430884-6704-4339-ac10-5b1ada915a1c",
   "metadata": {},
   "outputs": [],
   "source": [
    "res_post - res_prev"
   ]
  },
  {
   "cell_type": "code",
   "execution_count": null,
   "id": "f3819a65-b61d-4f7d-a736-c2385823209b",
   "metadata": {},
   "outputs": [],
   "source": [
    "user_nm = 'user_intro'\n",
    "tkn_amount = 31622.776601683792\n",
    "dai_amount = 316.22776601683796\n",
    "\n",
    "tkn = ERC20(\"TKN\", \"0x111\")\n",
    "dai = ERC20(\"DAI\", \"0x09\")\n",
    "exchg_data = UniswapExchangeData(tkn0 = tkn, tkn1 = dai, symbol=\"LP\", address=\"0x011\")\n",
    "\n",
    "factory = UniswapFactory(\"ETH pool factory\", \"0x2\")\n",
    "lp = factory.deploy(exchg_data)\n",
    "lp.add_liquidity(user_nm, tkn_amount, dai_amount, tkn_amount, dai_amount)\n",
    "lp.summary()\n",
    "\n",
    "Swap().apply(lp, dai, user_nm, 100)\n",
    "lp.summary()"
   ]
  },
  {
   "cell_type": "code",
   "execution_count": null,
   "id": "b5bcf564-cece-487b-8c84-62fd1a3bed76",
   "metadata": {},
   "outputs": [],
   "source": [
    "LPQuote(False).get_amount_from_lp(lp, dai, 1000)"
   ]
  },
  {
   "cell_type": "code",
   "execution_count": null,
   "id": "6a07baf4-d36c-4df0-b6bd-e49c37499cc1",
   "metadata": {},
   "outputs": [],
   "source": [
    "LPQuote().get_lp_from_amount(lp, dai, 416.22776601683796)"
   ]
  },
  {
   "cell_type": "code",
   "execution_count": null,
   "id": "6b6b986a-9dde-4db8-aafe-8d425121fc61",
   "metadata": {},
   "outputs": [],
   "source": [
    "sqrt_P = lp.slot0.sqrtPriceX96/2**96\n",
    "liq = lp.get_liquidity()"
   ]
  },
  {
   "cell_type": "code",
   "execution_count": null,
   "id": "fa3ffff1-64b9-4a02-a85f-f205246c2c13",
   "metadata": {},
   "outputs": [],
   "source": [
    "user_nm = 'user_intro'\n",
    "fee = UniV3Utils.FeeAmount.MEDIUM\n",
    "tick_spacing = UniV3Utils.TICK_SPACINGS[fee]\n",
    "lwr_tick = UniV3Utils.getMinTick(tick_spacing)\n",
    "upr_tick = UniV3Utils.getMaxTick(tick_spacing)\n",
    "init_price = UniV3Utils.encodePriceSqrt(1, 100)\n",
    "\n",
    "tkn = ERC20(\"TKN\", \"0x111\")\n",
    "dai = ERC20(\"DAI\", \"0x09\")\n",
    "\n",
    "exchg_data = UniswapExchangeData(tkn0 = tkn, tkn1 = dai, symbol=\"LP\", \n",
    "                                   address=\"0x011\", version = 'V3', \n",
    "                                   tick_spacing = tick_spacing, \n",
    "                                   fee = fee)\n",
    "\n",
    "factory = UniswapFactory(\"TKN pool factory\", \"0x2\")\n",
    "lp = factory.deploy(exchg_data)\n",
    "lp.initialize(init_price)\n",
    "out_v3 = lp.mint(user_nm, lwr_tick, upr_tick, 3162.2776601683795)\n",
    "lp.summary()\n",
    "\n",
    "out_v3 = Swap().apply(lp, dai, user_nm, 100)\n",
    "lp.summary()\n",
    "\n"
   ]
  },
  {
   "cell_type": "code",
   "execution_count": null,
   "id": "9822cabf-bc40-4817-a976-01b7a2e98eb6",
   "metadata": {},
   "outputs": [],
   "source": [
    "L = 1000*10**18\n",
    "sqrt_pa = TickMath.getSqrtRatioAtTick(lwr_tick)\n",
    "sqrt_pb = TickMath.getSqrtRatioAtTick(upr_tick)\n",
    "\n",
    "dx = L*(sqrt_pb-sqrt_pa)/(sqrt_pb*sqrt_pa)\n",
    "dy = L*(sqrt_pb-sqrt_pa)"
   ]
  },
  {
   "cell_type": "code",
   "execution_count": null,
   "id": "4596eafd-b15f-4569-99fd-dbf4298e1193",
   "metadata": {},
   "outputs": [],
   "source": []
  },
  {
   "cell_type": "code",
   "execution_count": null,
   "id": "b71bf176-e0b9-4e38-a543-7aa1b3f62af7",
   "metadata": {},
   "outputs": [],
   "source": [
    "pa = lp.slot0.sqrtPriceX96-lwr_tick\n",
    "pb = lp.slot0.sqrtPriceX96+lwr_tick"
   ]
  },
  {
   "cell_type": "code",
   "execution_count": null,
   "id": "4288f26e-3825-4b5d-81b9-951826ed78b8",
   "metadata": {},
   "outputs": [],
   "source": [
    "dx = 101\n",
    "dy = lp.get_liquidity()**2/dx\n",
    "\n",
    "sqrt_pa = sqrt_P - dx/L\n",
    "sqrt_pb = L*(sqrt_P)/(L - sqrt_P*dy)\n",
    "virt_y = Lx*(sqrt_P - sqrt_pa)\n",
    "sqrt_pb"
   ]
  },
  {
   "cell_type": "code",
   "execution_count": null,
   "id": "383676ca-dcfb-4fa5-ad5b-a33e7aae5e1c",
   "metadata": {},
   "outputs": [],
   "source": [
    "\n",
    "\n",
    "virt_y\n",
    "sqrt_pa"
   ]
  },
  {
   "cell_type": "code",
   "execution_count": null,
   "id": "aac3f73a-6ca2-40b5-bc25-1e9220c1ba2d",
   "metadata": {},
   "outputs": [],
   "source": [
    "lp.reserve0/lp.reserve1"
   ]
  },
  {
   "cell_type": "code",
   "execution_count": null,
   "id": "dda415fd-dbbc-43c2-af49-4482102311aa",
   "metadata": {},
   "outputs": [],
   "source": [
    "lp.get_virtual_reserve(tkn)/lp.get_virtual_reserve(dai)"
   ]
  },
  {
   "cell_type": "code",
   "execution_count": null,
   "id": "e2f002ca-894f-496e-9c90-80028172f42b",
   "metadata": {},
   "outputs": [],
   "source": [
    "amount_in = 1000\n",
    "liq = amount_in*lp.get_liquidity()/lp.get_reserve(tkn)\n",
    "#amount1 = liq*lp.reserve1/lp.total_supply\n",
    "liq"
   ]
  },
  {
   "cell_type": "code",
   "execution_count": null,
   "id": "58d90171-7330-4ac9-af2b-961a206970a9",
   "metadata": {},
   "outputs": [],
   "source": [
    "SettlementLPToken().calc_lp_settlement(lp, dai, 100)"
   ]
  },
  {
   "cell_type": "code",
   "execution_count": null,
   "id": "bc822dd4-fa22-4571-a262-dda74f1effb2",
   "metadata": {},
   "outputs": [],
   "source": [
    "RebaseIndexToken().calc_tkn_settlement(lp, dai, 100)"
   ]
  },
  {
   "cell_type": "code",
   "execution_count": null,
   "id": "ee622aba-a37f-474e-8ebb-25e4b96c6f03",
   "metadata": {},
   "outputs": [],
   "source": [
    "LPQuote().get_lp_from_amount(lp, dai, 100)"
   ]
  },
  {
   "cell_type": "code",
   "execution_count": null,
   "id": "b13f9856-94c2-4dd1-af3c-b772c424d8b9",
   "metadata": {},
   "outputs": [],
   "source": [
    "LPQuote(False).get_amount_from_lp(lp, dai, 1000)"
   ]
  },
  {
   "cell_type": "markdown",
   "id": "8f2073f3-1cb4-4213-9366-680532f2eb81",
   "metadata": {},
   "source": [
    "#### Uni V2: Comparison Check"
   ]
  },
  {
   "cell_type": "code",
   "execution_count": null,
   "id": "64e20bdc-c91f-45ac-a91a-bd576ae3a485",
   "metadata": {},
   "outputs": [],
   "source": [
    "tkn = ERC20(\"TKN\", \"0x111\")\n",
    "dai = ERC20(\"DAI\", \"0x09\")\n",
    "exchg_data = UniswapExchangeData(tkn0 = tkn, tkn1 = dai, symbol=\"LP\", address=\"0x011\")\n",
    "\n",
    "factory = UniswapFactory(\"ETH pool factory\", \"0x2\")\n",
    "lp = factory.deploy(exchg_data)\n",
    "lp.add_liquidity(user, 10000, 1000, 10000, 1000)\n",
    "lp.summary()\n",
    "\n",
    "out_v2 = Swap().apply(lp, tkn, user, 100)\n",
    "lp.summary()\n",
    "\n",
    "uni_test = 'PASS' if round(out_v2,8) == round(abs(out_v3[2]),8)  else 'FAIL'\n",
    "print(f'UniV2 == UniV3 (DAI): {uni_test}')"
   ]
  },
  {
   "cell_type": "markdown",
   "id": "3ca92278-64f2-4ed2-aabb-6cf5102193ed",
   "metadata": {},
   "source": [
    "#### Uni V3: swap0ForExact1 (Correct) "
   ]
  },
  {
   "cell_type": "code",
   "execution_count": null,
   "id": "71b549f9-e878-46b4-9782-0bc78c32443f",
   "metadata": {},
   "outputs": [],
   "source": [
    "user = 'user_intro'\n",
    "fee = UniV3Utils.FeeAmount.MEDIUM\n",
    "tick_spacing = UniV3Utils.TICK_SPACINGS[fee]\n",
    "lwr_tick = UniV3Utils.getMinTick(tick_spacing)\n",
    "upr_tick = UniV3Utils.getMaxTick(tick_spacing)\n",
    "init_price = UniV3Utils.encodePriceSqrt(1, 10)\n",
    "\n",
    "tkn = ERC20(\"TKN\", \"0x111\")\n",
    "dai = ERC20(\"DAI\", \"0x09\")\n",
    "\n",
    "exchg_data = UniswapExchangeData(tkn0 = tkn, tkn1 = dai, symbol=\"LP\", \n",
    "                                   address=\"0x011\", version = 'V3', \n",
    "                                   tick_spacing = tick_spacing, \n",
    "                                   fee = fee)\n",
    "\n",
    "factory = UniswapFactory(\"TKN pool factory\", \"0x2\")\n",
    "lp = factory.deploy(exchg_data)\n",
    "lp.initialize(init_price)\n",
    "out = lp.mint(user, lwr_tick, upr_tick, 3162.2776601683795)\n",
    "lp.summary()\n",
    "\n",
    "out_v3 = lp.swap0ForExact1(user, 100, None)\n",
    "lp.summary()"
   ]
  },
  {
   "cell_type": "markdown",
   "id": "2353f8ce-2f2c-4e13-a9ff-d2fa47aa9817",
   "metadata": {},
   "source": [
    "#### Uni V2: Comparison Check "
   ]
  },
  {
   "cell_type": "code",
   "execution_count": null,
   "id": "8ae514d8-ede3-4de0-929f-e9ffcf71e4d2",
   "metadata": {},
   "outputs": [],
   "source": [
    "tkn = ERC20(\"TKN\", \"0x111\")\n",
    "dai = ERC20(\"DAI\", \"0x09\")\n",
    "exchg_data = UniswapExchangeData(tkn0 = tkn, tkn1 = dai, symbol=\"LP\", address=\"0x011\")\n",
    "\n",
    "factory = UniswapFactory(\"ETH pool factory\", \"0x2\")\n",
    "lp = factory.deploy(exchg_data)\n",
    "lp.add_liquidity(user, 10000, 1000, 10000, 1000)\n",
    "lp.summary()\n",
    "\n",
    "out_v2 = Swap().apply(lp, tkn, user, 1114.4544745347152)\n",
    "lp.summary()\n",
    "\n",
    "uni_test = 'PASS' if round(out_v2,8) == round(abs(out_v3[2]),8)  else 'FAIL'\n",
    "print(f'UniV2 == UniV3 (DAI): {uni_test}')"
   ]
  },
  {
   "cell_type": "markdown",
   "id": "18655a1a-3025-4bba-9a00-2b8afd554eda",
   "metadata": {},
   "source": [
    "#### Uni V3: swapExact1For0 (Correct)"
   ]
  },
  {
   "cell_type": "code",
   "execution_count": null,
   "id": "d1c28482-9f15-4d6b-b5c4-8e70f9dcb7b7",
   "metadata": {},
   "outputs": [],
   "source": [
    "user = 'user_intro'\n",
    "fee = UniV3Utils.FeeAmount.MEDIUM\n",
    "tick_spacing = UniV3Utils.TICK_SPACINGS[fee]\n",
    "lwr_tick = UniV3Utils.getMinTick(tick_spacing)\n",
    "upr_tick = UniV3Utils.getMaxTick(tick_spacing)\n",
    "init_price = UniV3Utils.encodePriceSqrt(1, 10)\n",
    "\n",
    "tkn = ERC20(\"TKN\", \"0x111\")\n",
    "dai = ERC20(\"DAI\", \"0x09\")\n",
    "\n",
    "exchg_data = UniswapExchangeData(tkn0 = tkn, tkn1 = dai, symbol=\"LP\", \n",
    "                                   address=\"0x011\", version = 'V3', \n",
    "                                   tick_spacing = tick_spacing, \n",
    "                                   fee = fee)\n",
    "\n",
    "factory = UniswapFactory(\"TKN pool factory\", \"0x2\")\n",
    "lp = factory.deploy(exchg_data)\n",
    "lp.initialize(init_price)\n",
    "out = lp.mint(user, lwr_tick, upr_tick, 3162.2776601683795)\n",
    "lp.summary()\n",
    "\n",
    "out_v3 = lp.swapExact1For0(user, 100, None)\n",
    "lp.summary()"
   ]
  },
  {
   "cell_type": "markdown",
   "id": "80da25f2-3f35-4ffa-89b7-c561ac25d3a4",
   "metadata": {},
   "source": [
    "#### Uni V2: Comparison Check"
   ]
  },
  {
   "cell_type": "code",
   "execution_count": null,
   "id": "17ff1c9a-f691-47b7-bede-9490ec22550c",
   "metadata": {},
   "outputs": [],
   "source": [
    "tkn = ERC20(\"TKN\", \"0x111\")\n",
    "dai = ERC20(\"DAI\", \"0x09\")\n",
    "exchg_data = UniswapExchangeData(tkn0 = tkn, tkn1 = dai, symbol=\"LP\", address=\"0x011\")\n",
    "\n",
    "factory = UniswapFactory(\"ETH pool factory\", \"0x2\")\n",
    "lp = factory.deploy(exchg_data)\n",
    "lp.add_liquidity(user, 10000, 1000, 10000, 1000)\n",
    "lp.summary()\n",
    "\n",
    "out_2 = Swap().apply(lp, dai, user, 100)\n",
    "lp.summary()\n",
    "\n",
    "uni_test = 'PASS' if round(out_v2,8) == round(abs(out_v3[2]),8)  else 'FAIL'\n",
    "print(f'UniV2 == UniV3 (TKN): {uni_test}')"
   ]
  },
  {
   "cell_type": "markdown",
   "id": "a2b45092-0daf-4499-a142-e4e66ab30c90",
   "metadata": {},
   "source": [
    "#### Uni V3: swap1ForExact0 (Correct)"
   ]
  },
  {
   "cell_type": "code",
   "execution_count": null,
   "id": "94590b38-1639-43b6-96c0-1490733dc55b",
   "metadata": {},
   "outputs": [],
   "source": [
    "user = 'user_intro'\n",
    "fee = UniV3Utils.FeeAmount.MEDIUM\n",
    "tick_spacing = UniV3Utils.TICK_SPACINGS[fee]\n",
    "lwr_tick = UniV3Utils.getMinTick(tick_spacing)\n",
    "upr_tick = UniV3Utils.getMaxTick(tick_spacing)\n",
    "init_price = UniV3Utils.encodePriceSqrt(1, 10)\n",
    "\n",
    "tkn = ERC20(\"TKN\", \"0x111\")\n",
    "dai = ERC20(\"DAI\", \"0x09\")\n",
    "\n",
    "exchg_data = UniswapExchangeData(tkn0 = tkn, tkn1 = dai, symbol=\"LP\", \n",
    "                                   address=\"0x011\", version = 'V3', \n",
    "                                   tick_spacing = tick_spacing, \n",
    "                                   fee = fee)\n",
    "\n",
    "factory = UniswapFactory(\"TKN pool factory\", \"0x2\")\n",
    "lp = factory.deploy(exchg_data)\n",
    "lp.initialize(init_price)\n",
    "out = lp.mint(user, lwr_tick, upr_tick, 3162.2776601683795)\n",
    "lp.summary()\n",
    "\n",
    "out_v3 = lp.swap1ForExact0(user, 100, None)\n",
    "lp.summary()"
   ]
  },
  {
   "cell_type": "markdown",
   "id": "5f62e920-ddb7-499e-8fbd-6514884ced51",
   "metadata": {},
   "source": [
    "#### Uni V2: Comparison Check"
   ]
  },
  {
   "cell_type": "code",
   "execution_count": null,
   "id": "54302b00-3cce-426d-852c-e8c15a1e0a84",
   "metadata": {},
   "outputs": [],
   "source": [
    "tkn = ERC20(\"TKN\", \"0x111\")\n",
    "dai = ERC20(\"DAI\", \"0x09\")\n",
    "exchg_data = UniswapExchangeData(tkn0 = tkn, tkn1 = dai, symbol=\"LP\", address=\"0x011\")\n",
    "\n",
    "factory = UniswapFactory(\"ETH pool factory\", \"0x2\")\n",
    "lp = factory.deploy(exchg_data)\n",
    "lp.add_liquidity(user, 10000, 1000, 10000, 1000)\n",
    "lp.summary()\n",
    "\n",
    "out_v2 = Swap().apply(lp, dai, user, 10.131404313952)\n",
    "lp.summary()\n",
    "\n",
    "uni_test = 'PASS' if round(out_v2,8) == round(abs(out_v3[1]),8)  else 'FAIL'\n",
    "print(f'UniV2 == UniV3 (TKN): {uni_test}')"
   ]
  }
 ],
 "metadata": {
  "kernelspec": {
   "display_name": "py3",
   "language": "python",
   "name": "py3"
  },
  "language_info": {
   "codemirror_mode": {
    "name": "ipython",
    "version": 3
   },
   "file_extension": ".py",
   "mimetype": "text/x-python",
   "name": "python",
   "nbconvert_exporter": "python",
   "pygments_lexer": "ipython3",
   "version": "3.10.0rc2"
  }
 },
 "nbformat": 4,
 "nbformat_minor": 5
}
