{
 "cells": [
  {
   "cell_type": "code",
   "execution_count": 277,
   "id": "50001cd7-8138-4c8c-a5b7-213baa0b2257",
   "metadata": {},
   "outputs": [],
   "source": [
    "from uniswappy import *\n",
    "import pandas as pd\n",
    "from scipy import optimize\n",
    "import copy\n",
    "import matplotlib.pyplot as plt\n",
    "\n",
    "user_nm = MockAddress().apply()\n",
    "eth_amount = 10000\n",
    "tkn_amount = 100000\n",
    "\n",
    "fee = UniV3Utils.FeeAmount.MEDIUM\n",
    "tick_spacing = UniV3Utils.TICK_SPACINGS[fee]\n",
    "lwr_tick = UniV3Utils.getMinTick(tick_spacing)\n",
    "upr_tick = UniV3Utils.getMaxTick(tick_spacing)"
   ]
  },
  {
   "cell_type": "code",
   "execution_count": 2,
   "id": "b0f8222e-6d44-4ed8-98a4-0208bd936516",
   "metadata": {},
   "outputs": [],
   "source": [
    "def calc_Lx(sqrtP, dx, lwr_tick, upr_tick):\n",
    "    pa_sqrt_human = TickMath.getSqrtRatioAtTick(lwr_tick)/2**96\n",
    "    pb_sqrt_human = TickMath.getSqrtRatioAtTick(upr_tick)/2**96 \n",
    "    p_sqrt_human = sqrtP\n",
    "    Lx = dx/(1/p_sqrt_human - 1/pb_sqrt_human)\n",
    "    return Lx\n",
    "\n",
    "def calc_Ly(sqrtP, dy, lwr_tick, upr_tick):\n",
    "    pa_sqrt_human = TickMath.getSqrtRatioAtTick(lwr_tick)/2**96\n",
    "    pb_sqrt_human = TickMath.getSqrtRatioAtTick(upr_tick)/2**96 \n",
    "    p_sqrt_human = sqrtP\n",
    "    Ly = dy/(p_sqrt_human - pa_sqrt_human)\n",
    "    return Ly\n",
    "\n",
    "def calc_y(lp, dL, lwr_tick, upr_tick):\n",
    "    pa_sqrt_human = TickMath.getSqrtRatioAtTick(lwr_tick)/2**96\n",
    "    pb_sqrt_human = TickMath.getSqrtRatioAtTick(upr_tick)/2**96 \n",
    "    p_sqrt_human = lp.slot0.sqrtPriceX96/2**96\n",
    "    dy = dL*(p_sqrt_human - pa_sqrt_human)\n",
    "    #y = dL*(pb_sqrt_human - pa_sqrt_human)\n",
    "    return dy\n",
    "\n",
    "def calc_x(lp, dL, lwr_tick, upr_tick):\n",
    "    pa_sqrt_human = TickMath.getSqrtRatioAtTick(lwr_tick)/2**96\n",
    "    pb_sqrt_human = TickMath.getSqrtRatioAtTick(upr_tick)/2**96 \n",
    "    p_sqrt_human = lp.slot0.sqrtPriceX96/2**96\n",
    "    dx = dL*(1/p_sqrt_human - 1/pb_sqrt_human)\n",
    "    #x = dL*(1/p_sqrt_human - 1/pb_sqrt_human)\n",
    "    return dx\n",
    "\n",
    "def price_to_tick(p):\n",
    "    return math.floor(math.log(p, 1.0001))"
   ]
  },
  {
   "cell_type": "code",
   "execution_count": 287,
   "id": "0610a78a-0b3e-4349-93f7-b10d08ec0f0c",
   "metadata": {},
   "outputs": [],
   "source": [
    "def calc_lp_settlement(lp, token_in, itkn_amt, lwr_tick, upr_tick):\n",
    "\n",
    "    L = lp.get_liquidity()\n",
    "    if(token_in.token_name == lp.token0):\n",
    "        sqrtp_cur = lp.slot0.sqrtPriceX96/2**96\n",
    "        sqrtp_pa = TickMath.getSqrtRatioAtTick(lwr_tick)/2**96\n",
    "        sqrtp_pb = TickMath.getSqrtRatioAtTick(upr_tick)/2**96 \n",
    "        dPy = (sqrtp_cur - sqrtp_pa)\n",
    "        dPx = (1/sqrtp_cur - 1/sqrtp_pb)          \n",
    "    elif(token_in.token_name == lp.token1):\n",
    "        sqrtp_cur = 2**96/lp.slot0.sqrtPriceX96\n",
    "        sqrtp_pa = 2**96/TickMath.getSqrtRatioAtTick(lwr_tick)\n",
    "        sqrtp_pb = 2**96/TickMath.getSqrtRatioAtTick(upr_tick)\n",
    "        dPx = (1/sqrtp_cur - 1/sqrtp_pa)\n",
    "        dPy = (sqrtp_cur - sqrtp_pb)\n",
    "\n",
    "    fee = 997\n",
    "    a = fee*dPy*sqrtp_cur*dPx - 1000*dPx*(sqrtp_cur**2) - fee*dPy  \n",
    "    b = -fee*dPy*sqrtp_cur*itkn_amt + 1000*itkn_amt*(sqrtp_cur**2) + L*fee*dPy + 1000*L*dPx*(sqrtp_cur**2)\n",
    "    c = -1000*L*itkn_amt*(sqrtp_cur**2)\n",
    "\n",
    "    return (-b + math.sqrt(b*b - 4*a*c)) / (2*a)\n",
    "\n",
    "def calc_tkn_settlement(lp, token_in, dL, lwr_tick, upr_tick):\n",
    "            \n",
    "    L = lp.get_liquidity()\n",
    "    if(token_in.token_name == lp.token0):\n",
    "        sqrtp_cur = lp.slot0.sqrtPriceX96/2**96\n",
    "        sqrtp_pa = TickMath.getSqrtRatioAtTick(lwr_tick)/2**96\n",
    "        sqrtp_pb = TickMath.getSqrtRatioAtTick(upr_tick)/2**96 \n",
    "        dPy = (sqrtp_cur - sqrtp_pa)\n",
    "        dPx = (1/sqrtp_cur - 1/sqrtp_pb)          \n",
    "    elif(token_in.token_name == lp.token1):\n",
    "        sqrtp_cur = 2**96/lp.slot0.sqrtPriceX96\n",
    "        sqrtp_pa = 2**96/TickMath.getSqrtRatioAtTick(lwr_tick)\n",
    "        sqrtp_pb = 2**96/TickMath.getSqrtRatioAtTick(upr_tick)\n",
    "        dPx = (1/sqrtp_cur - 1/sqrtp_pa)\n",
    "        dPy = (sqrtp_cur - sqrtp_pb)\n",
    "\n",
    "    dAmt = dL*dPx\n",
    "    \n",
    "    L_diff = (L - dL) \n",
    "    sqrtp_next = sqrtp_cur + (997*dy)/(L_diff*1000) \n",
    "    return dAmt + L_diff * (1/sqrtp_cur - 1/sqrtp_next)\n",
    "\n",
    "def quote(lp, token_in, amt_tkn):\n",
    "    \n",
    "    fee = 997 \n",
    "    L = lp.get_liquidity()\n",
    "    if(token_in.token_name == lp.token0):\n",
    "        sqrtp_cur = 2**96/lp.slot0.sqrtPriceX96\n",
    "        sqrtp_pa = 2**96/TickMath.getSqrtRatioAtTick(lwr_tick)\n",
    "        sqrtp_pb = 2**96/TickMath.getSqrtRatioAtTick(upr_tick)       \n",
    "    elif(token_in.token_name == lp.token1):\n",
    "        sqrtp_cur = lp.slot0.sqrtPriceX96/2**96\n",
    "        sqrtp_pa = TickMath.getSqrtRatioAtTick(lwr_tick)/2**96\n",
    "        sqrtp_pb = TickMath.getSqrtRatioAtTick(upr_tick)/2**96 \n",
    " \n",
    "    sqrtp_next = sqrtp_cur + (fee*amt_tkn) / (L*1000)\n",
    "    return L * (1/sqrtp_cur - 1/sqrtp_next), sqrtp_next\n",
    "\n",
    "def calc_deposit_portion(lp, token_in, amt_in):\n",
    "\n",
    "    L = lp.get_liquidity()\n",
    "\n",
    "    if(token_in.token_name == lp.token0):\n",
    "        sqrtp_cur = 2**96/lp.slot0.sqrtPriceX96\n",
    "        sqrtp_pa = 2**96/TickMath.getSqrtRatioAtTick(lwr_tick)\n",
    "        sqrtp_pb = 2**96/TickMath.getSqrtRatioAtTick(upr_tick)  \n",
    "        sqrtp_next = sqrtp_cur + (997*amt_in*0.5) / (L*1000)\n",
    "    elif(token_in.token_name == lp.token1):\n",
    "        sqrtp_cur = lp.slot0.sqrtPriceX96/2**96\n",
    "        sqrtp_pa = TickMath.getSqrtRatioAtTick(lwr_tick)/2**96\n",
    "        sqrtp_pb = TickMath.getSqrtRatioAtTick(upr_tick)/2**96      \n",
    "        sqrtp_next = sqrtp_cur + (997*amt_in*0.5) / (L*1000)\n",
    "        \n",
    "    dPy = (sqrtp_next - sqrtp_pa)\n",
    "    dPx = (1/sqrtp_next - 1/sqrtp_pb)     \n",
    "\n",
    "    A = L/(dPx*amt_in)\n",
    "    B = 997*amt_in\n",
    "    C = 1000*L\n",
    "    D = 1000*L*(sqrtp_cur-sqrtp_pa)\n",
    "    \n",
    "    a = -A*B*B - B*C*sqrtp_cur\n",
    "    b = -C*C*sqrtp_cur*sqrtp_cur - A*B*D + B*C*sqrtp_cur\n",
    "    c = C*C*sqrtp_cur*sqrtp_cur\n",
    "    \n",
    "    alpha = (-b - math.sqrt(b*b - 4*a*c)) / (2*a)\n",
    "    return alpha"
   ]
  },
  {
   "cell_type": "code",
   "execution_count": 520,
   "id": "4c3ae3e3-6b27-4a34-891d-38192c70230b",
   "metadata": {},
   "outputs": [
    {
     "name": "stdout",
     "output_type": "stream",
     "text": [
      "Exchange ETH-TKN (LP)\n",
      "Real Reserves:   ETH = 967.0469739529013, TKN = 10000.0\n",
      "Gross Liquidity: 64403.320664241655 \n",
      "\n",
      "lwr_tick 22020, cur_tick 23027, upr_tick 24000\n"
     ]
    }
   ],
   "source": [
    "import math\n",
    "\n",
    "eth = ERC20(\"ETH\", \"0x09\")\n",
    "tkn = ERC20(\"TKN\", \"0x111\")\n",
    "init_price = UniV3Utils.encodePriceSqrt(10, 1)\n",
    "\n",
    "exchg_data = UniswapExchangeData(tkn0 = eth, tkn1 = tkn, symbol=\"LP\", \n",
    "                                   address=\"0x011\", version = 'V3', \n",
    "                                   tick_spacing = tick_spacing, \n",
    "                                   fee = fee)\n",
    "\n",
    "factory = UniswapFactory(\"ETH pool factory\", \"0x2\")\n",
    "lp = factory.deploy(exchg_data)\n",
    "\n",
    "tick_gap = 1000\n",
    "\n",
    "lwr_tick = lp.get_tick_price(-1, 10, tick_gap)\n",
    "upr_tick = lp.get_tick_price(1, 10, tick_gap)\n",
    "\n",
    "sqrtP =  math.sqrt(10)\n",
    "Ly = calc_Ly(sqrtP, 10000, lwr_tick, upr_tick)\n",
    "Lx = calc_Lx(sqrtP, 1000, lwr_tick, upr_tick)\n",
    "\n",
    "lp.initialize(init_price)\n",
    "out = lp.mint(user_nm, lwr_tick, upr_tick, Ly)    #3162.2776601683795\n",
    "lp.summary()\n",
    "\n",
    "lwr_tick = lp.get_tick_price(-1, lp.get_price(eth), tick_gap)\n",
    "upr_tick = lp.get_tick_price(1, lp.get_price(eth), tick_gap)\n",
    "\n",
    "amount_out = 1000\n",
    "Lx = calc_Lx(sqrtP, amount_out, lwr_tick, upr_tick)\n",
    "Ly = calc_Ly(sqrtP, amount_out, lwr_tick, upr_tick)\n",
    "#p_out = calc_withdraw_portion(lp, tkn, amount_out, lwr_tick, upr_tick)\n",
    "\n",
    "print(f'lwr_tick {lwr_tick}, cur_tick {price_to_tick(lp.get_price(eth))}, upr_tick {upr_tick}')\n",
    "\n",
    "#dL_calc = calc_lp_settlement(lp, tkn, amount_out, lwr_tick, upr_tick)"
   ]
  },
  {
   "cell_type": "code",
   "execution_count": 521,
   "id": "61b57d30-ac17-4b66-a5a2-8fb6ce505c19",
   "metadata": {},
   "outputs": [
    {
     "name": "stdout",
     "output_type": "stream",
     "text": [
      "51.48411018857578 ETH and 482.5573283632727 TKN added\n"
     ]
    },
    {
     "data": {
      "text/plain": [
       "99.9999999822102"
      ]
     },
     "execution_count": 521,
     "metadata": {},
     "output_type": "execute_result"
    }
   ],
   "source": [
    "amt_eth1 = 100\n",
    "alpha = opt_deposit_portion(lp, eth, amt_eth1, lwr_tick, upr_tick)\n",
    "\n",
    "swap_in = amt_eth1*alpha\n",
    "amt_tkn1, sqrtp_cur  = quote(lp, eth, swap_in)\n",
    "sqrtp_cur = 1/sqrtp_cur\n",
    "sqrtp_pa = TickMath.getSqrtRatioAtTick(lwr_tick)/2**96\n",
    "sqrtp_pb = TickMath.getSqrtRatioAtTick(upr_tick)/2**96\n",
    "dPy = (sqrtp_cur - sqrtp_pa)\n",
    "dPx = (1/sqrtp_cur - 1/sqrtp_pb) \n",
    "\n",
    "dL = amt_tkn1/dPy\n",
    "\n",
    "#Lx = dx/(1/p_sqrt_human - 1/pb_sqrt_human)\n",
    "#Ly = dy/(p_sqrt_human - pa_sqrt_human)\n",
    " \n",
    "dy = dL*dPy\n",
    "dx = dL*dPx\n",
    "print(f'{dx} ETH and {dy} TKN added')\n",
    "swap_in + dx"
   ]
  },
  {
   "cell_type": "code",
   "execution_count": 522,
   "id": "4335d5be-a453-4ec4-b494-f8c222f8d3aa",
   "metadata": {},
   "outputs": [
    {
     "name": "stdout",
     "output_type": "stream",
     "text": [
      "46.671161213457 ETH and 530.8088377136537 TKN added\n"
     ]
    },
    {
     "data": {
      "text/plain": [
       "999.9999999902011"
      ]
     },
     "execution_count": 522,
     "metadata": {},
     "output_type": "execute_result"
    }
   ],
   "source": [
    "amt_tkn1 = 1000\n",
    "alpha = opt_deposit_portion(lp, tkn, amt_tkn1, lwr_tick, upr_tick)\n",
    "\n",
    "swap_in = amt_tkn1*alpha\n",
    "amt_tkn0, sqrtp_cur  = quote(lp, tkn, swap_in)\n",
    "\n",
    "sqrtp_pa = TickMath.getSqrtRatioAtTick(lwr_tick)/2**96\n",
    "sqrtp_pb = TickMath.getSqrtRatioAtTick(upr_tick)/2**96 \n",
    "dPy = (sqrtp_cur - sqrtp_pa)\n",
    "dPx = (1/sqrtp_cur - 1/sqrtp_pb) \n",
    "\n",
    "dL = amt_tkn0/dPx\n",
    " \n",
    "dy = dL*dPy\n",
    "dx = dL*dPx\n",
    "print(f'{dx} ETH and {dy} TKN added')\n",
    "\n",
    "swap_in + dy"
   ]
  },
  {
   "cell_type": "code",
   "execution_count": 517,
   "id": "9228c4bc-20bb-4be7-888e-5db003adaa36",
   "metadata": {},
   "outputs": [],
   "source": [
    "def opt_deposit_portion(lp, tkn, amt_tkn_in, lwr_tick, upr_tick):\n",
    "    bnds = [(0.35, 0.65)]\n",
    "    opt_tol = 1e-8\n",
    "    res = optimize.minimize(obj_func, x0 = 0.5, bounds=bnds, \n",
    "                            args=(amt_tkn_in, lp, tkn, lwr_tick, upr_tick), \n",
    "                            method='Nelder-Mead', tol=opt_tol)\n",
    "    return res.x[0]\n",
    "\n",
    "def obj_func(alpha, amt_tkn_in, lp, token_in, lwr_tick, upr_tick):\n",
    "    opt_tol = 1e-8         \n",
    "    swap_in = amt_tkn_in*alpha\n",
    "    amt_tkn0, sqrtp_cur  = quote(lp, token_in, swap_in)\n",
    "    sqrtp_pa = TickMath.getSqrtRatioAtTick(lwr_tick)/2**96\n",
    "    sqrtp_pb = TickMath.getSqrtRatioAtTick(upr_tick)/2**96    \n",
    "    \n",
    "    if(token_in.token_name == lp.token0):\n",
    "        sqrtp_cur = 1/sqrtp_cur\n",
    "        \n",
    "    dPy = (sqrtp_cur - sqrtp_pa)\n",
    "    dPx = (1/sqrtp_cur - 1/sqrtp_pb) \n",
    "    \n",
    "    if(token_in.token_name == lp.token0):\n",
    "        dL = amt_tkn0/dPy \n",
    "        amt_deposit = dL*dPx\n",
    "    elif(token_in.token_name == lp.token1): \n",
    "        dL = amt_tkn0/dPx \n",
    "        amt_deposit = dL*dPy\n",
    "    \n",
    "    diff = amt_tkn_in - (swap_in + amt_deposit) \n",
    "    \n",
    "    \n",
    "    return abs(diff)+opt_tol"
   ]
  },
  {
   "cell_type": "code",
   "execution_count": 6,
   "id": "4d989768-5989-4444-8d27-4cc9b7e068d0",
   "metadata": {},
   "outputs": [],
   "source": [
    "amt_in = 999.9996370541235"
   ]
  },
  {
   "cell_type": "code",
   "execution_count": 151,
   "id": "2b110974-c26c-46b8-becc-0c9a8ac4c901",
   "metadata": {},
   "outputs": [
    {
     "data": {
      "text/plain": [
       "0.469191"
      ]
     },
     "execution_count": 151,
     "metadata": {},
     "output_type": "execute_result"
    }
   ],
   "source": [
    "(amt_in - dy)/amt_tkn1"
   ]
  },
  {
   "cell_type": "code",
   "execution_count": 152,
   "id": "c98a94a4-c010-4cf7-b56d-16623c67e9d7",
   "metadata": {},
   "outputs": [
    {
     "data": {
      "text/plain": [
       "0.469191"
      ]
     },
     "execution_count": 152,
     "metadata": {},
     "output_type": "execute_result"
    }
   ],
   "source": [
    "(amt_in - dL*dPy)/amt_tkn1"
   ]
  },
  {
   "cell_type": "code",
   "execution_count": 153,
   "id": "70e04c4d-6fb7-4436-a317-012ec17f9814",
   "metadata": {},
   "outputs": [
    {
     "data": {
      "text/plain": [
       "0.469191"
      ]
     },
     "execution_count": 153,
     "metadata": {},
     "output_type": "execute_result"
    }
   ],
   "source": [
    "(amt_in - dL*(sqrtp_cur - sqrtp_pa))/amt_tkn1"
   ]
  },
  {
   "cell_type": "code",
   "execution_count": 154,
   "id": "0965ddc4-b207-420c-b66c-b4608f7c64fc",
   "metadata": {},
   "outputs": [
    {
     "data": {
      "text/plain": [
       "0.469191"
      ]
     },
     "execution_count": 154,
     "metadata": {},
     "output_type": "execute_result"
    }
   ],
   "source": [
    "swap_in = amt_tkn1*alpha\n",
    "\n",
    "L = lp.get_liquidity()\n",
    "sqrtp_cur = lp.slot0.sqrtPriceX96/2**96\n",
    "sqrtp_pa = TickMath.getSqrtRatioAtTick(lwr_tick)/2**96\n",
    "sqrtp_pb = TickMath.getSqrtRatioAtTick(upr_tick)/2**96 \n",
    "\n",
    "sqrtp_next = sqrtp_cur + (997*swap_in) / (L*1000)\n",
    "(amt_in - dL*(sqrtp_next - sqrtp_pa))/amt_tkn1"
   ]
  },
  {
   "cell_type": "code",
   "execution_count": 11,
   "id": "24d71a98-550b-4cdf-bf69-25d9cc38d7cc",
   "metadata": {},
   "outputs": [
    {
     "data": {
      "text/plain": [
       "0.46919136294587654"
      ]
     },
     "execution_count": 11,
     "metadata": {},
     "output_type": "execute_result"
    }
   ],
   "source": [
    "dy = 1000\n",
    "swap_in = dy*alpha\n",
    "\n",
    "L = lp.get_liquidity()\n",
    "sqrtp_cur = lp.slot0.sqrtPriceX96/2**96\n",
    "sqrtp_pa = TickMath.getSqrtRatioAtTick(lwr_tick)/2**96\n",
    "sqrtp_pb = TickMath.getSqrtRatioAtTick(upr_tick)/2**96 \n",
    "\n",
    "sqrtp_next = sqrtp_cur + (997*dy*alpha) / (L*1000)\n",
    "(dy - dL*(sqrtp_next - sqrtp_pa))/dy"
   ]
  },
  {
   "cell_type": "code",
   "execution_count": 12,
   "id": "fd9cce18-2e41-4967-9df0-f8315ca69efb",
   "metadata": {},
   "outputs": [
    {
     "data": {
      "text/plain": [
       "3265.8144966362984"
      ]
     },
     "execution_count": 12,
     "metadata": {},
     "output_type": "execute_result"
    }
   ],
   "source": [
    "L = lp.get_liquidity()\n",
    "sqrtp_cur = lp.slot0.sqrtPriceX96/2**96\n",
    "sqrtp_pa = TickMath.getSqrtRatioAtTick(lwr_tick)/2**96\n",
    "sqrtp_pb = TickMath.getSqrtRatioAtTick(upr_tick)/2**96\n",
    "\n",
    "sqrtp_next = sqrtp_cur + (997*dy*alpha) / (L*1000)\n",
    "dPy = (sqrtp_next - sqrtp_pa)\n",
    "dPx = (1/sqrtp_next - 1/sqrtp_pb) \n",
    "\n",
    "dL = L * (1/sqrtp_cur - 1/ (sqrtp_cur + (997*swap_in) / (L*1000)) )/dPx\n",
    "dL"
   ]
  },
  {
   "cell_type": "code",
   "execution_count": 13,
   "id": "ab0ec13e-5b41-4572-8825-ba81319a317d",
   "metadata": {},
   "outputs": [
    {
     "data": {
      "text/plain": [
       "3265.8144966362984"
      ]
     },
     "execution_count": 13,
     "metadata": {},
     "output_type": "execute_result"
    }
   ],
   "source": [
    "L = lp.get_liquidity()\n",
    "sqrtp_cur = lp.slot0.sqrtPriceX96/2**96\n",
    "sqrtp_pa = TickMath.getSqrtRatioAtTick(lwr_tick)/2**96\n",
    "sqrtp_pb = TickMath.getSqrtRatioAtTick(upr_tick)/2**96\n",
    "\n",
    "sqrtp_next = sqrtp_cur + (997*dy*alpha) / (L*1000)\n",
    "dPy = (sqrtp_next - sqrtp_pa)\n",
    "dPx = (1/sqrtp_next - 1/sqrtp_pb) \n",
    "\n",
    "dL = (L/dPx) * (1/sqrtp_cur - 1/ (sqrtp_cur + (997*swap_in) / (L*1000)) )\n",
    "dL"
   ]
  },
  {
   "cell_type": "code",
   "execution_count": 14,
   "id": "016a5762-3f9c-4d72-9cbe-885f25119855",
   "metadata": {},
   "outputs": [
    {
     "data": {
      "text/plain": [
       "0.469191"
      ]
     },
     "execution_count": 14,
     "metadata": {},
     "output_type": "execute_result"
    }
   ],
   "source": [
    "L = lp.get_liquidity()\n",
    "sqrtp_cur = lp.slot0.sqrtPriceX96/2**96\n",
    "sqrtp_pa = TickMath.getSqrtRatioAtTick(lwr_tick)/2**96\n",
    "sqrtp_pb = TickMath.getSqrtRatioAtTick(upr_tick)/2**96\n",
    "\n",
    "sqrtp_next = sqrtp_cur + (997*swap_in) / (L*1000)\n",
    "amt_tkn0 = L * (1/sqrtp_cur - 1/sqrtp_next)\n",
    "dL = amt_tkn0/dPx\n",
    "\n",
    "(amt_in - dL*((sqrtp_cur + (997*amt_tkn1*alpha) / (L*1000)) - sqrtp_pa))/amt_tkn1"
   ]
  },
  {
   "cell_type": "code",
   "execution_count": 15,
   "id": "b5471adf-9404-472a-bcf7-36a3ae31410f",
   "metadata": {},
   "outputs": [
    {
     "data": {
      "text/plain": [
       "0.469191"
      ]
     },
     "execution_count": 15,
     "metadata": {},
     "output_type": "execute_result"
    }
   ],
   "source": [
    "L = lp.get_liquidity()\n",
    "sqrtp_cur = lp.slot0.sqrtPriceX96/2**96\n",
    "sqrtp_pa = TickMath.getSqrtRatioAtTick(lwr_tick)/2**96\n",
    "sqrtp_pb = TickMath.getSqrtRatioAtTick(upr_tick)/2**96\n",
    "\n",
    "dL = L * (1/sqrtp_cur - 1/ (sqrtp_cur + (997*swap_in) / (L*1000)) )/dPx\n",
    "\n",
    "(amt_in - dL*((sqrtp_cur + (997*amt_tkn1*alpha) / (L*1000)) - sqrtp_pa))/amt_tkn1"
   ]
  },
  {
   "cell_type": "code",
   "execution_count": 16,
   "id": "e3c5f422-ea6c-44e6-849a-6adb136054b4",
   "metadata": {},
   "outputs": [
    {
     "data": {
      "text/plain": [
       "0.4691910000000407"
      ]
     },
     "execution_count": 16,
     "metadata": {},
     "output_type": "execute_result"
    }
   ],
   "source": [
    "L = lp.get_liquidity()\n",
    "sqrtp_cur = lp.slot0.sqrtPriceX96/2**96\n",
    "sqrtp_pa = TickMath.getSqrtRatioAtTick(lwr_tick)/2**96\n",
    "sqrtp_pb = TickMath.getSqrtRatioAtTick(upr_tick)/2**96\n",
    "\n",
    "sqrtp_next = sqrtp_cur + (997*dy*alpha) / (L*1000)\n",
    "dPy = (sqrtp_next - sqrtp_pa)\n",
    "dPx = (1/sqrtp_next - 1/sqrtp_pb) \n",
    "\n",
    "dL = (L/dPx) * (1/sqrtp_cur - L*1000/ (L*1000*sqrtp_cur + 997*amt_tkn1*alpha))\n",
    "\n",
    "(amt_in - dL*((sqrtp_cur + (997*amt_tkn1*alpha) / (L*1000)) - sqrtp_pa))/amt_tkn1"
   ]
  },
  {
   "cell_type": "code",
   "execution_count": 17,
   "id": "5571bda7-ef64-4391-b1fd-26a6533fdec4",
   "metadata": {},
   "outputs": [
    {
     "data": {
      "text/plain": [
       "0.4691910000000407"
      ]
     },
     "execution_count": 17,
     "metadata": {},
     "output_type": "execute_result"
    }
   ],
   "source": [
    "L = lp.get_liquidity()\n",
    "sqrtp_cur = lp.slot0.sqrtPriceX96/2**96\n",
    "sqrtp_pa = TickMath.getSqrtRatioAtTick(lwr_tick)/2**96\n",
    "sqrtp_pb = TickMath.getSqrtRatioAtTick(upr_tick)/2**96\n",
    "\n",
    "sqrtp_next = sqrtp_cur + (997*dy*alpha) / (L*1000)\n",
    "dPy = (sqrtp_next - sqrtp_pa)\n",
    "dPx = (1/sqrtp_next - 1/sqrtp_pb) \n",
    "\n",
    "dL = (L/dPx) * (1/sqrtp_cur - L*1000/ (L*1000*sqrtp_cur + 997*amt_tkn1*alpha))\n",
    "\n",
    "(amt_in - dL*((sqrtp_cur + (997*amt_tkn1*alpha) / (L*1000)) - sqrtp_pa))/amt_tkn1"
   ]
  },
  {
   "cell_type": "code",
   "execution_count": 18,
   "id": "349eb757-df1c-4c1c-b87c-7895e77f50cf",
   "metadata": {},
   "outputs": [
    {
     "data": {
      "text/plain": [
       "0.4691910000000407"
      ]
     },
     "execution_count": 18,
     "metadata": {},
     "output_type": "execute_result"
    }
   ],
   "source": [
    "L = lp.get_liquidity()\n",
    "sqrtp_cur = lp.slot0.sqrtPriceX96/2**96\n",
    "sqrtp_pa = TickMath.getSqrtRatioAtTick(lwr_tick)/2**96\n",
    "sqrtp_pb = TickMath.getSqrtRatioAtTick(upr_tick)/2**96\n",
    "\n",
    "sqrtp_next = sqrtp_cur + (997*dy*alpha) / (L*1000)\n",
    "dPy = (sqrtp_next - sqrtp_pa)\n",
    "dPx = (1/sqrtp_next - 1/sqrtp_pb) \n",
    "\n",
    "dL = (L/dPx) * (1/sqrtp_cur - L*1000/ (L*1000*sqrtp_cur + 997*amt_tkn1*alpha))\n",
    "\n",
    "(amt_in - dL*(  (sqrtp_cur + (997*amt_tkn1*alpha) / (L*1000)) - sqrtp_pa))/amt_tkn1"
   ]
  },
  {
   "cell_type": "code",
   "execution_count": 19,
   "id": "988b71a9-b026-40a1-812d-38511d15545b",
   "metadata": {},
   "outputs": [
    {
     "data": {
      "text/plain": [
       "0.4691909141529487"
      ]
     },
     "execution_count": 19,
     "metadata": {},
     "output_type": "execute_result"
    }
   ],
   "source": [
    "dy = 1000\n",
    "alpha = 0.4691913629459173\n",
    "\n",
    "L = lp.get_liquidity()\n",
    "sqrtp_cur = lp.slot0.sqrtPriceX96/2**96\n",
    "sqrtp_pa = TickMath.getSqrtRatioAtTick(lwr_tick)/2**96\n",
    "sqrtp_pb = TickMath.getSqrtRatioAtTick(upr_tick)/2**96\n",
    "\n",
    "sqrtp_next = sqrtp_cur + (997*dy*alpha) / (L*1000)\n",
    "dPy = (sqrtp_next - sqrtp_pa)\n",
    "dPx = (1/sqrtp_next - 1/sqrtp_pb) \n",
    "\n",
    "dL = (L/dPx) * (1/sqrtp_cur - L*1000/ (L*1000*sqrtp_cur + 997*dy*alpha))\n",
    "\n",
    "(dy - dL*(  (sqrtp_cur + (997*dy*alpha) / (L*1000)) - sqrtp_pa))/dy"
   ]
  },
  {
   "cell_type": "code",
   "execution_count": 20,
   "id": "58442ccd-e9e8-4af5-83df-0e86b67547de",
   "metadata": {},
   "outputs": [
    {
     "data": {
      "text/plain": [
       "0.4691909141529487"
      ]
     },
     "execution_count": 20,
     "metadata": {},
     "output_type": "execute_result"
    }
   ],
   "source": [
    "L = lp.get_liquidity()\n",
    "sqrtp_cur = lp.slot0.sqrtPriceX96/2**96\n",
    "sqrtp_pa = TickMath.getSqrtRatioAtTick(lwr_tick)/2**96\n",
    "sqrtp_pb = TickMath.getSqrtRatioAtTick(upr_tick)/2**96\n",
    "\n",
    "sqrtp_next = sqrtp_cur + (997*dy*alpha) / (L*1000)\n",
    "dPy = (sqrtp_next - sqrtp_pa)\n",
    "dPx = (1/sqrtp_next - 1/sqrtp_pb) \n",
    "\n",
    "(dy - (L/dPx) * (1/sqrtp_cur - L*1000/ (L*1000*sqrtp_cur + 997*dy*alpha))*(  (sqrtp_cur + (997*dy*alpha) / (L*1000)) - sqrtp_pa))/dy "
   ]
  },
  {
   "cell_type": "code",
   "execution_count": 21,
   "id": "3f9117f3-2b26-4e7b-a5e4-1e2e7293f53d",
   "metadata": {},
   "outputs": [
    {
     "data": {
      "text/plain": [
       "0.46919091415294867"
      ]
     },
     "execution_count": 21,
     "metadata": {},
     "output_type": "execute_result"
    }
   ],
   "source": [
    "L = lp.get_liquidity()\n",
    "sqrtp_cur = lp.slot0.sqrtPriceX96/2**96\n",
    "sqrtp_pa = TickMath.getSqrtRatioAtTick(lwr_tick)/2**96\n",
    "sqrtp_pb = TickMath.getSqrtRatioAtTick(upr_tick)/2**96\n",
    "\n",
    "sqrtp_next = sqrtp_cur + (997*dy*alpha) / (L*1000)\n",
    "dPy = (sqrtp_next - sqrtp_pa)\n",
    "dPx = (1/sqrtp_next - 1/sqrtp_pb) \n",
    "\n",
    "1 - (L/(dPx*dy)) * (1/sqrtp_cur - L*1000/ (L*1000*sqrtp_cur + 997*dy*alpha))*(  (sqrtp_cur + (997*dy*alpha) / (L*1000)) - sqrtp_pa)"
   ]
  },
  {
   "cell_type": "code",
   "execution_count": 22,
   "id": "9afa4ca3-dab3-4301-81c6-5760e996b39a",
   "metadata": {},
   "outputs": [
    {
     "data": {
      "text/plain": [
       "0.4691909141529491"
      ]
     },
     "execution_count": 22,
     "metadata": {},
     "output_type": "execute_result"
    }
   ],
   "source": [
    "1 - (L/(dPx*dy)) * (  1/sqrtp_cur - L*1000/ (L*1000*sqrtp_cur + 997*dy*alpha)  )*(  (1000*L*sqrtp_cur + 997*dy*alpha - 1000*L*sqrtp_pa)/(1000*L) ) "
   ]
  },
  {
   "cell_type": "code",
   "execution_count": 23,
   "id": "faaed2fc-c76e-473a-a6a3-a8220f54f1c4",
   "metadata": {},
   "outputs": [
    {
     "data": {
      "text/plain": [
       "0.0007246704152402139"
      ]
     },
     "execution_count": 23,
     "metadata": {},
     "output_type": "execute_result"
    }
   ],
   "source": [
    "1/sqrtp_cur - L*1000/ (L*1000*sqrtp_cur + 997*dy*alpha) "
   ]
  },
  {
   "cell_type": "code",
   "execution_count": 24,
   "id": "26c50852-2a61-47f6-87b4-cf9e185a9d78",
   "metadata": {},
   "outputs": [
    {
     "data": {
      "text/plain": [
       "0.0007246704152401749"
      ]
     },
     "execution_count": 24,
     "metadata": {},
     "output_type": "execute_result"
    }
   ],
   "source": [
    "(L*1000*sqrtp_cur + 997*dy*alpha - L*1000*sqrtp_cur)  / (sqrtp_cur*(L*1000*sqrtp_cur + 997*dy*alpha)) "
   ]
  },
  {
   "cell_type": "code",
   "execution_count": 25,
   "id": "184b111d-b3eb-4435-9855-d62ec8b1a735",
   "metadata": {},
   "outputs": [
    {
     "data": {
      "text/plain": [
       "0.46919091415297787"
      ]
     },
     "execution_count": 25,
     "metadata": {},
     "output_type": "execute_result"
    }
   ],
   "source": [
    "1 - (L/(dPx*dy)) * (  (L*1000*sqrtp_cur + 997*dy*alpha - L*1000*sqrtp_cur)  / (L*1000*sqrtp_cur**2 + 997*dy*alpha*sqrtp_cur)  )*(  (1000*L*sqrtp_cur + 997*dy*alpha - 1000*L*sqrtp_pa)/(1000*L) ) "
   ]
  },
  {
   "cell_type": "code",
   "execution_count": 26,
   "id": "5f97fe59-9292-4ac7-bf30-eec324816e4b",
   "metadata": {},
   "outputs": [
    {
     "data": {
      "text/plain": [
       "0.46919091415297"
      ]
     },
     "execution_count": 26,
     "metadata": {},
     "output_type": "execute_result"
    }
   ],
   "source": [
    "1 - (L/(dPx*dy)) * (  (997*dy*alpha)  / (L*1000*sqrtp_cur**2 + 997*dy*alpha*sqrtp_cur)  )*(  (1000*L*sqrtp_cur + 997*dy*alpha - 1000*L*sqrtp_pa)/(1000*L) ) "
   ]
  },
  {
   "cell_type": "code",
   "execution_count": 27,
   "id": "b7220061-bb94-4df0-bcf9-5fe76a0abb08",
   "metadata": {},
   "outputs": [
    {
     "data": {
      "text/plain": [
       "0.46919091415296965"
      ]
     },
     "execution_count": 27,
     "metadata": {},
     "output_type": "execute_result"
    }
   ],
   "source": [
    "1 - (L/(dPx*dy)) * (  (997*dy*alpha)  / (L*1000*sqrtp_cur**2 + 997*dy*alpha*sqrtp_cur)  )*(  (1000*L*(sqrtp_cur-sqrtp_pa) + 997*dy*alpha)/(1000*L) ) "
   ]
  },
  {
   "cell_type": "code",
   "execution_count": 28,
   "id": "2a7b98c0-6cbe-43fe-8bcd-c834c3a50e41",
   "metadata": {},
   "outputs": [
    {
     "data": {
      "text/plain": [
       "0.46919091415296965"
      ]
     },
     "execution_count": 28,
     "metadata": {},
     "output_type": "execute_result"
    }
   ],
   "source": [
    "A = L/(dPx*dy)\n",
    "B = 997*dy\n",
    "C = 1000*L\n",
    "D = 1000*L*(sqrtp_cur-sqrtp_pa)\n",
    "\n",
    "1 - A * (  (B*alpha)  / (C*sqrtp_cur**2 + B*alpha*sqrtp_cur)  )*(  (D + B*alpha)/(C) ) "
   ]
  },
  {
   "cell_type": "code",
   "execution_count": 29,
   "id": "079f5982-d3a2-4e95-9cbf-06eacda37833",
   "metadata": {},
   "outputs": [
    {
     "data": {
      "text/plain": [
       "0.46919091415296965"
      ]
     },
     "execution_count": 29,
     "metadata": {},
     "output_type": "execute_result"
    }
   ],
   "source": [
    "1 - (A*B*alpha)*(D+B*alpha)/(C*C*sqrtp_cur**2 + C*B*alpha*sqrtp_cur)"
   ]
  },
  {
   "cell_type": "code",
   "execution_count": 30,
   "id": "c231885b-0f5e-42f8-96a4-3b5a59c06222",
   "metadata": {},
   "outputs": [],
   "source": [
    "ls = 1 - (A*B*alpha)*(D+B*alpha)/(C*C*sqrtp_cur**2 + C*B*alpha*sqrtp_cur)\n",
    "ls = 0.4691909349268425"
   ]
  },
  {
   "cell_type": "code",
   "execution_count": 31,
   "id": "0f260ea0-77c3-4865-a020-56729234f747",
   "metadata": {},
   "outputs": [
    {
     "data": {
      "text/plain": [
       "-2.077387284415977e-08"
      ]
     },
     "execution_count": 31,
     "metadata": {},
     "output_type": "execute_result"
    }
   ],
   "source": [
    "1 - ls - (A*B*alpha)*(D+B*alpha)/(C*C*sqrtp_cur**2 + C*B*alpha*sqrtp_cur)"
   ]
  },
  {
   "cell_type": "code",
   "execution_count": 32,
   "id": "5ba9a41c-f347-4c91-a386-7b17deecb2ec",
   "metadata": {},
   "outputs": [
    {
     "data": {
      "text/plain": [
       "-863635260.0"
      ]
     },
     "execution_count": 32,
     "metadata": {},
     "output_type": "execute_result"
    }
   ],
   "source": [
    "(C*C*sqrtp_cur**2 + C*B*alpha*sqrtp_cur) - ls*(C*C*sqrtp_cur**2 + C*B*alpha*sqrtp_cur) - (A*B*alpha)*(D+B*alpha)"
   ]
  },
  {
   "cell_type": "code",
   "execution_count": 33,
   "id": "176a7e6b-a7ce-4d1b-af15-8347f21ba1e6",
   "metadata": {},
   "outputs": [
    {
     "data": {
      "text/plain": [
       "-863635260.0"
      ]
     },
     "execution_count": 33,
     "metadata": {},
     "output_type": "execute_result"
    }
   ],
   "source": [
    "-C*C*(ls - 1)*sqrtp_cur*sqrtp_cur - B*alpha*C*(ls - 1)*sqrtp_cur - A*B*alpha*(B*alpha + D)"
   ]
  },
  {
   "cell_type": "code",
   "execution_count": 34,
   "id": "bf171884-b76b-49d8-9ada-31c2eb00fedd",
   "metadata": {},
   "outputs": [
    {
     "data": {
      "text/plain": [
       "-18657734984.0"
      ]
     },
     "execution_count": 34,
     "metadata": {},
     "output_type": "execute_result"
    }
   ],
   "source": [
    "(-A*B*B - B*C*sqrtp_cur)*alpha*alpha + (-C*C*sqrtp_cur*sqrtp_cur - A*B*D + B*C*sqrtp_cur)*alpha + C*C*sqrtp_cur*sqrtp_cur"
   ]
  },
  {
   "cell_type": "code",
   "execution_count": 35,
   "id": "b7a6cc09-bb58-4142-b78d-24707824f72a",
   "metadata": {},
   "outputs": [
    {
     "data": {
      "text/plain": [
       "863635260.0"
      ]
     },
     "execution_count": 35,
     "metadata": {},
     "output_type": "execute_result"
    }
   ],
   "source": [
    "ls*(C*C*sqrtp_cur**2) + ls*C*B*alpha*sqrtp_cur  - C*C*sqrtp_cur**2 - C*B*alpha*sqrtp_cur + (A*B*alpha)*(D+B*alpha)"
   ]
  },
  {
   "cell_type": "code",
   "execution_count": 36,
   "id": "7884d738-e2c5-447c-bb1a-3bfd9e0c0b3c",
   "metadata": {},
   "outputs": [
    {
     "data": {
      "text/plain": [
       "863635261.0"
      ]
     },
     "execution_count": 36,
     "metadata": {},
     "output_type": "execute_result"
    }
   ],
   "source": [
    "ls*(C*C*sqrtp_cur**2) + ls*C*B*alpha*sqrtp_cur  - C*C*sqrtp_cur**2 - C*B*alpha*sqrtp_cur + A*B*D*alpha + (A*B*B)*alpha**2"
   ]
  },
  {
   "cell_type": "code",
   "execution_count": 37,
   "id": "ee0ab4f6-a028-42c2-b9f0-263016cb017c",
   "metadata": {},
   "outputs": [
    {
     "data": {
      "text/plain": [
       "863635261.0"
      ]
     },
     "execution_count": 37,
     "metadata": {},
     "output_type": "execute_result"
    }
   ],
   "source": [
    "ls*(C*C*sqrtp_cur**2) + ls*C*B*alpha*sqrtp_cur  - C*C*sqrtp_cur**2 - C*B*alpha*sqrtp_cur + A*B*D*alpha + (A*B*B)*alpha**2"
   ]
  },
  {
   "cell_type": "code",
   "execution_count": 38,
   "id": "b552cec0-63ce-4c62-8879-a57f1b356f69",
   "metadata": {},
   "outputs": [
    {
     "data": {
      "text/plain": [
       "863635261.0"
      ]
     },
     "execution_count": 38,
     "metadata": {},
     "output_type": "execute_result"
    }
   ],
   "source": [
    "ls*(C*C*sqrtp_cur**2) + ls*C*B*alpha*sqrtp_cur  - C*C*sqrtp_cur**2 - C*B*alpha*sqrtp_cur + A*B*D*alpha + (A*B*B)*alpha**2"
   ]
  },
  {
   "cell_type": "code",
   "execution_count": 39,
   "id": "627d2500-1545-4a75-bdb0-5fec16b2718c",
   "metadata": {},
   "outputs": [
    {
     "data": {
      "text/plain": [
       "50588477805712.0"
      ]
     },
     "execution_count": 39,
     "metadata": {},
     "output_type": "execute_result"
    }
   ],
   "source": [
    "(A*B*B)*alpha**2 + (A*B*D + C*C*sqrtp_cur**2)*alpha - C*C*sqrtp_cur**2 "
   ]
  },
  {
   "cell_type": "code",
   "execution_count": 40,
   "id": "04297aac-1321-4c7f-be85-c52f81191790",
   "metadata": {},
   "outputs": [
    {
     "data": {
      "text/plain": [
       "0.4812547663961031"
      ]
     },
     "execution_count": 40,
     "metadata": {},
     "output_type": "execute_result"
    }
   ],
   "source": [
    "dy = 1000\n",
    "L = lp.get_liquidity()\n",
    "\n",
    "sqrtp_cur = lp.slot0.sqrtPriceX96/2**96\n",
    "\n",
    "dPy = (sqrtp_cur - sqrtp_pa)\n",
    "dPx = (1/sqrtp_cur - 1/sqrtp_pb) \n",
    "\n",
    "A = L/(dPx*dy)\n",
    "B = 997*dy\n",
    "C = 1000*L\n",
    "D = 1000*L*(sqrtp_cur-sqrtp_pa)\n",
    "\n",
    "a = -A*B*B - B*C*sqrtp_cur\n",
    "b = -C*C*sqrtp_cur*sqrtp_cur - A*B*D + B*C*sqrtp_cur\n",
    "c = C*C*sqrtp_cur*sqrtp_cur\n",
    "\n",
    "p_in = (-b - math.sqrt(b*b - 4*a*c)) / (2*a)\n",
    "p_in"
   ]
  },
  {
   "cell_type": "code",
   "execution_count": 42,
   "id": "58e6cc7b-eceb-42c2-8461-823c0cf4d862",
   "metadata": {},
   "outputs": [
    {
     "data": {
      "text/plain": [
       "0.4683808565248589"
      ]
     },
     "execution_count": 42,
     "metadata": {},
     "output_type": "execute_result"
    }
   ],
   "source": [
    "dy = 1000\n",
    "\n",
    "L = lp.get_liquidity()\n",
    "sqrtp_cur = lp.slot0.sqrtPriceX96/2**96\n",
    "sqrtp_pa = TickMath.getSqrtRatioAtTick(lwr_tick)/2**96\n",
    "sqrtp_pb = TickMath.getSqrtRatioAtTick(upr_tick)/2**96 \n",
    "\n",
    "sqrtp_next = sqrtp_cur + (997*dy*0.5) / (L*1000)\n",
    "dPy = (sqrtp_next - sqrtp_pa)\n",
    "dPx = (1/sqrtp_next - 1/sqrtp_pb) \n",
    "\n",
    "A = L/(dPx*dy)\n",
    "B = 997*dy\n",
    "C = 1000*L\n",
    "D = 1000*L*(sqrtp_cur-sqrtp_pa)\n",
    "\n",
    "a = -A*B*B - B*C*sqrtp_cur\n",
    "b = -C*C*sqrtp_cur*sqrtp_cur - A*B*D + B*C*sqrtp_cur\n",
    "c = C*C*sqrtp_cur*sqrtp_cur\n",
    "\n",
    "p_in = (-b - math.sqrt(b*b - 4*a*c)) / (2*a)\n",
    "p_in"
   ]
  },
  {
   "cell_type": "code",
   "execution_count": null,
   "id": "7ffce3c2-e381-45d5-bce9-1625794983ac",
   "metadata": {},
   "outputs": [],
   "source": [
    "amt_tkn1 = 1000\n",
    "#p_in = 0.469191\n",
    "\n",
    "swap_in = amt_tkn1*p_in\n",
    "amt_tkn0, sqrtp_cur  = quote(lp, tkn, swap_in)\n",
    "\n",
    "sqrtp_pa = TickMath.getSqrtRatioAtTick(lwr_tick)/2**96\n",
    "sqrtp_pb = TickMath.getSqrtRatioAtTick(upr_tick)/2**96 \n",
    "dPy = (sqrtp_cur - sqrtp_pa)\n",
    "dPx = (1/sqrtp_cur - 1/sqrtp_pb) \n",
    "\n",
    "dL = amt_tkn0/dPx\n",
    " \n",
    "dy = dL*dPy\n",
    "dx = dL*dPx\n",
    "print(f'{dx} ETH and {dy} TKN added')\n",
    "\n",
    "swap_in + dy"
   ]
  },
  {
   "cell_type": "code",
   "execution_count": 74,
   "id": "f30d3932-90e0-49e2-bc4c-eba148399d52",
   "metadata": {},
   "outputs": [
    {
     "data": {
      "text/plain": [
       "0.44740139848813903"
      ]
     },
     "execution_count": 74,
     "metadata": {},
     "output_type": "execute_result"
    }
   ],
   "source": [
    "calc_deposit_portion(lp, tkn, 1000)"
   ]
  },
  {
   "cell_type": "code",
   "execution_count": 527,
   "id": "dbc4207f-bc6e-4736-aecb-e212c1db13ad",
   "metadata": {},
   "outputs": [
    {
     "name": "stdout",
     "output_type": "stream",
     "text": [
      "Exchange ETH-TKN (LP)\n",
      "Real Reserves:   ETH = 967.0469739529013, TKN = 10000.0\n",
      "Gross Liquidity: 64403.320664241655 \n",
      "\n",
      "lwr_tick 22020, cur_tick 23027, upr_tick 24000\n",
      "Exchange ETH-TKN (LP)\n",
      "Real Reserves:   ETH = 920.3758127394445, TKN = 10469.191162276547\n",
      "Gross Liquidity: 64403.320664241655 \n",
      "\n",
      "---- Swap 5470.56 TKN for 46.6712 ETH ----\n",
      "\n",
      "Exchange ETH-TKN (LP)\n",
      "Real Reserves:   ETH = 967.0469739529013, TKN = 10999.9999999902\n",
      "Gross Liquidity: 67669.13634496479 \n",
      "\n",
      "---- Withdraw 3265.82 LP tokens for 481.076 ETH and 5470.56 TKN ----\n",
      "\n"
     ]
    },
    {
     "data": {
      "text/plain": [
       "(46.671161213456784, 530.8088377136517)"
      ]
     },
     "execution_count": 527,
     "metadata": {},
     "output_type": "execute_result"
    }
   ],
   "source": [
    "import math\n",
    "\n",
    "eth = ERC20(\"ETH\", \"0x09\")\n",
    "tkn = ERC20(\"TKN\", \"0x111\")\n",
    "init_price = UniV3Utils.encodePriceSqrt(10, 1)\n",
    "\n",
    "exchg_data = UniswapExchangeData(tkn0 = eth, tkn1 = tkn, symbol=\"LP\", \n",
    "                                   address=\"0x011\", version = 'V3', \n",
    "                                   tick_spacing = tick_spacing, \n",
    "                                   fee = fee)\n",
    "\n",
    "factory = UniswapFactory(\"ETH pool factory\", \"0x2\")\n",
    "lp = factory.deploy(exchg_data)\n",
    "\n",
    "tick_gap = 1000\n",
    "\n",
    "lwr_tick = lp.get_tick_price(-1, 10, tick_gap)\n",
    "upr_tick = lp.get_tick_price(1, 10, tick_gap)\n",
    "\n",
    "sqrtP =  math.sqrt(10)\n",
    "Ly = calc_Ly(sqrtP, 10000, lwr_tick, upr_tick)\n",
    "Lx = calc_Lx(sqrtP, 1000, lwr_tick, upr_tick)\n",
    "\n",
    "lp.initialize(init_price)\n",
    "out = lp.mint(user_nm, lwr_tick, upr_tick, Ly)    #3162.2776601683795\n",
    "lp.summary()\n",
    "\n",
    "lwr_tick = lp.get_tick_price(-1, lp.get_price(eth), tick_gap)\n",
    "upr_tick = lp.get_tick_price(1, lp.get_price(eth), tick_gap)\n",
    "\n",
    "amount_out = 1000\n",
    "Lx = calc_Lx(sqrtP, amount_out, lwr_tick, upr_tick)\n",
    "Ly = calc_Ly(sqrtP, amount_out, lwr_tick, upr_tick)\n",
    "#p_out = calc_withdraw_portion(lp, tkn, amount_out, lwr_tick, upr_tick)\n",
    "\n",
    "print(f'lwr_tick {lwr_tick}, cur_tick {price_to_tick(lp.get_price(eth))}, upr_tick {upr_tick}')\n",
    "\n",
    "# Calculate LP settlement\n",
    "#alpha = calc_deposit_portion(lp, tkn, amount_out)\n",
    "alpha = opt_deposit_portion(lp, tkn, amount_out, lwr_tick, upr_tick)\n",
    "\n",
    "# Swap\n",
    "out = Swap().apply(lp, tkn, user_nm, alpha*amount_out)\n",
    "lp.summary()\n",
    "\n",
    "print(f'---- Swap {amt1:.6} TKN for {abs(out[1]):.6} ETH ----\\n')\n",
    "\n",
    "sqrtP = lp.slot0.sqrtPriceX96/2**96\n",
    "dL_calc = calc_Lx(sqrtP, abs(out[1]), lwr_tick, upr_tick)\n",
    "\n",
    "# Deposit\n",
    "out = lp.mint(user_nm, lwr_tick, upr_tick, dL_calc)\n",
    "lp.summary()\n",
    "\n",
    "print(f'---- Withdraw {dL_calc:.6} LP tokens for {amt0:.6} ETH and {amt1:.6} TKN ----\\n')\n",
    "out"
   ]
  },
  {
   "cell_type": "code",
   "execution_count": 526,
   "id": "fd45e510-9825-40aa-be0d-cff7886a8b28",
   "metadata": {},
   "outputs": [
    {
     "name": "stdout",
     "output_type": "stream",
     "text": [
      "Exchange ETH-TKN (LP)\n",
      "Real Reserves:   ETH = 999.9999999999997, TKN = 10340.759310919504\n",
      "Gross Liquidity: 66597.92378128914 \n",
      "\n",
      "lwr_tick 22020, cur_tick 23027, upr_tick 24000\n",
      "Exchange ETH-TKN (LP)\n",
      "Real Reserves:   ETH = 1048.5911921318616, TKN = 9857.41697704624\n",
      "Gross Liquidity: 66597.92378128914 \n",
      "\n",
      "---- Swap 48.5912 ETH for 483.342 TKN ----\n",
      "\n",
      "Exchange ETH-TKN (LP)\n",
      "Real Reserves:   ETH = 1100.00000000956, TKN = 10340.759310919504\n",
      "Gross Liquidity: 69863.44414899987 \n",
      "\n",
      "---- Deposit 3265.52 LP tokens for 481.076 ETH and 5470.56 TKN ----\n",
      "\n"
     ]
    }
   ],
   "source": [
    "import math\n",
    "\n",
    "eth = ERC20(\"ETH\", \"0x09\")\n",
    "tkn = ERC20(\"TKN\", \"0x111\")\n",
    "init_price = UniV3Utils.encodePriceSqrt(10, 1)\n",
    "\n",
    "exchg_data = UniswapExchangeData(tkn0 = eth, tkn1 = tkn, symbol=\"LP\", \n",
    "                                   address=\"0x011\", version = 'V3', \n",
    "                                   tick_spacing = tick_spacing, \n",
    "                                   fee = fee)\n",
    "\n",
    "factory = UniswapFactory(\"ETH pool factory\", \"0x2\")\n",
    "lp = factory.deploy(exchg_data)\n",
    "\n",
    "tick_gap = 1000\n",
    "\n",
    "lwr_tick = lp.get_tick_price(-1, 10, tick_gap)\n",
    "upr_tick = lp.get_tick_price(1, 10, tick_gap)\n",
    "\n",
    "sqrtP =  math.sqrt(10)\n",
    "Ly = calc_Ly(sqrtP, 10000, lwr_tick, upr_tick)\n",
    "Lx = calc_Lx(sqrtP, 1000, lwr_tick, upr_tick)\n",
    "\n",
    "lp.initialize(init_price)\n",
    "out = lp.mint(user_nm, lwr_tick, upr_tick, Lx)    #3162.2776601683795\n",
    "lp.summary()\n",
    "\n",
    "lwr_tick = lp.get_tick_price(-1, lp.get_price(eth), tick_gap)\n",
    "upr_tick = lp.get_tick_price(1, lp.get_price(eth), tick_gap)\n",
    "\n",
    "amount_out = 100\n",
    "Lx = calc_Lx(sqrtP, amount_out, lwr_tick, upr_tick)\n",
    "Ly = calc_Ly(sqrtP, amount_out, lwr_tick, upr_tick)\n",
    "#p_out = calc_withdraw_portion(lp, tkn, amount_out, lwr_tick, upr_tick)\n",
    "\n",
    "print(f'lwr_tick {lwr_tick}, cur_tick {price_to_tick(lp.get_price(eth))}, upr_tick {upr_tick}')\n",
    "\n",
    "# Calculate LP settlement\n",
    "#alpha = calc_deposit_portion(lp, eth, amount_out)\n",
    "alpha = opt_deposit_portion(lp, eth, amount_out, lwr_tick, upr_tick)\n",
    "\n",
    "# Swap\n",
    "out_swap = Swap().apply(lp, eth, user_nm, alpha*amount_out)\n",
    "lp.summary()\n",
    "\n",
    "print(f'---- Swap {alpha*amount_out:.6} ETH for {abs(out_swap[2]):.6} TKN ----\\n')\n",
    "\n",
    "sqrtP = lp.slot0.sqrtPriceX96/2**96\n",
    "dL_calc = calc_Ly(sqrtP, abs(out_swap[2]), lwr_tick, upr_tick)\n",
    "\n",
    "# Deposit\n",
    "out = lp.mint(user_nm, lwr_tick, upr_tick, dL_calc)\n",
    "lp.summary()\n",
    "\n",
    "print(f'---- Deposit {dL_calc:.6} LP tokens for {amt0:.6} ETH and {amt1:.6} TKN ----\\n')"
   ]
  },
  {
   "cell_type": "code",
   "execution_count": 96,
   "id": "0f04986a-5d63-4797-8bf1-b1400dee453f",
   "metadata": {},
   "outputs": [],
   "source": [
    "def calc_deposit_portion(lp, token_in, amt_in):\n",
    "\n",
    "    L = lp.get_liquidity()\n",
    "\n",
    "    if(token_in.token_name == lp.token0):\n",
    "        sqrtp_cur = 2**96/lp.slot0.sqrtPriceX96\n",
    "        sqrtp_pa = 2**96/TickMath.getSqrtRatioAtTick(lwr_tick)\n",
    "        sqrtp_pb = 2**96/TickMath.getSqrtRatioAtTick(upr_tick)  \n",
    "        sqrtp_next = sqrtp_cur + (997*amt_in*0.5) / (L*1000)\n",
    "        dPy = (sqrtp_next - sqrtp_pa)\n",
    "        dPx = (1/sqrtp_next - 1/sqrtp_pb)  \n",
    "    \n",
    "    elif(token_in.token_name == lp.token1):\n",
    "        sqrtp_cur = lp.slot0.sqrtPriceX96/2**96\n",
    "        sqrtp_pa = TickMath.getSqrtRatioAtTick(lwr_tick)/2**96\n",
    "        sqrtp_pb = TickMath.getSqrtRatioAtTick(upr_tick)/2**96      \n",
    "        sqrtp_next = sqrtp_cur + (997*amt_in*0.5) / (L*1000)\n",
    "        dPy = (sqrtp_next - sqrtp_pa)\n",
    "        dPx = (1/sqrtp_next - 1/sqrtp_pb)   \n",
    "\n",
    "    A = L/(dPx*amt_in)\n",
    "    B = 997*amt_in\n",
    "    C = 1000*L\n",
    "    D = 1000*L*(sqrtp_cur-sqrtp_pa)\n",
    "    \n",
    "    a = -A*B*B - B*C*sqrtp_cur\n",
    "    b = -C*C*sqrtp_cur*sqrtp_cur - A*B*D + B*C*sqrtp_cur\n",
    "    c = C*C*sqrtp_cur*sqrtp_cur\n",
    "    \n",
    "    alpha = (-b - math.sqrt(b*b - 4*a*c)) / (2*a)\n",
    "    return alpha"
   ]
  },
  {
   "cell_type": "code",
   "execution_count": null,
   "id": "9358045a-555f-4a88-94ca-427ffb82eb24",
   "metadata": {},
   "outputs": [],
   "source": [
    "def calc_deposit_portion(lp, token_in, dx):\n",
    "\n",
    "    tkn_supply = get_tkn_supply(lp, token_in)\n",
    "    a = 997*(dx**2)/(1000*tkn_supply)\n",
    "    b = dx*(1997/1000)\n",
    "    c = -dx\n",
    "\n",
    "    alpha = -(b - math.sqrt(b*b - 4*a*c)) / (2*a)\n",
    "    return alpha \n",
    "\n",
    "def get_tkn_supply(lp, token_in):\n",
    "    tokens = lp.factory.token_from_exchange[lp.name]\n",
    "    if(token_in.token_name == lp.token0):\n",
    "        tkn_supply = lp.get_reserve(tokens[lp.token0])\n",
    "    else:    \n",
    "        tkn_supply = lp.get_reserve(tokens[lp.token1])\n",
    "    return tkn_supply"
   ]
  }
 ],
 "metadata": {
  "kernelspec": {
   "display_name": "Python 3 (ipykernel)",
   "language": "python",
   "name": "python3"
  },
  "language_info": {
   "codemirror_mode": {
    "name": "ipython",
    "version": 3
   },
   "file_extension": ".py",
   "mimetype": "text/x-python",
   "name": "python",
   "nbconvert_exporter": "python",
   "pygments_lexer": "ipython3",
   "version": "3.10.0rc2"
  }
 },
 "nbformat": 4,
 "nbformat_minor": 5
}
