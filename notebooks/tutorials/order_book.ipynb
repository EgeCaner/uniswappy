{
 "cells": [
  {
   "cell_type": "code",
   "execution_count": 1,
   "id": "8715bd6e-c822-4fea-b400-2d64af291b95",
   "metadata": {},
   "outputs": [],
   "source": [
    "from uniswappy import *"
   ]
  },
  {
   "cell_type": "code",
   "execution_count": 3,
   "id": "2e463ce7-c0f6-4e19-9e17-59619ed5f039",
   "metadata": {},
   "outputs": [],
   "source": [
    "user_nm = 'user0'\n",
    "eth_amount = 10000\n",
    "tkn_amount = 100000"
   ]
  },
  {
   "cell_type": "code",
   "execution_count": 4,
   "id": "f38822cc-c0fe-4ef4-bc68-6e3e1e1bc879",
   "metadata": {},
   "outputs": [
    {
     "name": "stdout",
     "output_type": "stream",
     "text": [
      "Exchange ETH-TKN (LP)\n",
      "Reserves: ETH = 10000, TKN = 100000\n",
      "Liquidity: 31622.776601683792 \n",
      "\n"
     ]
    }
   ],
   "source": [
    "tkn = ERC20(\"TKN\", \"0x111\")\n",
    "eth = ERC20(\"ETH\", \"0x09\")\n",
    "exchg_data = UniswapExchangeData(tkn0 = eth, tkn1 = tkn, symbol=\"LP\", address=\"0x011\")\n",
    "\n",
    "factory = UniswapFactory(\"ETH pool factory\", \"0x2\")\n",
    "lp = factory.deploy(exchg_data)\n",
    "\n",
    "Join().apply(lp, user_nm, eth_amount, tkn_amount)\n",
    "lp.summary()"
   ]
  },
  {
   "cell_type": "code",
   "execution_count": 5,
   "id": "4da73f3f-53c6-4489-8748-8fcc38503951",
   "metadata": {},
   "outputs": [
    {
     "data": {
      "text/plain": [
       "'V2'"
      ]
     },
     "execution_count": 5,
     "metadata": {},
     "output_type": "execute_result"
    }
   ],
   "source": [
    "lp.version"
   ]
  },
  {
   "cell_type": "code",
   "execution_count": null,
   "id": "55e76adf-35c1-4c0b-890c-d3ecb81e832c",
   "metadata": {},
   "outputs": [],
   "source": [
    "n_steps = 50\n",
    "start_price = lp.get_price(tkn)\n",
    "mu = 0.3; sigma = 0.5\n",
    "n_paths = 25\n",
    "\n",
    "b = BrownianModel(start_price)\n",
    "p_arr = b.gen_gbms(mu, sigma, n_steps, n_paths)\n",
    "exp_p_arr = np.median(p_arr, axis = 1)"
   ]
  },
  {
   "cell_type": "code",
   "execution_count": null,
   "id": "1b1e5f97-e6a0-48f6-bc73-5bcee9fd20fb",
   "metadata": {},
   "outputs": [],
   "source": [
    "arb = CorrectReserves(lp, x0 = 1/exp_p_arr[0])"
   ]
  },
  {
   "cell_type": "code",
   "execution_count": null,
   "id": "9d8ad754-09aa-420a-89af-7ad1bd524cf2",
   "metadata": {},
   "outputs": [],
   "source": [
    "k = 1\n",
    "arb.apply(1/exp_p_arr[k])"
   ]
  },
  {
   "cell_type": "code",
   "execution_count": null,
   "id": "e911f635-c223-42c5-aac4-aa8f4b9249ad",
   "metadata": {},
   "outputs": [],
   "source": [
    "\n",
    "\n",
    "fee = UniV3Utils.FeeAmount.MEDIUM\n",
    "tick_spacing = UniV3Utils.TICK_SPACINGS[fee]\n",
    "lwr_tick = UniV3Utils.getMinTick(tick_spacing)\n",
    "upr_tick = UniV3Utils.getMaxTick(tick_spacing)"
   ]
  },
  {
   "cell_type": "code",
   "execution_count": null,
   "id": "4444c168-f86a-48d6-876d-b38317b30d84",
   "metadata": {},
   "outputs": [],
   "source": [
    "eth = ERC20(\"ETH\", \"0x09\")\n",
    "tkn = ERC20(\"TKN\", \"0x111\")\n",
    "\n",
    "exchg_data = UniswapExchangeData(tkn0 = eth, tkn1 = tkn, symbol=\"LP\", \n",
    "                                   address=\"0x011\", version = 'V3', \n",
    "                                   tick_spacing = tick_spacing, \n",
    "                                   fee = fee)\n",
    "\n",
    "factory = UniswapFactory(\"ETH pool factory\", \"0x2\")\n",
    "lp = factory.deploy(exchg_data)\n",
    "\n",
    "Join().apply(lp, user_nm, eth_amount, tkn_amount, lwr_tick, upr_tick)\n",
    "lp.summary()"
   ]
  },
  {
   "cell_type": "code",
   "execution_count": null,
   "id": "e0f0c84e-6cd8-4149-9a1f-df0de389e9c9",
   "metadata": {},
   "outputs": [],
   "source": []
  },
  {
   "cell_type": "code",
   "execution_count": null,
   "id": "06d03b6f-0ec9-44d8-b7f9-76c3ba171df2",
   "metadata": {},
   "outputs": [],
   "source": [
    "exp_p_arr"
   ]
  },
  {
   "cell_type": "code",
   "execution_count": null,
   "id": "489b1738-dba0-4f41-98e1-23166b1e7d81",
   "metadata": {},
   "outputs": [],
   "source": []
  },
  {
   "cell_type": "code",
   "execution_count": null,
   "id": "d7c1e536-14c1-472c-94e0-9069e7c5fbd9",
   "metadata": {},
   "outputs": [],
   "source": [
    "k = 1\n",
    "\n",
    "arb.apply(exp_p_arr[k], lwr_tick, upr_tick)\n",
    "x_trial_amt += arb.get_swap_dx()\n",
    "y_trial_amt += arb.get_swap_dy()"
   ]
  }
 ],
 "metadata": {
  "kernelspec": {
   "display_name": "Python 3 (ipykernel)",
   "language": "python",
   "name": "python3"
  },
  "language_info": {
   "codemirror_mode": {
    "name": "ipython",
    "version": 3
   },
   "file_extension": ".py",
   "mimetype": "text/x-python",
   "name": "python",
   "nbconvert_exporter": "python",
   "pygments_lexer": "ipython3",
   "version": "3.10.0rc2"
  }
 },
 "nbformat": 4,
 "nbformat_minor": 5
}
