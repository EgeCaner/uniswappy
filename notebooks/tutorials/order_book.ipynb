{
 "cells": [
  {
   "cell_type": "code",
   "execution_count": 1,
   "id": "54d68f40-5184-403c-a548-fbb76c2a6476",
   "metadata": {},
   "outputs": [],
   "source": [
    "from uniswappy import *\n",
    "\n",
    "user_nm = 'user0'\n",
    "eth_amount = 10000\n",
    "tkn_amount = 100000\n",
    "\n",
    "fee = UniV3Utils.FeeAmount.MEDIUM\n",
    "tick_spacing = UniV3Utils.TICK_SPACINGS[fee]\n",
    "lwr_tick = UniV3Utils.getMinTick(tick_spacing)\n",
    "upr_tick = UniV3Utils.getMaxTick(tick_spacing)"
   ]
  },
  {
   "cell_type": "code",
   "execution_count": 2,
   "id": "e2169415-721d-4610-aaa9-54d7ced0ab08",
   "metadata": {},
   "outputs": [],
   "source": [
    "n_steps = 50\n",
    "start_price = eth_amount/tkn_amount\n",
    "mu = 0.3; sigma = 0.8\n",
    "n_paths = 25\n",
    "\n",
    "b = BrownianModel(start_price)\n",
    "p_arr = b.gen_gbms(mu, sigma, n_steps, n_paths)\n",
    "exp_p_arr = np.median(p_arr, axis = 1)"
   ]
  },
  {
   "cell_type": "code",
   "execution_count": 3,
   "id": "8715bd6e-c822-4fea-b400-2d64af291b95",
   "metadata": {},
   "outputs": [
    {
     "name": "stdout",
     "output_type": "stream",
     "text": [
      "Exchange ETH-TKN (LP)\n",
      "Reserves: ETH = 10000, TKN = 100000\n",
      "Liquidity: 31622.776601683792 \n",
      "\n"
     ]
    }
   ],
   "source": [
    "tkn = ERC20(\"TKN\", \"0x111\")\n",
    "eth = ERC20(\"ETH\", \"0x09\")\n",
    "exchg_data = UniswapExchangeData(tkn0 = eth, tkn1 = tkn, symbol=\"LP\", address=\"0x011\")\n",
    "\n",
    "factory = UniswapFactory(\"ETH pool factory\", \"0x2\")\n",
    "lp = factory.deploy(exchg_data)\n",
    "\n",
    "Join().apply(lp, user_nm, eth_amount, tkn_amount)\n",
    "lp.summary()"
   ]
  },
  {
   "cell_type": "code",
   "execution_count": 4,
   "id": "2e463ce7-c0f6-4e19-9e17-59619ed5f039",
   "metadata": {},
   "outputs": [
    {
     "name": "stdout",
     "output_type": "stream",
     "text": [
      "price 0.09924437740613659 0.0993422255273003\n",
      "price 0.09245178387082753 0.09244363252384762\n",
      "price 0.09431684029260416 0.0940756580014922\n",
      "price 0.09336958373929048 0.0933701796016427\n",
      "price 0.09136079066526395 0.09129534808965487\n",
      "price 0.08710763644978164 0.08704194042028487\n",
      "price 0.09094559490912585 0.09096847908364161\n",
      "price 0.09480603943317015 0.0949953734008471\n",
      "price 0.09917337649888418 0.09909786570892481\n",
      "price 0.0953473985936487 0.09548968002163591\n",
      "price 0.09374698211810109 0.0940601516826128\n",
      "price 0.09804775986906868 0.09803620625728285\n",
      "price 0.09625317569959052 0.09614298874728221\n",
      "price 0.08507534399191984 0.08519319114307158\n",
      "price 0.0891425434489485 0.0891397418378267\n",
      "price 0.085916190552005 0.08590188793470459\n",
      "price 0.08748033263837664 0.08728588431448923\n",
      "price 0.09354090443537333 0.09364204165476567\n",
      "price 0.08869434221491734 0.0888324371336298\n",
      "price 0.08810077869486141 0.08812789000647787\n",
      "price 0.08744833698563786 0.0875022342969827\n",
      "price 0.07875295642186904 0.07871107316761305\n",
      "price 0.08031139735661688 0.08067729088245215\n",
      "price 0.08063525123543705 0.08059433415456317\n",
      "price 0.0840446289600332 0.0843504157404786\n",
      "price 0.08855427488711815 0.08896168135128153\n",
      "price 0.08492572218601652 0.08490065346113045\n",
      "price 0.09364227485563328 0.09359989965938491\n",
      "price 0.09905309818127832 0.09917256125000189\n",
      "price 0.09497020969645306 0.0949659238942755\n",
      "price 0.10769742612285173 0.10760911600718123\n",
      "price 0.09409403789621393 0.09394527989886638\n",
      "price 0.0887931984149263 0.08870971025279108\n",
      "price 0.08337043576558636 0.08325088880802378\n",
      "price 0.08398628933263592 0.08400383944106168\n",
      "price 0.07685996211462705 0.07659523346166458\n",
      "price 0.07973700939765245 0.07963125408027584\n",
      "price 0.08517161737938371 0.0852966098047591\n",
      "price 0.08208516847618431 0.08210852766571436\n",
      "price 0.08316027588273671 0.08332996354121235\n",
      "price 0.09053939687891636 0.09071088949571068\n",
      "price 0.085247329806534 0.08536022652348955\n",
      "price 0.08431423719084101 0.08417454929459774\n",
      "price 0.09763198756121723 0.09763431964922359\n",
      "price 0.10083991498401543 0.10076673689747463\n",
      "price 0.09835788344220901 0.09843733664336601\n",
      "price 0.09010539628634308 0.09033078990134807\n",
      "price 0.10551610213970022 0.10548072814705883\n",
      "price 0.09643673207529635 0.09647996236976239\n",
      "\n",
      "Exchange ETH-TKN (LP)\n",
      "Reserves: ETH = 10081.20641934735, TKN = 104536.99749464857\n",
      "Liquidity: 32399.41958993828 \n",
      "\n"
     ]
    }
   ],
   "source": [
    "arb = CorrectReserves(lp, x0 = 1/exp_p_arr[0])\n",
    "for k in range(1, n_steps):\n",
    "    p = 1/exp_p_arr[k]\n",
    "    arb.apply(p)\n",
    "    \n",
    "    \n",
    "    select_tkn = EventSelectionModel().bi_select(0.5)\n",
    "    bias_factor = 1\n",
    "    rnd_amt = TokenDeltaModel(30).delta()\n",
    "\n",
    "    if(select_tkn == 0):\n",
    "        out = Swap().apply(lp, eth, user_nm, rnd_amt) \n",
    "    else:\n",
    "        out = Swap().apply(lp, tkn, user_nm,  bias_factor*p*rnd_amt)  \n",
    "   \n",
    "    print(f'price {lp.get_price(tkn)} {exp_p_arr[k]}')\n",
    "\n",
    "print('')\n",
    "lp.summary()"
   ]
  },
  {
   "cell_type": "code",
   "execution_count": 5,
   "id": "4444c168-f86a-48d6-876d-b38317b30d84",
   "metadata": {},
   "outputs": [
    {
     "name": "stdout",
     "output_type": "stream",
     "text": [
      "Exchange ETH-TKN (LP)\n",
      "Real Reserves:   ETH = 9999.999999999998, TKN = 100000.0\n",
      "Liquidity: 31622.776601683792 \n",
      "\n"
     ]
    }
   ],
   "source": [
    "eth = ERC20(\"ETH\", \"0x09\")\n",
    "tkn = ERC20(\"TKN\", \"0x111\")\n",
    "\n",
    "exchg_data = UniswapExchangeData(tkn0 = eth, tkn1 = tkn, symbol=\"LP\", \n",
    "                                   address=\"0x011\", version = 'V3', \n",
    "                                   tick_spacing = tick_spacing, \n",
    "                                   fee = fee)\n",
    "\n",
    "factory = UniswapFactory(\"ETH pool factory\", \"0x2\")\n",
    "lp = factory.deploy(exchg_data)\n",
    "\n",
    "Join().apply(lp, user_nm, eth_amount, tkn_amount, lwr_tick, upr_tick)\n",
    "lp.summary()"
   ]
  },
  {
   "cell_type": "code",
   "execution_count": 6,
   "id": "2f8d0aaf-2c72-4cb5-9dce-43847a5bcd2e",
   "metadata": {},
   "outputs": [
    {
     "name": "stdout",
     "output_type": "stream",
     "text": [
      "price 0.0994075363318794 0.0993422255273003\n",
      "price 0.092490865344796 0.09244363252384762\n",
      "price 0.09433583766475814 0.0940756580014922\n",
      "price 0.09314126046905373 0.0933701796016427\n",
      "price 0.0909572150611202 0.09129534808965487\n",
      "price 0.08699780504410845 0.08704194042028487\n",
      "price 0.091045615165147 0.09096847908364161\n",
      "price 0.09503222333180718 0.0949953734008471\n",
      "price 0.09878857142166587 0.09909786570892481\n",
      "price 0.0950502852064888 0.09548968002163591\n",
      "price 0.09398874245006252 0.0940601516826128\n",
      "price 0.09776228008397915 0.09803620625728285\n",
      "price 0.09613941706007456 0.09614298874728221\n",
      "price 0.08515946540931656 0.08519319114307158\n",
      "price 0.08925306322592573 0.0891397418378267\n",
      "price 0.08613863014382188 0.08590188793470459\n",
      "price 0.0873759688644783 0.08728588431448923\n",
      "price 0.09357284503610898 0.09364204165476567\n",
      "price 0.08890111875942877 0.0888324371336298\n",
      "price 0.08811975916747733 0.08812789000647787\n",
      "price 0.08747304087837529 0.0875022342969827\n",
      "price 0.07877229022867978 0.07871107316761305\n",
      "price 0.08062887591458057 0.08067729088245215\n",
      "price 0.0807312404327907 0.08059433415456317\n",
      "price 0.08435240115625839 0.0843504157404786\n",
      "price 0.08886542052086295 0.08896168135128153\n",
      "price 0.08482132630085815 0.08490065346113045\n",
      "price 0.09340955547481941 0.09359989965938491\n",
      "price 0.09887938352001918 0.09917256125000189\n",
      "price 0.09474954604428687 0.0949659238942755\n",
      "price 0.10765556394113007 0.10760911600718123\n",
      "price 0.0939639607640499 0.09394527989886638\n",
      "price 0.0885478717196566 0.08870971025279108\n",
      "price 0.08336381419695676 0.08325088880802378\n",
      "price 0.08402733762852485 0.08400383944106168\n",
      "price 0.07676932820925604 0.07659523346166458\n",
      "price 0.07956046562348207 0.07963125408027584\n",
      "price 0.08514893879477278 0.0852966098047591\n",
      "price 0.08216044848027813 0.08210852766571436\n",
      "price 0.08336837768243778 0.08332996354121235\n",
      "price 0.09065096059825305 0.09071088949571068\n",
      "price 0.0852945910918301 0.08536022652348955\n",
      "price 0.08413504133826566 0.08417454929459774\n",
      "price 0.0974884932269692 0.09763431964922359\n",
      "price 0.1007749380091279 0.10076673689747463\n",
      "price 0.09844556210644904 0.09843733664336601\n",
      "price 0.09033903843349411 0.09033078990134807\n",
      "price 0.10536972551605009 0.10548072814705883\n",
      "price 0.09631175968823881 0.09647996236976239\n",
      "\n",
      "Exchange ETH-TKN (LP)\n",
      "Real Reserves:   ETH = 10072.350409042905, TKN = 104597.48632193798\n",
      "Liquidity: 32395.32014725031 \n",
      "\n"
     ]
    }
   ],
   "source": [
    "arb = CorrectReserves(lp, x0 = 1/exp_p_arr[0])\n",
    "for k in range(1, n_steps):\n",
    "    p = 1/exp_p_arr[k]\n",
    "    arb.apply(p, lwr_tick, upr_tick)\n",
    "    \n",
    "    \n",
    "    select_tkn = EventSelectionModel().bi_select(0.5)\n",
    "    bias_factor = 1\n",
    "    rnd_amt = TokenDeltaModel(30).delta()\n",
    "\n",
    "    if(select_tkn == 0):\n",
    "        out = Swap().apply(lp, eth, user_nm, rnd_amt) \n",
    "    else:\n",
    "        out = Swap().apply(lp, tkn, user_nm,  bias_factor*p*rnd_amt)  \n",
    "   \n",
    "    print(f'price {lp.get_price(tkn)} {exp_p_arr[k]}')\n",
    "\n",
    "print('')\n",
    "lp.summary()"
   ]
  },
  {
   "cell_type": "code",
   "execution_count": 7,
   "id": "a485f911-7654-49de-b5bd-e731a8a7ba03",
   "metadata": {},
   "outputs": [
    {
     "data": {
      "text/plain": [
       "104386.08683583206"
      ]
     },
     "execution_count": 7,
     "metadata": {},
     "output_type": "execute_result"
    }
   ],
   "source": [
    "lp.get_virtual_reserve(tkn)"
   ]
  },
  {
   "cell_type": "code",
   "execution_count": 8,
   "id": "b78cb4fd-eb95-4faf-99dd-26b2b7eb5181",
   "metadata": {},
   "outputs": [
    {
     "data": {
      "text/plain": [
       "10053.607710128284"
      ]
     },
     "execution_count": 8,
     "metadata": {},
     "output_type": "execute_result"
    }
   ],
   "source": [
    "lp.get_virtual_reserve(eth)"
   ]
  }
 ],
 "metadata": {
  "kernelspec": {
   "display_name": "Python 3 (ipykernel)",
   "language": "python",
   "name": "python3"
  },
  "language_info": {
   "codemirror_mode": {
    "name": "ipython",
    "version": 3
   },
   "file_extension": ".py",
   "mimetype": "text/x-python",
   "name": "python",
   "nbconvert_exporter": "python",
   "pygments_lexer": "ipython3",
   "version": "3.10.0rc2"
  }
 },
 "nbformat": 4,
 "nbformat_minor": 5
}
