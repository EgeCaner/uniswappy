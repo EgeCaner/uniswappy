{
 "cells": [
  {
   "cell_type": "code",
   "execution_count": 2,
   "id": "54d68f40-5184-403c-a548-fbb76c2a6476",
   "metadata": {},
   "outputs": [],
   "source": [
    "from uniswappy import *\n",
    "\n",
    "user_nm = 'user0'\n",
    "eth_amount = 10000\n",
    "tkn_amount = 100000\n",
    "\n",
    "fee = UniV3Utils.FeeAmount.MEDIUM\n",
    "tick_spacing = UniV3Utils.TICK_SPACINGS[fee]\n",
    "lwr_tick = UniV3Utils.getMinTick(tick_spacing)\n",
    "upr_tick = UniV3Utils.getMaxTick(tick_spacing)"
   ]
  },
  {
   "cell_type": "code",
   "execution_count": 24,
   "id": "8715bd6e-c822-4fea-b400-2d64af291b95",
   "metadata": {},
   "outputs": [
    {
     "name": "stdout",
     "output_type": "stream",
     "text": [
      "Exchange ETH-TKN (LP)\n",
      "Reserves: ETH = 10000, TKN = 100000\n",
      "Liquidity: 31622.776601683792 \n",
      "\n"
     ]
    }
   ],
   "source": [
    "tkn = ERC20(\"TKN\", \"0x111\")\n",
    "eth = ERC20(\"ETH\", \"0x09\")\n",
    "exchg_data = UniswapExchangeData(tkn0 = eth, tkn1 = tkn, symbol=\"LP\", address=\"0x011\")\n",
    "\n",
    "factory = UniswapFactory(\"ETH pool factory\", \"0x2\")\n",
    "lp = factory.deploy(exchg_data)\n",
    "\n",
    "Join().apply(lp, user_nm, eth_amount, tkn_amount)\n",
    "lp.summary()"
   ]
  },
  {
   "cell_type": "code",
   "execution_count": 25,
   "id": "2e463ce7-c0f6-4e19-9e17-59619ed5f039",
   "metadata": {},
   "outputs": [
    {
     "name": "stdout",
     "output_type": "stream",
     "text": [
      "price 0.09969529006332349 0.10057849639682231\n",
      "price 0.10344257267059 0.10344257267059001\n",
      "price 0.10446627132465655 0.1044662713246565\n",
      "price 0.10686604037664629 0.10686604037664628\n",
      "price 0.10626282002438588 0.10626282002438592\n",
      "price 0.10090002466414918 0.10090002466414921\n",
      "price 0.1011716302938556 0.10117163029385558\n",
      "price 0.10137080536608596 0.10137080536608595\n",
      "price 0.10860165319528718 0.1086016531952872\n",
      "price 0.10514465902222178 0.10514465902222178\n",
      "price 0.1100592334592193 0.1100592334592193\n",
      "price 0.10356823610031374 0.10356823610031374\n",
      "price 0.10747079796052748 0.1074707979605275\n",
      "price 0.1039679003788235 0.1039679003788235\n",
      "price 0.10718000214954276 0.10718000214954278\n",
      "price 0.11153096142175832 0.1115309614217583\n",
      "price 0.11260681084982868 0.1126068108498287\n",
      "price 0.1107922498582952 0.11079224985829521\n",
      "price 0.11649004265111779 0.11649004265111779\n",
      "price 0.11589720686815315 0.11589720686815316\n",
      "price 0.11602100581488715 0.11602100581488715\n",
      "price 0.12198589749205987 0.1219858974920599\n",
      "price 0.11713712809749702 0.11713712809749699\n",
      "price 0.12030320260481246 0.12030320260481245\n",
      "price 0.12019322293140046 0.12019322293140047\n",
      "price 0.12069986911041528 0.12069986911041526\n",
      "price 0.12718637244312778 0.1271863724431278\n",
      "price 0.12395305917598028 0.12395305917598026\n",
      "price 0.1289689359422551 0.1289689359422551\n"
     ]
    }
   ],
   "source": [
    "n_steps = 30\n",
    "start_price = lp.get_price(tkn)\n",
    "mu = 0.3; sigma = 0.5\n",
    "n_paths = 25\n",
    "\n",
    "b = BrownianModel(start_price)\n",
    "p_arr = b.gen_gbms(mu, sigma, n_steps, n_paths)\n",
    "exp_p_arr = np.median(p_arr, axis = 1)\n",
    "\n",
    "arb = CorrectReserves(lp, x0 = 1/exp_p_arr[0])\n",
    "for k in range(1, n_steps):\n",
    "    arb.apply(1/exp_p_arr[k])\n",
    "    print(f'price {lp.get_price(tkn)} {exp_p_arr[k]}')"
   ]
  },
  {
   "cell_type": "code",
   "execution_count": 22,
   "id": "4444c168-f86a-48d6-876d-b38317b30d84",
   "metadata": {},
   "outputs": [
    {
     "name": "stdout",
     "output_type": "stream",
     "text": [
      "Exchange ETH-TKN (LP)\n",
      "Real Reserves:   ETH = 9999.999999999998, TKN = 100000.0\n",
      "Liquidity: 31622.776601683792 \n",
      "\n"
     ]
    }
   ],
   "source": [
    "eth = ERC20(\"ETH\", \"0x09\")\n",
    "tkn = ERC20(\"TKN\", \"0x111\")\n",
    "\n",
    "exchg_data = UniswapExchangeData(tkn0 = eth, tkn1 = tkn, symbol=\"LP\", \n",
    "                                   address=\"0x011\", version = 'V3', \n",
    "                                   tick_spacing = tick_spacing, \n",
    "                                   fee = fee)\n",
    "\n",
    "factory = UniswapFactory(\"ETH pool factory\", \"0x2\")\n",
    "lp = factory.deploy(exchg_data)\n",
    "\n",
    "Join().apply(lp, user_nm, eth_amount, tkn_amount, lwr_tick, upr_tick)\n",
    "lp.summary()"
   ]
  },
  {
   "cell_type": "code",
   "execution_count": 23,
   "id": "06d03b6f-0ec9-44d8-b7f9-76c3ba171df2",
   "metadata": {},
   "outputs": [
    {
     "name": "stdout",
     "output_type": "stream",
     "text": [
      "price 0.10105963026057024 0.10106123080201032\n",
      "price 0.1004767806785377 0.10047592072645262\n",
      "price 0.0977632098031646 0.09775924857414774\n",
      "price 0.0970802880046356 0.09707926469855144\n",
      "price 0.09531142883416499 0.09530878873502141\n",
      "price 0.105813751694437 0.10583043095405838\n",
      "price 0.09974634219895995 0.09973875451350653\n",
      "price 0.10339050944654014 0.1033954266488528\n",
      "price 0.09850413672355851 0.09849817567477526\n",
      "price 0.1018280366014712 0.10183235466326798\n",
      "price 0.10447213952452337 0.1044753853820318\n",
      "price 0.10136931108269731 0.10136576086428674\n",
      "price 0.10187541199114121 0.10187601020076427\n",
      "price 0.107160682845761 0.10716697176807514\n",
      "price 0.10920886636987627 0.10921107697156268\n",
      "price 0.10838131388077703 0.10838045908269053\n",
      "price 0.09793897443354471 0.09792878656428272\n",
      "price 0.1025044281810194 0.10250941271264055\n",
      "price 0.09962510434552364 0.09962229747435691\n",
      "price 0.10176822065907588 0.10177038048969081\n",
      "price 0.1033208714861239 0.1033223748592576\n",
      "price 0.10700944209743919 0.10701293512817672\n",
      "price 0.10541187028537283 0.1054104815707641\n",
      "price 0.11382802420801942 0.11383558144365144\n",
      "price 0.11450131750978997 0.11450182640440267\n",
      "price 0.10011810986562353 0.10010829598663838\n",
      "price 0.10720530394454196 0.10721074292727825\n",
      "price 0.11148941535670541 0.11149223140839486\n",
      "price 0.11607129928393091 0.11607404490189578\n"
     ]
    }
   ],
   "source": [
    "n_steps = 30\n",
    "start_price = lp.get_price(tkn)\n",
    "mu = 0.3; sigma = 0.5\n",
    "n_paths = 25\n",
    "\n",
    "b = BrownianModel(start_price)\n",
    "p_arr = b.gen_gbms(mu, sigma, n_steps, n_paths)\n",
    "exp_p_arr = np.median(p_arr, axis = 1)\n",
    "\n",
    "arb = CorrectReserves(lp, x0 = 1/exp_p_arr[0])\n",
    "for k in range(1, n_steps):\n",
    "    arb.apply(1/exp_p_arr[k], lwr_tick, upr_tick)\n",
    "    print(f'price {lp.get_price(tkn)} {exp_p_arr[k]}')"
   ]
  }
 ],
 "metadata": {
  "kernelspec": {
   "display_name": "Python 3 (ipykernel)",
   "language": "python",
   "name": "python3"
  },
  "language_info": {
   "codemirror_mode": {
    "name": "ipython",
    "version": 3
   },
   "file_extension": ".py",
   "mimetype": "text/x-python",
   "name": "python",
   "nbconvert_exporter": "python",
   "pygments_lexer": "ipython3",
   "version": "3.10.0rc2"
  }
 },
 "nbformat": 4,
 "nbformat_minor": 5
}
