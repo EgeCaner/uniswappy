{
 "cells": [
  {
   "cell_type": "code",
   "execution_count": 1,
   "id": "8715bd6e-c822-4fea-b400-2d64af291b95",
   "metadata": {},
   "outputs": [],
   "source": [
    "from uniswappy import *"
   ]
  },
  {
   "cell_type": "code",
   "execution_count": 2,
   "id": "e911f635-c223-42c5-aac4-aa8f4b9249ad",
   "metadata": {},
   "outputs": [],
   "source": [
    "user_nm = 'user0'\n",
    "eth_amount = 1000\n",
    "tkn_amount = 100000\n",
    "\n",
    "fee = UniV3Utils.FeeAmount.MEDIUM\n",
    "tick_spacing = UniV3Utils.TICK_SPACINGS[fee]\n",
    "lwr_tick = UniV3Utils.getMinTick(tick_spacing)\n",
    "upr_tick = UniV3Utils.getMaxTick(tick_spacing)"
   ]
  },
  {
   "cell_type": "code",
   "execution_count": 6,
   "id": "4444c168-f86a-48d6-876d-b38317b30d84",
   "metadata": {},
   "outputs": [
    {
     "name": "stdout",
     "output_type": "stream",
     "text": [
      "Exchange ETH-TKN (LP)\n",
      "Real Reserves:   ETH = 1000.0, TKN = 100000.0\n",
      "Liquidity: 10000.0 \n",
      "\n"
     ]
    }
   ],
   "source": [
    "eth = ERC20(\"ETH\", \"0x09\")\n",
    "tkn = ERC20(\"TKN\", \"0x111\")\n",
    "\n",
    "exchg_data = UniswapExchangeData(tkn0 = eth, tkn1 = tkn, symbol=\"LP\", \n",
    "                                   address=\"0x011\", version = 'V3', \n",
    "                                   tick_spacing = tick_spacing, \n",
    "                                   fee = fee)\n",
    "\n",
    "factory = UniswapFactory(\"ETH pool factory\", \"0x2\")\n",
    "lp = factory.deploy(exchg_data)\n",
    "\n",
    "Join().apply(lp, user_nm, eth_amount, tkn_amount, lwr_tick, upr_tick)\n",
    "lp.summary()"
   ]
  },
  {
   "cell_type": "code",
   "execution_count": null,
   "id": "2dd657a2-50be-40e6-bd13-938a50bef069",
   "metadata": {},
   "outputs": [],
   "source": [
    "lp"
   ]
  },
  {
   "cell_type": "code",
   "execution_count": 4,
   "id": "e0f0c84e-6cd8-4149-9a1f-df0de389e9c9",
   "metadata": {},
   "outputs": [],
   "source": [
    "n_steps = 50\n",
    "start_price = 0.1\n",
    "mu = 0.3; sigma = 0.5\n",
    "n_paths = 25\n",
    "\n",
    "b = BrownianModel(start_price)\n",
    "p_arr = b.gen_gbms(mu, sigma, n_steps, n_paths)\n",
    "exp_p_arr = np.median(p_arr, axis = 1)"
   ]
  },
  {
   "cell_type": "code",
   "execution_count": 5,
   "id": "06d03b6f-0ec9-44d8-b7f9-76c3ba171df2",
   "metadata": {},
   "outputs": [
    {
     "data": {
      "text/plain": [
       "array([0.1       , 0.09910039, 0.10112911, 0.10360985, 0.10575764,\n",
       "       0.10370761, 0.10712726, 0.10974866, 0.11359094, 0.11013103,\n",
       "       0.10871403, 0.1088108 , 0.10954557, 0.10874119, 0.10984676,\n",
       "       0.10682231, 0.10628965, 0.10353376, 0.10877484, 0.10837206,\n",
       "       0.11210826, 0.10525519, 0.10348032, 0.10660681, 0.11146795,\n",
       "       0.10334846, 0.11405807, 0.11312716, 0.11123381, 0.11080787,\n",
       "       0.11869062, 0.11862398, 0.11695784, 0.12448069, 0.1176874 ,\n",
       "       0.12350824, 0.11768239, 0.1211858 , 0.12064332, 0.11824995,\n",
       "       0.10818381, 0.12084846, 0.11941982, 0.12662708, 0.12746612,\n",
       "       0.13038344, 0.13490398, 0.13360572, 0.12921938, 0.13706013,\n",
       "       0.13902719])"
      ]
     },
     "execution_count": 5,
     "metadata": {},
     "output_type": "execute_result"
    }
   ],
   "source": [
    "exp_p_arr"
   ]
  }
 ],
 "metadata": {
  "kernelspec": {
   "display_name": "Python 3 (ipykernel)",
   "language": "python",
   "name": "python3"
  },
  "language_info": {
   "codemirror_mode": {
    "name": "ipython",
    "version": 3
   },
   "file_extension": ".py",
   "mimetype": "text/x-python",
   "name": "python",
   "nbconvert_exporter": "python",
   "pygments_lexer": "ipython3",
   "version": "3.10.0rc2"
  }
 },
 "nbformat": 4,
 "nbformat_minor": 5
}
