{
 "cells": [
  {
   "cell_type": "code",
   "execution_count": 1,
   "id": "54d68f40-5184-403c-a548-fbb76c2a6476",
   "metadata": {},
   "outputs": [],
   "source": [
    "from uniswappy import *\n",
    "\n",
    "user_nm = 'user0'\n",
    "eth_amount = 10000\n",
    "tkn_amount = 100000\n",
    "\n",
    "fee = UniV3Utils.FeeAmount.MEDIUM\n",
    "tick_spacing = UniV3Utils.TICK_SPACINGS[fee]\n",
    "lwr_tick = UniV3Utils.getMinTick(tick_spacing)\n",
    "upr_tick = UniV3Utils.getMaxTick(tick_spacing)"
   ]
  },
  {
   "cell_type": "code",
   "execution_count": 2,
   "id": "e2169415-721d-4610-aaa9-54d7ced0ab08",
   "metadata": {},
   "outputs": [],
   "source": [
    "n_steps = 250\n",
    "start_price = tkn_amount/eth_amount\n",
    "mu = 0.3; sigma = 0.8\n",
    "n_paths = 25\n",
    "\n",
    "b = BrownianModel(start_price)\n",
    "p_arr = b.gen_gbms(mu, sigma, n_steps, n_paths)\n",
    "exp_p_arr = np.median(p_arr, axis = 1)"
   ]
  },
  {
   "cell_type": "code",
   "execution_count": 3,
   "id": "8715bd6e-c822-4fea-b400-2d64af291b95",
   "metadata": {},
   "outputs": [
    {
     "name": "stdout",
     "output_type": "stream",
     "text": [
      "Exchange ETH-TKN (LP)\n",
      "Reserves: ETH = 10000, TKN = 100000\n",
      "Liquidity: 31622.776601683792 \n",
      "\n"
     ]
    }
   ],
   "source": [
    "tkn = ERC20(\"TKN\", \"0x111\")\n",
    "eth = ERC20(\"ETH\", \"0x09\")\n",
    "exchg_data = UniswapExchangeData(tkn0 = eth, tkn1 = tkn, symbol=\"LP\", address=\"0x011\")\n",
    "\n",
    "factory = UniswapFactory(\"ETH pool factory\", \"0x2\")\n",
    "lp = factory.deploy(exchg_data)\n",
    "\n",
    "Join().apply(lp, user_nm, eth_amount, tkn_amount)\n",
    "lp.summary()"
   ]
  },
  {
   "cell_type": "code",
   "execution_count": 4,
   "id": "2e463ce7-c0f6-4e19-9e17-59619ed5f039",
   "metadata": {},
   "outputs": [
    {
     "name": "stdout",
     "output_type": "stream",
     "text": [
      "\n",
      "Exchange ETH-TKN (LP)\n",
      "Reserves: ETH = 515244.9122660737, TKN = 50516.187167456206\n",
      "Liquidity: 161047.06717309097 \n",
      "\n"
     ]
    }
   ],
   "source": [
    "arb = CorrectReserves(lp, x0 = 1/exp_p_arr[0])\n",
    "for k in range(1, n_steps):\n",
    "    p = 1/exp_p_arr[k]\n",
    "    arb.apply(p)\n",
    "\n",
    "    select_tkn = EventSelectionModel().bi_select(0.5)\n",
    "    bias_factor = 1\n",
    "    rnd_amt = TokenDeltaModel(30).delta()\n",
    "    \n",
    "    if(select_tkn == 0):\n",
    "        out = Swap().apply(lp, eth, user_nm, rnd_amt) \n",
    "    else:\n",
    "        out = Swap().apply(lp, tkn, user_nm,  bias_factor*p*rnd_amt)  \n",
    "\n",
    "    #print(f'price {lp.get_price(tkn)} {exp_p_arr[k]}')\n",
    "\n",
    "print('')\n",
    "lp.summary()"
   ]
  },
  {
   "cell_type": "code",
   "execution_count": 5,
   "id": "4444c168-f86a-48d6-876d-b38317b30d84",
   "metadata": {},
   "outputs": [
    {
     "name": "stdout",
     "output_type": "stream",
     "text": [
      "Exchange ETH-TKN (LP)\n",
      "Real Reserves:   ETH = 9999.999999999998, TKN = 100000.0\n",
      "Liquidity: 31622.776601683792 \n",
      "\n"
     ]
    }
   ],
   "source": [
    "eth = ERC20(\"ETH\", \"0x09\")\n",
    "tkn = ERC20(\"TKN\", \"0x111\")\n",
    "\n",
    "exchg_data = UniswapExchangeData(tkn0 = eth, tkn1 = tkn, symbol=\"LP\", \n",
    "                                   address=\"0x011\", version = 'V3', \n",
    "                                   tick_spacing = tick_spacing, \n",
    "                                   fee = fee)\n",
    "\n",
    "factory = UniswapFactory(\"ETH pool factory\", \"0x2\")\n",
    "lp = factory.deploy(exchg_data)\n",
    "\n",
    "Join().apply(lp, user_nm, eth_amount, tkn_amount, lwr_tick, upr_tick)\n",
    "lp.summary()"
   ]
  },
  {
   "cell_type": "code",
   "execution_count": 6,
   "id": "2f8d0aaf-2c72-4cb5-9dce-43847a5bcd2e",
   "metadata": {},
   "outputs": [
    {
     "name": "stdout",
     "output_type": "stream",
     "text": [
      "\n",
      "Exchange ETH-TKN (LP)\n",
      "Real Reserves:   ETH = 515047.75886891154, TKN = 50471.51255559729\n",
      "Liquidity: 161124.6166287103 \n",
      "\n"
     ]
    }
   ],
   "source": [
    "arb = CorrectReserves(lp, x0 = 1/exp_p_arr[0])\n",
    "for k in range(1, n_steps):\n",
    "    p = 1/exp_p_arr[k]\n",
    "    arb.apply(p, lwr_tick, upr_tick)\n",
    "\n",
    "    select_tkn = EventSelectionModel().bi_select(0.5)\n",
    "    bias_factor = 1\n",
    "    rnd_amt = TokenDeltaModel(100).delta()\n",
    "    \n",
    "    if(select_tkn == 0):\n",
    "        out = Swap().apply(lp, eth, user_nm, rnd_amt) \n",
    "    else:\n",
    "        out = Swap().apply(lp, tkn, user_nm,  bias_factor*p*rnd_amt)  \n",
    "\n",
    "    #print(f'price {lp.get_price(tkn)} {exp_p_arr[k]}')\n",
    "\n",
    "print('')\n",
    "lp.summary()"
   ]
  }
 ],
 "metadata": {
  "kernelspec": {
   "display_name": "Python 3 (ipykernel)",
   "language": "python",
   "name": "python3"
  },
  "language_info": {
   "codemirror_mode": {
    "name": "ipython",
    "version": 3
   },
   "file_extension": ".py",
   "mimetype": "text/x-python",
   "name": "python",
   "nbconvert_exporter": "python",
   "pygments_lexer": "ipython3",
   "version": "3.10.0rc2"
  }
 },
 "nbformat": 4,
 "nbformat_minor": 5
}
