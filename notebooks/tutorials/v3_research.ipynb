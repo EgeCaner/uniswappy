{
 "cells": [
  {
   "cell_type": "markdown",
   "id": "58a1be19-e923-4894-89ec-69d7113e85e0",
   "metadata": {},
   "source": [
    "## Pairing Code Abstractions (Uniswap V3)\n",
    "\n",
    "**Join()**: joins X for Y amounts to pool <br>\n",
    "**Swap()**: swaps X for Y (and vice verse) <br>\n",
    "**AddLiquidity()**: adds liquidity using only X or Y amounts <br>\n",
    "**RemoveLiquidity()**: removes liquidity using only X or Y amounts <br>\n",
    "**SwapDeposit()**: deposit desired token -> perform approx. 50% swap ->  perform approx. 50/50 deposit (exact percentages are calculated) <br>\n",
    "**WithdrawSwap()**: perform approx. 50/50 withdraw  -> swap remaining approx. 50% -> return desired token (exact percentages are calculated) <br>"
   ]
  },
  {
   "cell_type": "code",
   "execution_count": null,
   "id": "d558db2d-c2b7-41aa-a6e5-fa47a3ca1cf0",
   "metadata": {},
   "outputs": [],
   "source": [
    "from uniswappy import *"
   ]
  },
  {
   "cell_type": "code",
   "execution_count": null,
   "id": "9ac07634-5ed7-450e-a657-da378c8de0ff",
   "metadata": {},
   "outputs": [],
   "source": [
    "user_nm = 'user_intro'\n",
    "tkn_amount = 10000\n",
    "dai_amount = 100"
   ]
  },
  {
   "cell_type": "code",
   "execution_count": null,
   "id": "a61be224-630a-433a-af8b-7fce08782cba",
   "metadata": {},
   "outputs": [],
   "source": [
    "tkn = ERC20(\"TKN\", \"0x111\")\n",
    "dai = ERC20(\"DAI\", \"0x09\")\n",
    "exchg_data = UniswapExchangeData(tkn0 = tkn, tkn1 = dai, symbol=\"LP\", address=\"0x011\")\n",
    "factory = UniswapFactory(\"ETH pool factory\", \"0x2\")\n",
    "lp = factory.deploy(exchg_data)\n",
    "\n",
    "out_v2 = Join().apply(lp, user_nm, tkn_amount, dai_amount)\n",
    "lp.summary()\n",
    "\n",
    "lp.add_liquidity(user_nm, tkn_amount, dai_amount, tkn_amount, dai_amount)\n",
    "lp.summary()\n",
    "\n",
    "out_v2 = RemoveLiquidity().apply(lp, dai, user_nm, 100)\n",
    "lp.summary()\n",
    "\n",
    "out_v2 = AddLiquidity().apply(lp, dai, user_nm, 100)\n",
    "lp.summary()\n",
    "\n",
    "out_v2 = WithdrawSwap().apply(lp, dai, user_nm, 100)\n",
    "lp.summary()\n",
    "\n",
    "out_v2 = Swap().apply(lp, dai, user_nm, 100)\n",
    "lp.summary()\n",
    "\n",
    "#out_v2 = SwapDeposit().apply(lp, dai, user_nm, 100)\n",
    "#lp.summary()\n",
    "\n",
    "LPQuote(False).get_amount_from_lp(lp, dai, 1000)"
   ]
  },
  {
   "cell_type": "code",
   "execution_count": null,
   "id": "35fe2842-c161-4b61-b3ff-7986fda5313a",
   "metadata": {},
   "outputs": [],
   "source": []
  },
  {
   "cell_type": "code",
   "execution_count": null,
   "id": "cf13bfb2-9d32-48d8-af08-dee42f7a749e",
   "metadata": {},
   "outputs": [],
   "source": [
    "LPQuote().get_lp_from_amount(lp, dai, 416.22776601683796)"
   ]
  },
  {
   "cell_type": "code",
   "execution_count": null,
   "id": "4af86233-f376-4d93-b720-b632502e4ce5",
   "metadata": {},
   "outputs": [],
   "source": [
    "out = WithdrawSwap().apply(lp, dai, user_nm, 100)\n",
    "lp.summary() "
   ]
  },
  {
   "cell_type": "code",
   "execution_count": null,
   "id": "b2d58674-862e-4ef2-bea3-377a0ea47b0b",
   "metadata": {},
   "outputs": [],
   "source": [
    "SettlementLPToken().calc_lp_settlement(lp, tkn, 100)"
   ]
  },
  {
   "cell_type": "code",
   "execution_count": null,
   "id": "63ca6f43-3de5-4de1-8fdf-ba11cdfdf948",
   "metadata": {},
   "outputs": [],
   "source": [
    "RebaseIndexToken().calc_tkn_settlement(lp, dai, 3162.2776601683795)"
   ]
  },
  {
   "cell_type": "code",
   "execution_count": null,
   "id": "1582219f-9e8f-4bca-badd-7637fb629cc2",
   "metadata": {},
   "outputs": [],
   "source": [
    "LPQuote().get_lp_from_amount(lp, dai, 316.2277660168379)"
   ]
  },
  {
   "cell_type": "code",
   "execution_count": null,
   "id": "d03628a2-1a64-4442-89da-782dce6d2029",
   "metadata": {},
   "outputs": [],
   "source": [
    "LPQuote(False).get_amount_from_lp(lp, dai, 1000)"
   ]
  },
  {
   "cell_type": "code",
   "execution_count": null,
   "id": "84b93b8d-97b4-4d4a-b10f-5b87207fbe8e",
   "metadata": {},
   "outputs": [],
   "source": [
    "LPQuote(False).get_amount_from_lp(lp, dai, 1000)"
   ]
  },
  {
   "cell_type": "markdown",
   "id": "008623b1-cc77-4882-b239-ea10ad383e30",
   "metadata": {},
   "source": [
    "#### Uni V3: swapExact0For1 (Correct) "
   ]
  },
  {
   "cell_type": "code",
   "execution_count": null,
   "id": "5936e93f-b548-44a6-8477-d4c1cfd13909",
   "metadata": {},
   "outputs": [],
   "source": [
    "x = 1000*10\n",
    "y = 1*10\n",
    "#k = np.sqrt(x*y)\n",
    "\n",
    "math.sqrt(x*y)"
   ]
  },
  {
   "cell_type": "code",
   "execution_count": null,
   "id": "a46baabe-e7c6-4235-aa4b-c87421ba62d8",
   "metadata": {},
   "outputs": [],
   "source": [
    "from uniswappy import *\n",
    "import math\n",
    "\n",
    "user_nm = 'user_intro'\n",
    "fee = UniV3Utils.FeeAmount.MEDIUM\n",
    "tick_spacing = UniV3Utils.TICK_SPACINGS[fee]\n",
    "lwr_tick = UniV3Utils.getMinTick(tick_spacing)\n",
    "upr_tick = UniV3Utils.getMaxTick(tick_spacing)\n",
    "\n",
    "user_nm = 'user_intro'\n",
    "tkn_amount = 10000\n",
    "dai_amount = 100\n",
    "\n",
    "tkn = ERC20(\"TKN\", \"0x111\")\n",
    "dai = ERC20(\"DAI\", \"0x09\")\n",
    "\n",
    "exchg_data = UniswapExchangeData(tkn0 = tkn, tkn1 = dai, symbol=\"LP\", \n",
    "                                   address=\"0x011\", version = 'V3', \n",
    "                                   tick_spacing = tick_spacing, \n",
    "                                   fee = fee)\n",
    "\n",
    "factory = UniswapFactory(\"TKN pool factory\", \"0x2\")\n",
    "lp = factory.deploy(exchg_data)\n",
    "\n",
    "out_v3 = Join().apply(lp, user_nm, tkn_amount, dai_amount, lwr_tick, upr_tick)\n",
    "lp.summary()"
   ]
  },
  {
   "cell_type": "code",
   "execution_count": null,
   "id": "1d4241af-e188-478d-beb8-6d5226f0913e",
   "metadata": {},
   "outputs": [],
   "source": [
    "from uniswappy import *\n",
    "\n",
    "user_nm = 'user_intro'\n",
    "fee = UniV3Utils.FeeAmount.MEDIUM\n",
    "tick_spacing = UniV3Utils.TICK_SPACINGS[fee]\n",
    "lwr_tick = UniV3Utils.getMinTick(tick_spacing)\n",
    "upr_tick = UniV3Utils.getMaxTick(tick_spacing)\n",
    "init_price = UniV3Utils.encodePriceSqrt(1, 100)\n",
    "\n",
    "tkn = ERC20(\"TKN\", \"0x111\")\n",
    "dai = ERC20(\"DAI\", \"0x09\")\n",
    "\n",
    "exchg_data = UniswapExchangeData(tkn0 = tkn, tkn1 = dai, symbol=\"LP\", \n",
    "                                   address=\"0x011\", version = 'V3', \n",
    "                                   tick_spacing = tick_spacing, \n",
    "                                   fee = fee)\n",
    "\n",
    "factory = UniswapFactory(\"TKN pool factory\", \"0x2\")\n",
    "lp = factory.deploy(exchg_data)\n",
    "lp.initialize(init_price)\n",
    "out_v3 = lp.mint(user_nm, lwr_tick, upr_tick, 3162.2776601683795)\n",
    "lp.summary()\n",
    "\n",
    "out_v3 = RemoveLiquidity().apply(lp, dai, user_nm, 100, lwr_tick, upr_tick)\n",
    "lp.summary()\n",
    "\n",
    "out_v3 = AddLiquidity().apply(lp, dai, user_nm, 100, lwr_tick, upr_tick)\n",
    "lp.summary()\n",
    "\n",
    "out_v2 = Swap().apply(lp, dai, user_nm, 100)\n",
    "lp.summary()\n",
    "\n",
    "#out_v3 = WithdrawSwap().apply(lp, dai, user_nm, 100, lwr_tick, upr_tick)\n",
    "#lp.summary()\n",
    "\n",
    "out_v3 = SwapDeposit().apply(lp, dai, user_nm, 100, lwr_tick, upr_tick)\n",
    "lp.summary()\n",
    "\n",
    "LPQuote(False).get_amount_from_lp(lp, dai, 1000)"
   ]
  },
  {
   "cell_type": "code",
   "execution_count": null,
   "id": "49d28f43-9807-46f5-b35d-784c29601781",
   "metadata": {},
   "outputs": [],
   "source": [
    "SettlementLPToken().calc_lp_settlement(lp, tkn, 100)"
   ]
  },
  {
   "cell_type": "code",
   "execution_count": null,
   "id": "e9b9a9d7-902c-4de0-aac4-9aaecb5cd53f",
   "metadata": {},
   "outputs": [],
   "source": [
    "from uniswappy import *\n",
    "\n",
    "user_nm = 'user_intro'\n",
    "fee = UniV3Utils.FeeAmount.MEDIUM\n",
    "tick_spacing = UniV3Utils.TICK_SPACINGS[fee]\n",
    "lwr_tick = UniV3Utils.getMinTick(tick_spacing)\n",
    "upr_tick = UniV3Utils.getMaxTick(tick_spacing)\n",
    "init_price = UniV3Utils.encodePriceSqrt(1, 100)\n",
    "\n",
    "tkn = ERC20(\"TKN\", \"0x111\")\n",
    "dai = ERC20(\"DAI\", \"0x09\")\n",
    "\n",
    "exchg_data = UniswapExchangeData(tkn0 = tkn, tkn1 = dai, symbol=\"LP\", \n",
    "                                   address=\"0x011\", version = 'V3', \n",
    "                                   tick_spacing = tick_spacing, \n",
    "                                   fee = fee)\n",
    "\n",
    "factory = UniswapFactory(\"TKN pool factory\", \"0x2\")\n",
    "lp = factory.deploy(exchg_data)\n",
    "lp.initialize(init_price)\n",
    "out_v3 = lp.mint(user_nm, lwr_tick, upr_tick, 3162.2776601683795)\n",
    "lp.summary()\n",
    "\n",
    "out_v2 = Swap().apply(lp, dai, user_nm, 100)\n",
    "lp.summary()\n",
    "\n",
    "liq_prev = lp.get_liquidity()\n",
    "\n",
    "lp_test = LPQuote(False).get_lp_from_amount(lp, dai, 100)\n",
    "\n",
    "out_v3 = WithdrawSwap().apply(lp, dai, user_nm, 100, lwr_tick, upr_tick)\n",
    "lp.summary()\n",
    "\n",
    "liq_post = lp.get_liquidity()\n",
    "\n",
    "lp_test"
   ]
  },
  {
   "cell_type": "code",
   "execution_count": null,
   "id": "6bc5633d-e07d-4a46-acfb-7204df2d080e",
   "metadata": {},
   "outputs": [],
   "source": [
    "liq_prev - liq_post"
   ]
  },
  {
   "cell_type": "code",
   "execution_count": null,
   "id": "4c602412-6fd5-4a3f-a404-77eb9efc580b",
   "metadata": {},
   "outputs": [],
   "source": [
    "from uniswappy import *\n",
    "\n",
    "user_nm = 'user_intro'\n",
    "fee = UniV3Utils.FeeAmount.MEDIUM\n",
    "tick_spacing = UniV3Utils.TICK_SPACINGS[fee]\n",
    "lwr_tick = UniV3Utils.getMinTick(tick_spacing)\n",
    "upr_tick = UniV3Utils.getMaxTick(tick_spacing)\n",
    "init_price = UniV3Utils.encodePriceSqrt(1, 100)\n",
    "\n",
    "tkn = ERC20(\"TKN\", \"0x111\")\n",
    "dai = ERC20(\"DAI\", \"0x09\")\n",
    "\n",
    "exchg_data = UniswapExchangeData(tkn0 = tkn, tkn1 = dai, symbol=\"LP\", \n",
    "                                   address=\"0x011\", version = 'V3', \n",
    "                                   tick_spacing = tick_spacing, \n",
    "                                   fee = fee)\n",
    "\n",
    "factory = UniswapFactory(\"TKN pool factory\", \"0x2\")\n",
    "lp = factory.deploy(exchg_data)\n",
    "lp.initialize(init_price)\n",
    "out_v3 = lp.mint(user_nm, lwr_tick, upr_tick, 3162.2776601683795)\n",
    "lp.summary()\n",
    "\n",
    "res_prev = lp.get_reserve(dai)\n",
    "\n",
    "amt_test = LPQuote(False).get_amount_from_lp(lp, dai, 100)\n",
    "\n",
    "out_v3 = WithdrawSwap().apply(lp, dai, user_nm, amt_test, lwr_tick, upr_tick)\n",
    "lp.summary()\n",
    "\n",
    "res_post = lp.get_reserve(dai)\n",
    "\n",
    "amt_test"
   ]
  },
  {
   "cell_type": "code",
   "execution_count": null,
   "id": "eedcfc4b-e50f-4588-adab-ef9457559862",
   "metadata": {},
   "outputs": [],
   "source": [
    "amt_test"
   ]
  },
  {
   "cell_type": "code",
   "execution_count": null,
   "id": "cb430884-6704-4339-ac10-5b1ada915a1c",
   "metadata": {},
   "outputs": [],
   "source": [
    "res_post - res_prev"
   ]
  },
  {
   "cell_type": "code",
   "execution_count": null,
   "id": "f3819a65-b61d-4f7d-a736-c2385823209b",
   "metadata": {},
   "outputs": [],
   "source": [
    "user_nm = 'user_intro'\n",
    "tkn_amount = 31622.776601683792\n",
    "dai_amount = 316.22776601683796\n",
    "\n",
    "tkn = ERC20(\"TKN\", \"0x111\")\n",
    "dai = ERC20(\"DAI\", \"0x09\")\n",
    "exchg_data = UniswapExchangeData(tkn0 = tkn, tkn1 = dai, symbol=\"LP\", address=\"0x011\")\n",
    "\n",
    "factory = UniswapFactory(\"ETH pool factory\", \"0x2\")\n",
    "lp = factory.deploy(exchg_data)\n",
    "lp.add_liquidity(user_nm, tkn_amount, dai_amount, tkn_amount, dai_amount)\n",
    "lp.summary()\n",
    "\n",
    "Swap().apply(lp, dai, user_nm, 100)\n",
    "lp.summary()"
   ]
  },
  {
   "cell_type": "code",
   "execution_count": null,
   "id": "b5bcf564-cece-487b-8c84-62fd1a3bed76",
   "metadata": {},
   "outputs": [],
   "source": [
    "LPQuote(False).get_amount_from_lp(lp, dai, 1000)"
   ]
  },
  {
   "cell_type": "code",
   "execution_count": null,
   "id": "6a07baf4-d36c-4df0-b6bd-e49c37499cc1",
   "metadata": {},
   "outputs": [],
   "source": [
    "LPQuote().get_lp_from_amount(lp, dai, 416.22776601683796)"
   ]
  },
  {
   "cell_type": "code",
   "execution_count": null,
   "id": "6b6b986a-9dde-4db8-aafe-8d425121fc61",
   "metadata": {},
   "outputs": [],
   "source": [
    "sqrt_P = lp.slot0.sqrtPriceX96/2**96\n",
    "liq = lp.get_liquidity()"
   ]
  },
  {
   "cell_type": "code",
   "execution_count": null,
   "id": "fa3ffff1-64b9-4a02-a85f-f205246c2c13",
   "metadata": {},
   "outputs": [],
   "source": [
    "user_nm = 'user_intro'\n",
    "fee = UniV3Utils.FeeAmount.MEDIUM\n",
    "tick_spacing = UniV3Utils.TICK_SPACINGS[fee]\n",
    "lwr_tick = UniV3Utils.getMinTick(tick_spacing)\n",
    "upr_tick = UniV3Utils.getMaxTick(tick_spacing)\n",
    "init_price = UniV3Utils.encodePriceSqrt(1, 100)\n",
    "\n",
    "tkn = ERC20(\"TKN\", \"0x111\")\n",
    "dai = ERC20(\"DAI\", \"0x09\")\n",
    "\n",
    "exchg_data = UniswapExchangeData(tkn0 = tkn, tkn1 = dai, symbol=\"LP\", \n",
    "                                   address=\"0x011\", version = 'V3', \n",
    "                                   tick_spacing = tick_spacing, \n",
    "                                   fee = fee)\n",
    "\n",
    "factory = UniswapFactory(\"TKN pool factory\", \"0x2\")\n",
    "lp = factory.deploy(exchg_data)\n",
    "lp.initialize(init_price)\n",
    "out_v3 = lp.mint(user_nm, lwr_tick, upr_tick, 3162.2776601683795)\n",
    "lp.summary()\n",
    "\n",
    "out_v3 = Swap().apply(lp, dai, user_nm, 100)\n",
    "lp.summary()\n",
    "\n"
   ]
  },
  {
   "cell_type": "code",
   "execution_count": null,
   "id": "4596eafd-b15f-4569-99fd-dbf4298e1193",
   "metadata": {},
   "outputs": [],
   "source": []
  },
  {
   "cell_type": "code",
   "execution_count": null,
   "id": "dda415fd-dbbc-43c2-af49-4482102311aa",
   "metadata": {},
   "outputs": [],
   "source": [
    "lp.get_virtual_reserve(tkn)/lp.get_virtual_reserve(dai)"
   ]
  },
  {
   "cell_type": "code",
   "execution_count": null,
   "id": "58d90171-7330-4ac9-af2b-961a206970a9",
   "metadata": {},
   "outputs": [],
   "source": [
    "SettlementLPToken().calc_lp_settlement(lp, dai, 100)"
   ]
  },
  {
   "cell_type": "code",
   "execution_count": null,
   "id": "bc822dd4-fa22-4571-a262-dda74f1effb2",
   "metadata": {},
   "outputs": [],
   "source": [
    "RebaseIndexToken().calc_tkn_settlement(lp, dai, 100)"
   ]
  },
  {
   "cell_type": "code",
   "execution_count": null,
   "id": "ee622aba-a37f-474e-8ebb-25e4b96c6f03",
   "metadata": {},
   "outputs": [],
   "source": [
    "LPQuote().get_lp_from_amount(lp, dai, 100)"
   ]
  },
  {
   "cell_type": "code",
   "execution_count": null,
   "id": "b13f9856-94c2-4dd1-af3c-b772c424d8b9",
   "metadata": {},
   "outputs": [],
   "source": [
    "LPQuote(False).get_amount_from_lp(lp, dai, 1000)"
   ]
  }
 ],
 "metadata": {
  "kernelspec": {
   "display_name": "py3",
   "language": "python",
   "name": "py3"
  },
  "language_info": {
   "codemirror_mode": {
    "name": "ipython",
    "version": 3
   },
   "file_extension": ".py",
   "mimetype": "text/x-python",
   "name": "python",
   "nbconvert_exporter": "python",
   "pygments_lexer": "ipython3",
   "version": "3.10.0rc2"
  }
 },
 "nbformat": 4,
 "nbformat_minor": 5
}
