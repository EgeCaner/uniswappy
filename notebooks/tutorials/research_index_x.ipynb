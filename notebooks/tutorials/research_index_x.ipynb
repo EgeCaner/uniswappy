{
 "cells": [
  {
   "cell_type": "markdown",
   "id": "fb6cd7f4-db41-4259-97c7-50e99e82c705",
   "metadata": {},
   "source": [
    "* https://uniswapv3book.com/index.html\n",
    "* https://medium.com/@chaisomsri96/defi-math-uniswap-v3-concentrated-liquidity-bd87686b3ecf\n",
    "* https://liobaheimbach.github.io/assets/pdf/Papers/Risks_and_Returns_of_Uniswap_V3_Liquidity_Providers.pdf\n",
    "* https://docs.uniswap.org/sdk/v3/guides/advanced/active-liquidity\n",
    "* https://blog.uniswap.org/uniswap-v3-math-primer\n",
    "* https://blog.uniswap.org/uniswap-v3-math-primer-2\n",
    "* https://atiselsts.github.io/pdfs/uniswap-v3-liquidity-math.pdf"
   ]
  },
  {
   "cell_type": "code",
   "execution_count": 1,
   "id": "54d68f40-5184-403c-a548-fbb76c2a6476",
   "metadata": {
    "tags": []
   },
   "outputs": [],
   "source": [
    "from uniswappy import *\n",
    "import pandas as pd\n",
    "import copy\n",
    "import matplotlib.pyplot as plt\n",
    "\n",
    "user_nm = MockAddress().apply()\n",
    "eth_amount = 10000\n",
    "tkn_amount = 100000\n",
    "\n",
    "fee = UniV3Utils.FeeAmount.MEDIUM\n",
    "tick_spacing = UniV3Utils.TICK_SPACINGS[fee]\n",
    "lwr_tick = UniV3Utils.getMinTick(tick_spacing)\n",
    "upr_tick = UniV3Utils.getMaxTick(tick_spacing)"
   ]
  },
  {
   "cell_type": "code",
   "execution_count": 2,
   "id": "75c7c594-6b26-43b2-9ab0-e0142be2689c",
   "metadata": {
    "tags": []
   },
   "outputs": [],
   "source": [
    "def calc_Lx(sqrtP, dx, lwr_tick, upr_tick):\n",
    "    pa_sqrt_human = TickMath.getSqrtRatioAtTick(lwr_tick)/2**96\n",
    "    pb_sqrt_human = TickMath.getSqrtRatioAtTick(upr_tick)/2**96 \n",
    "    p_sqrt_human = sqrtP\n",
    "    Lx = dx/(1/p_sqrt_human - 1/pb_sqrt_human)\n",
    "    return Lx\n",
    "\n",
    "def calc_Ly(sqrtP, dy, lwr_tick, upr_tick):\n",
    "    pa_sqrt_human = TickMath.getSqrtRatioAtTick(lwr_tick)/2**96\n",
    "    pb_sqrt_human = TickMath.getSqrtRatioAtTick(upr_tick)/2**96 \n",
    "    p_sqrt_human = sqrtP\n",
    "    Ly = dy/(p_sqrt_human - pa_sqrt_human)\n",
    "    return Ly\n",
    "\n",
    "def calc_y(lp, dL, lwr_tick, upr_tick):\n",
    "    pa_sqrt_human = TickMath.getSqrtRatioAtTick(lwr_tick)/2**96\n",
    "    pb_sqrt_human = TickMath.getSqrtRatioAtTick(upr_tick)/2**96 \n",
    "    p_sqrt_human = lp.slot0.sqrtPriceX96/2**96\n",
    "    dy = dL*(p_sqrt_human - pa_sqrt_human)\n",
    "    #y = dL*(pb_sqrt_human - pa_sqrt_human)\n",
    "    return dy\n",
    "\n",
    "def calc_x(lp, dL, lwr_tick, upr_tick):\n",
    "    pa_sqrt_human = TickMath.getSqrtRatioAtTick(lwr_tick)/2**96\n",
    "    pb_sqrt_human = TickMath.getSqrtRatioAtTick(upr_tick)/2**96 \n",
    "    p_sqrt_human = lp.slot0.sqrtPriceX96/2**96\n",
    "    dx = dL*(1/p_sqrt_human - 1/pb_sqrt_human)\n",
    "    #x = dL*(1/p_sqrt_human - 1/pb_sqrt_human)\n",
    "    return dx"
   ]
  },
  {
   "cell_type": "code",
   "execution_count": 3,
   "id": "8ba08ace-430f-440a-9e37-6b3a45b2400a",
   "metadata": {},
   "outputs": [],
   "source": [
    "q96 = 2**96\n",
    "eth_gwei = 10**18\n",
    "def price_to_sqrtp(p):\n",
    "    return int(math.sqrt(p) * q96)\n",
    "\n",
    "def tick_to_price(tick):\n",
    "    return math.floor(1.0001**tick)\n",
    "\n",
    "def price_to_tick(p):\n",
    "    return math.floor(math.log(p, 1.0001))\n",
    "\n",
    "def liquidity0(amount, pa, pb):\n",
    "    if pa > pb:\n",
    "        pa, pb = pb, pa\n",
    "    return (amount * (pa * pb) / q96) / (pb - pa)\n",
    "\n",
    "def liquidity1(amount, pa, pb):\n",
    "    if pa > pb:\n",
    "        pa, pb = pb, pa\n",
    "    return amount * q96 / (pb - pa)\n",
    "\n",
    "def calc_amount0(liq, pa, pb):\n",
    "    if pa > pb:\n",
    "        pa, pb = pb, pa\n",
    "    return int(liq * q96 * (pb - pa) / pa / pb)\n",
    "\n",
    "\n",
    "def calc_amount1(liq, pa, pb):\n",
    "    if pa > pb:\n",
    "        pa, pb = pb, pa\n",
    "    return int(liq * (pb - pa) / q96)\n",
    "\n",
    "def price_to_tick(p):\n",
    "    return math.floor(math.log(p, 1.0001))"
   ]
  },
  {
   "cell_type": "code",
   "execution_count": 4,
   "id": "b2f175f8-e736-4d36-9a39-44a4eacb8a2c",
   "metadata": {
    "tags": []
   },
   "outputs": [],
   "source": [
    "def calc_lp_settlement(lp, token_in, diy, lwr_tick, upr_tick):\n",
    "\n",
    "    L = lp.get_liquidity()\n",
    "    if(token_in.token_name == lp.token0):\n",
    "        sqrtp_cur = lp.slot0.sqrtPriceX96/2**96\n",
    "        sqrtp_pa = TickMath.getSqrtRatioAtTick(lwr_tick)/2**96\n",
    "        sqrtp_pb = TickMath.getSqrtRatioAtTick(upr_tick)/2**96 \n",
    "        dPy = (sqrtp_cur - sqrtp_pa)\n",
    "        dPx = (1/sqrtp_cur - 1/sqrtp_pb)          \n",
    "    elif(token_in.token_name == lp.token1):\n",
    "        sqrtp_cur = 2**96/lp.slot0.sqrtPriceX96\n",
    "        sqrtp_pa = 2**96/TickMath.getSqrtRatioAtTick(lwr_tick)\n",
    "        sqrtp_pb = 2**96/TickMath.getSqrtRatioAtTick(upr_tick)\n",
    "        dPx = (1/sqrtp_cur - 1/sqrtp_pa)\n",
    "        dPy = (sqrtp_cur - sqrtp_pb)\n",
    "\n",
    "    fee = 997\n",
    "    \n",
    "    a = fee*dPy*sqrtp_cur*dPx - 1000*dPx*(sqrtp_cur**2) - fee*dPy  \n",
    "    b = -fee*dPy*sqrtp_cur*diy + 1000*diy*(sqrtp_cur**2) + L*fee*dPy + 1000*L*dPx*(sqrtp_cur**2)\n",
    "    c = -1000*L*diy*(sqrtp_cur**2)\n",
    "\n",
    "    return (-b + math.sqrt(b*b - 4*a*c)) / (2*a)"
   ]
  },
  {
   "cell_type": "code",
   "execution_count": 5,
   "id": "9ca080e7-3e94-41f9-9fa8-768eb92ab66e",
   "metadata": {
    "tags": []
   },
   "outputs": [
    {
     "name": "stdout",
     "output_type": "stream",
     "text": [
      "Exchange ETH-TKN (LP)\n",
      "Real Reserves:   ETH = 999.9999999999997, TKN = 10340.759310919504\n",
      "Gross Liquidity: 66597.92378128914 \n",
      "\n",
      "lwr_tick 22020, cur_tick 23027, upr_tick 24000\n"
     ]
    },
    {
     "data": {
      "text/plain": [
       "10.000000000000002"
      ]
     },
     "execution_count": 5,
     "metadata": {},
     "output_type": "execute_result"
    }
   ],
   "source": [
    "import math\n",
    "\n",
    "eth = ERC20(\"ETH\", \"0x09\")\n",
    "tkn = ERC20(\"TKN\", \"0x111\")\n",
    "init_price = UniV3Utils.encodePriceSqrt(10, 1)\n",
    "\n",
    "exchg_data = UniswapExchangeData(tkn0 = eth, tkn1 = tkn, symbol=\"LP\", \n",
    "                                   address=\"0x011\", version = 'V3', \n",
    "                                   tick_spacing = tick_spacing, \n",
    "                                   fee = fee)\n",
    "\n",
    "factory = UniswapFactory(\"ETH pool factory\", \"0x2\")\n",
    "lp = factory.deploy(exchg_data)\n",
    "\n",
    "tick_gap = 1000\n",
    "\n",
    "lwr_tick = lp.get_tick_price(-1, 10, tick_gap)\n",
    "upr_tick = lp.get_tick_price(1, 10, tick_gap)\n",
    "\n",
    "#lwr_tick = UniV3Utils.getMinTick(tick_spacing)\n",
    "#upr_tick = UniV3Utils.getMaxTick(tick_spacing)\n",
    "\n",
    "sqrtP =  math.sqrt(10)\n",
    "Ly = calc_Ly(sqrtP, 100, lwr_tick, upr_tick)\n",
    "Lx = calc_Lx(sqrtP, 1000, lwr_tick, upr_tick)\n",
    "\n",
    "lp.initialize(init_price)\n",
    "out = lp.mint(user_nm, lwr_tick, upr_tick, Lx)    #3162.2776601683795\n",
    "lp.summary()\n",
    "\n",
    "lwr_tick = lp.get_tick_price(-1, lp.get_price(eth), tick_gap)\n",
    "upr_tick = lp.get_tick_price(1, lp.get_price(eth), tick_gap)\n",
    "#lwr_tick = UniV3Utils.getMinTick(tick_spacing)\n",
    "#upr_tick = UniV3Utils.getMaxTick(tick_spacing)\n",
    "\n",
    "amount_out = 100\n",
    "Lx = calc_Lx(sqrtP, amount_out, lwr_tick, upr_tick)\n",
    "#p_out = calc_withdraw_portion(lp, tkn, amount_out, lwr_tick, upr_tick)\n",
    "\n",
    "print(f'lwr_tick {lwr_tick}, cur_tick {price_to_tick(lp.get_price(eth))}, upr_tick {upr_tick}')\n",
    "lp.get_price(eth)"
   ]
  },
  {
   "cell_type": "code",
   "execution_count": 6,
   "id": "1ab3a568-cc9c-45bb-b3a9-e1c4ab609a47",
   "metadata": {},
   "outputs": [
    {
     "data": {
      "text/plain": [
       "99.99992253362689"
      ]
     },
     "execution_count": 6,
     "metadata": {},
     "output_type": "execute_result"
    }
   ],
   "source": [
    "dL = 3283.3309207565794\n",
    "diy = 100\n",
    "L = lp.get_liquidity()\n",
    "\n",
    "dPy = calc_y(lp, 1, lwr_tick, upr_tick)\n",
    "dPx = calc_x(lp, 1, lwr_tick, upr_tick)\n",
    "dx = dL*dPx\n",
    "dy = dL*dPy\n",
    "\n",
    "sqrtp_pa = TickMath.getSqrtRatioAtTick(lwr_tick)/2**96\n",
    "sqrtp_pb = TickMath.getSqrtRatioAtTick(upr_tick)/2**96 \n",
    "sqrtp_cur = lp.slot0.sqrtPriceX96/2**96\n",
    "\n",
    "L_diff = (L - dL) \n",
    "sqrtp_next = sqrtp_cur + (997*dy)/(L_diff*1000) \n",
    "\n",
    "dx + L_diff * (1/sqrtp_cur - 1/sqrtp_next)"
   ]
  },
  {
   "cell_type": "code",
   "execution_count": 7,
   "id": "2ff8ff8d-4de1-44aa-acf3-9a9c3586a236",
   "metadata": {
    "tags": []
   },
   "outputs": [
    {
     "name": "stdout",
     "output_type": "stream",
     "text": [
      "New price: 10.05083685047008\n",
      "New sqrtP: 2.5117747796363857e+29\n",
      "USDC in: 509.8077066357803\n",
      "ETH out: 50.69912253362368\n"
     ]
    },
    {
     "data": {
      "text/plain": [
       "99.99992253362367"
      ]
     },
     "execution_count": 7,
     "metadata": {},
     "output_type": "execute_result"
    }
   ],
   "source": [
    "dL = 3283.3309207565794   # tick_gap = 1000\n",
    "#dL = 6298                 # tick_gap = 500\n",
    "\n",
    "# Burn portion\n",
    "dPy = calc_y(lp, 1, lwr_tick, upr_tick)\n",
    "dPx = calc_x(lp, 1, lwr_tick, upr_tick)\n",
    "dy = dL*dPy\n",
    "dx = dL*dPx\n",
    "\n",
    "# Swap portion\n",
    "eth_gwei = 10**18\n",
    "L = lp.get_liquidity()\n",
    "liq = (L - dL) * eth_gwei\n",
    "amount_in = dy * eth_gwei\n",
    "sqrtp_cur = price_to_sqrtp(lp.get_price(eth))\n",
    "\n",
    "price_diff = ((amount_in - 3*amount_in/1000) * q96) // liq\n",
    "price_next_calc = sqrtp_cur + price_diff\n",
    "print(\"New price:\", (price_next_calc / q96) ** 2)\n",
    "print(\"New sqrtP:\", price_next_calc)\n",
    "#print(\"New tick:\", price_to_tick((price_next_calc / q96) ** 2))\n",
    "\n",
    "#amount_in = calc_amount1(liq, price_next_calc, sqrtp_cur)\n",
    "amount_out = calc_amount0(liq, price_next_calc, sqrtp_cur)\n",
    "\n",
    "print(\"USDC in:\", amount_in / eth_gwei)\n",
    "print(\"ETH out:\", amount_out / eth_gwei)\n",
    "\n",
    "dx_swap = amount_out / eth_gwei\n",
    "\n",
    "# x pulled out\n",
    "dx + dx_swap"
   ]
  },
  {
   "cell_type": "code",
   "execution_count": 8,
   "id": "da7a3fe9-fca1-4a5e-a426-7ab00a8b9340",
   "metadata": {
    "tags": []
   },
   "outputs": [
    {
     "data": {
      "text/plain": [
       "99.99992253362689"
      ]
     },
     "execution_count": 8,
     "metadata": {},
     "output_type": "execute_result"
    }
   ],
   "source": [
    "amount_in = dy * eth_gwei\n",
    "liq = (L - dL) * eth_gwei\n",
    "price_next_calc = sqrtp_cur + ((amount_in - 3*amount_in/1000) * q96) // liq\n",
    "\n",
    "dL*dPx + int(liq * q96 * (1/sqrtp_cur - 1/price_next_calc))/ eth_gwei"
   ]
  },
  {
   "cell_type": "code",
   "execution_count": 9,
   "id": "c628972e-8137-4348-ad7d-174ff747ed6e",
   "metadata": {},
   "outputs": [],
   "source": [
    "sqrtp_pa = TickMath.getSqrtRatioAtTick(lwr_tick)/2**96\n",
    "sqrtp_pb = TickMath.getSqrtRatioAtTick(upr_tick)/2**96 \n",
    "sqrtp_cur = lp.slot0.sqrtPriceX96/2**96\n",
    "\n",
    "dPx = (1/sqrtp_cur - 1/sqrtp_pb)\n",
    "dPy = (sqrtp_cur - sqrtp_pa)"
   ]
  },
  {
   "cell_type": "code",
   "execution_count": 10,
   "id": "5a0e669e-8aac-4958-9f11-970379aad43c",
   "metadata": {},
   "outputs": [],
   "source": [
    "diy = 99.99992253362689"
   ]
  },
  {
   "cell_type": "code",
   "execution_count": 11,
   "id": "6efe07ac-a272-444c-a531-b902d90f2dde",
   "metadata": {},
   "outputs": [
    {
     "data": {
      "text/plain": [
       "3283.330919046348"
      ]
     },
     "execution_count": 11,
     "metadata": {},
     "output_type": "execute_result"
    }
   ],
   "source": [
    "L - 997*dy*sqrtp_cur*(diy-dx)/(1000*dx*sqrtp_cur**2 + 997*dy - 1000*diy*sqrtp_cur**2)"
   ]
  },
  {
   "cell_type": "code",
   "execution_count": 12,
   "id": "a7f35eb2-0759-4253-a927-2053b8b9c6b9",
   "metadata": {},
   "outputs": [
    {
     "data": {
      "text/plain": [
       "0.0"
      ]
     },
     "execution_count": 12,
     "metadata": {},
     "output_type": "execute_result"
    }
   ],
   "source": [
    "dx = dL*dPx\n",
    "dy = dL*dPy\n",
    "\n",
    "L_diff = (L - dL) \n",
    "sqrtp_next = sqrtp_cur + (997*dy)/(L_diff*1000) \n",
    "\n",
    "dx + L_diff * (1/sqrtp_cur - 1/sqrtp_next) - diy"
   ]
  },
  {
   "cell_type": "code",
   "execution_count": 13,
   "id": "e760c773-3175-4bc2-96c1-67040002ef68",
   "metadata": {},
   "outputs": [
    {
     "data": {
      "text/plain": [
       "0.0"
      ]
     },
     "execution_count": 13,
     "metadata": {},
     "output_type": "execute_result"
    }
   ],
   "source": [
    "dx + L_diff*(1/sqrtp_cur - 1/(sqrtp_cur + (997*dy)/(L_diff*1000))) - diy"
   ]
  },
  {
   "cell_type": "code",
   "execution_count": 14,
   "id": "3b3de118-9c2a-4f79-9502-1a03e07009ba",
   "metadata": {},
   "outputs": [
    {
     "data": {
      "text/plain": [
       "0.0"
      ]
     },
     "execution_count": 14,
     "metadata": {},
     "output_type": "execute_result"
    }
   ],
   "source": [
    "dx + L_diff*(1/sqrtp_cur - L_diff*1000/(sqrtp_cur*L_diff*1000 + 997*dy)) - diy"
   ]
  },
  {
   "cell_type": "code",
   "execution_count": 15,
   "id": "faf292f1-7993-443e-b3ad-07319080428c",
   "metadata": {},
   "outputs": [
    {
     "data": {
      "text/plain": [
       "-3.723243935382925e-12"
      ]
     },
     "execution_count": 15,
     "metadata": {},
     "output_type": "execute_result"
    }
   ],
   "source": [
    "dx + L_diff*( (sqrtp_cur*L_diff*1000 + 997*dy - L_diff*1000*sqrtp_cur)  /  (sqrtp_cur * (sqrtp_cur*L_diff*1000 + 997*dy))  ) - diy"
   ]
  },
  {
   "cell_type": "code",
   "execution_count": 16,
   "id": "0ce805c3-8c3d-41fd-958e-9ab6cbd0ce81",
   "metadata": {},
   "outputs": [
    {
     "data": {
      "text/plain": [
       "-3.467448550509289e-12"
      ]
     },
     "execution_count": 16,
     "metadata": {},
     "output_type": "execute_result"
    }
   ],
   "source": [
    "dx + (997*dy*L_diff)  /  (1000*L_diff*sqrtp_cur**2 + 997*dy*sqrtp_cur) - diy"
   ]
  },
  {
   "cell_type": "code",
   "execution_count": 17,
   "id": "df461984-7659-43b3-9fdf-250b77e6753d",
   "metadata": {},
   "outputs": [
    {
     "data": {
      "text/plain": [
       "-0.00220489501953125"
      ]
     },
     "execution_count": 17,
     "metadata": {},
     "output_type": "execute_result"
    }
   ],
   "source": [
    "dx*(1000*L_diff*sqrtp_cur**2 + 997*dy*sqrtp_cur) + (997*dy*L_diff) - diy*(1000*L_diff*sqrtp_cur**2 + 997*dy*sqrtp_cur)"
   ]
  },
  {
   "cell_type": "code",
   "execution_count": 18,
   "id": "597afa22-db5e-44e6-aad6-e0acfb931ae1",
   "metadata": {},
   "outputs": [
    {
     "data": {
      "text/plain": [
       "-0.00221097469329834"
      ]
     },
     "execution_count": 18,
     "metadata": {},
     "output_type": "execute_result"
    }
   ],
   "source": [
    "1000*dx*L_diff*sqrtp_cur**2 + 997*dy*dx*sqrtp_cur + 997*dy*L_diff - 1000*L_diff*diy*sqrtp_cur**2 - 997*dy*diy*sqrtp_cur"
   ]
  },
  {
   "cell_type": "code",
   "execution_count": 19,
   "id": "30177d4f-0fce-478a-977b-86d64a2e5870",
   "metadata": {},
   "outputs": [
    {
     "data": {
      "text/plain": [
       "-0.0022064298391342163"
      ]
     },
     "execution_count": 19,
     "metadata": {},
     "output_type": "execute_result"
    }
   ],
   "source": [
    "(1000*dx*L_diff*sqrtp_cur**2 + 997*dy*L_diff - 1000*L_diff*diy*sqrtp_cur**2)  + (997*dy*dx*sqrtp_cur - 997*dy*diy*sqrtp_cur)"
   ]
  },
  {
   "cell_type": "code",
   "execution_count": 20,
   "id": "301ef72e-24cc-4f02-a6d8-4e55beb11b68",
   "metadata": {},
   "outputs": [
    {
     "data": {
      "text/plain": [
       "-0.002201169729232788"
      ]
     },
     "execution_count": 20,
     "metadata": {},
     "output_type": "execute_result"
    }
   ],
   "source": [
    "L_diff*(1000*dx*sqrtp_cur**2 + 997*dy - 1000*diy*sqrtp_cur**2)  + (997*dy*dx*sqrtp_cur - 997*dy*diy*sqrtp_cur)"
   ]
  },
  {
   "cell_type": "code",
   "execution_count": 21,
   "id": "a04dc1c1-9622-4ec5-956a-469c7b56bfcb",
   "metadata": {},
   "outputs": [
    {
     "data": {
      "text/plain": [
       "-0.002208530902862549"
      ]
     },
     "execution_count": 21,
     "metadata": {},
     "output_type": "execute_result"
    }
   ],
   "source": [
    "L_diff*(1000*dL*dPx*sqrtp_cur**2 + 997*dL*dPy - 1000*diy*sqrtp_cur**2)  + 997*dL*dPy*sqrtp_cur*(dL*dPx-diy)"
   ]
  },
  {
   "cell_type": "code",
   "execution_count": 22,
   "id": "21d604af-753a-489d-890c-1e8054725f4c",
   "metadata": {},
   "outputs": [
    {
     "data": {
      "text/plain": [
       "-0.002208530902862549"
      ]
     },
     "execution_count": 22,
     "metadata": {},
     "output_type": "execute_result"
    }
   ],
   "source": [
    "(L - dL)*(1000*dL*dPx*sqrtp_cur**2 + 997*dL*dPy - 1000*diy*sqrtp_cur**2)  + 997*dL*dPy*sqrtp_cur*(dL*dPx-diy)"
   ]
  },
  {
   "cell_type": "code",
   "execution_count": 23,
   "id": "9f9815d0-68d3-4714-a87d-462b34f95e75",
   "metadata": {},
   "outputs": [
    {
     "data": {
      "text/plain": [
       "-0.002208530902862549"
      ]
     },
     "execution_count": 23,
     "metadata": {},
     "output_type": "execute_result"
    }
   ],
   "source": [
    "(L - dL)*(1000*dL*dPx*sqrtp_cur**2 + 997*dL*dPy - 1000*diy*sqrtp_cur**2)  + 997*dL*dPy*sqrtp_cur*dL*dPx - 997*dL*dPy*sqrtp_cur*diy"
   ]
  },
  {
   "cell_type": "code",
   "execution_count": 24,
   "id": "4d375f0a-a375-4c38-9058-75a395f30939",
   "metadata": {},
   "outputs": [
    {
     "data": {
      "text/plain": [
       "-0.002208530902862549"
      ]
     },
     "execution_count": 24,
     "metadata": {},
     "output_type": "execute_result"
    }
   ],
   "source": [
    "(L - dL)*(1000*dL*dPx*sqrtp_cur**2 + 997*dL*dPy - 1000*diy*sqrtp_cur**2)  + 997*dPy*sqrtp_cur*dPx*dL**2 - 997*dL*dPy*sqrtp_cur*diy"
   ]
  },
  {
   "cell_type": "code",
   "execution_count": 25,
   "id": "e0e08e99-d385-4ea4-b717-0a6925bcfb0d",
   "metadata": {},
   "outputs": [
    {
     "data": {
      "text/plain": [
       "-0.002208530902862549"
      ]
     },
     "execution_count": 25,
     "metadata": {},
     "output_type": "execute_result"
    }
   ],
   "source": [
    "a = L*(1000*dL*dPx*sqrtp_cur**2 + 997*dL*dPy - 1000*diy*sqrtp_cur**2)\n",
    "b = -dL*(1000*dL*dPx*sqrtp_cur**2 + 997*dL*dPy - 1000*diy*sqrtp_cur**2)\n",
    "d = 997*dPy*sqrtp_cur*dPx*dL**2 \n",
    "e = - 997*dL*dPy*sqrtp_cur*diy\n",
    "\n",
    "a + b + d + e"
   ]
  },
  {
   "cell_type": "code",
   "execution_count": 26,
   "id": "63536cfb-c5ae-4642-8a12-fc7e37d99c46",
   "metadata": {},
   "outputs": [
    {
     "data": {
      "text/plain": [
       "-0.0022050142288208008"
      ]
     },
     "execution_count": 26,
     "metadata": {},
     "output_type": "execute_result"
    }
   ],
   "source": [
    "a = dL*1000*L*dPx*(sqrtp_cur**2) + dL*L*997*dPy - 1000*L*diy*(sqrtp_cur**2)\n",
    "b = -(dL**2)*1000*dPx*(sqrtp_cur**2) - (dL**2)*997*dPy + dL*1000*diy*(sqrtp_cur**2)\n",
    "d = (dL**2)*997*dPy*sqrtp_cur*dPx\n",
    "e = -dL*997*dPy*sqrtp_cur*diy\n",
    "\n",
    "a + b + d + e"
   ]
  },
  {
   "cell_type": "code",
   "execution_count": 27,
   "id": "f702fc76-8426-42aa-a0a4-942c0cc91dd8",
   "metadata": {},
   "outputs": [
    {
     "data": {
      "text/plain": [
       "-0.002197265625"
      ]
     },
     "execution_count": 27,
     "metadata": {},
     "output_type": "execute_result"
    }
   ],
   "source": [
    "a = (dL**2)*997*dPy*sqrtp_cur*dPx  -(dL**2)*1000*dPx*(sqrtp_cur**2) - (dL**2)*997*dPy \n",
    "b = -dL*997*dPy*sqrtp_cur*diy + dL*1000*diy*(sqrtp_cur**2) + dL*L*997*dPy + dL*1000*L*dPx*(sqrtp_cur**2) \n",
    "c = -1000*L*diy*(sqrtp_cur**2)\n",
    "\n",
    "a + b + c"
   ]
  },
  {
   "cell_type": "code",
   "execution_count": 28,
   "id": "275adc2b-93fa-41bf-970e-79efd1fceb50",
   "metadata": {},
   "outputs": [
    {
     "data": {
      "text/plain": [
       "-0.002197265625"
      ]
     },
     "execution_count": 28,
     "metadata": {},
     "output_type": "execute_result"
    }
   ],
   "source": [
    "a = (dL**2)* (997*dPy*sqrtp_cur*dPx - 1000*dPx*(sqrtp_cur**2) - 997*dPy )   \n",
    "b = dL*(-997*dPy*sqrtp_cur*diy + 1000*diy*(sqrtp_cur**2) + L*997*dPy + 1000*L*dPx*(sqrtp_cur**2) )  \n",
    "c = -1000*L*diy*(sqrtp_cur**2)\n",
    "\n",
    "a + b + c"
   ]
  },
  {
   "cell_type": "code",
   "execution_count": 29,
   "id": "28e18921-bcfa-48a2-a432-15b0d8c6d077",
   "metadata": {},
   "outputs": [
    {
     "data": {
      "text/plain": [
       "-0.002197265625"
      ]
     },
     "execution_count": 29,
     "metadata": {},
     "output_type": "execute_result"
    }
   ],
   "source": [
    "a = (dL**2)* (997*dPy*sqrtp_cur*dPx - 1000*dPx*(sqrtp_cur**2) - 997*dPy)   \n",
    "b = dL*(-997*dPy*sqrtp_cur*diy + 1000*diy*(sqrtp_cur**2) + L*997*dPy + 1000*L*dPx*(sqrtp_cur**2) )  \n",
    "c = -1000*L*diy*(sqrtp_cur**2)\n",
    "\n",
    "a + b + c"
   ]
  },
  {
   "cell_type": "code",
   "execution_count": 30,
   "id": "0cfedba4-49b2-49b3-b8f0-556ff7c18eb1",
   "metadata": {},
   "outputs": [
    {
     "data": {
      "text/plain": [
       "3283.3334676753425"
      ]
     },
     "execution_count": 30,
     "metadata": {},
     "output_type": "execute_result"
    }
   ],
   "source": [
    "diy = 100\n",
    "\n",
    "a = (997*dPy*sqrtp_cur*dPx - 1000*dPx*(sqrtp_cur**2) - 997*dPy)  \n",
    "b = -997*dPy*sqrtp_cur*diy + 1000*diy*(sqrtp_cur**2) + L*997*dPy + 1000*L*dPx*(sqrtp_cur**2)\n",
    "c = -1000*L*diy*(sqrtp_cur**2)\n",
    "\n",
    "(-b + math.sqrt(b*b - 4*a*c)) / (2*a)"
   ]
  },
  {
   "cell_type": "code",
   "execution_count": 31,
   "id": "4c53b872-d6df-43a2-8349-e2580255a9f6",
   "metadata": {
    "tags": []
   },
   "outputs": [
    {
     "name": "stdout",
     "output_type": "stream",
     "text": [
      "Exchange ETH-TKN (LP)\n",
      "Real Reserves:   ETH = 950.699161756784, TKN = 9830.951208819835\n",
      "Gross Liquidity: 63314.5903136138 \n",
      "\n",
      "Exchange ETH-TKN (LP)\n",
      "Real Reserves:   ETH = 899.9999999999997, TKN = 10340.759310919504\n",
      "Gross Liquidity: 63314.5903136138 \n",
      "\n",
      "amount0 49.30083824321566, amount1 509.8081020996689\n"
     ]
    },
    {
     "data": {
      "text/plain": [
       "-50.69916175678431"
      ]
     },
     "execution_count": 31,
     "metadata": {},
     "output_type": "execute_result"
    }
   ],
   "source": [
    "dL_calc = calc_lp_settlement(lp, eth, 100, lwr_tick, upr_tick)\n",
    "\n",
    "(_, _, _, _, amount0, amount1) = lp.burn(user_nm, lwr_tick, upr_tick, dL_calc)\n",
    "lp.summary()\n",
    "\n",
    "out = Swap().apply(lp, tkn, user_nm, amount1) \n",
    "lp.summary()\n",
    "print(f'amount0 {amount0}, amount1 {amount1}')\n",
    "out[1]"
   ]
  },
  {
   "cell_type": "code",
   "execution_count": 32,
   "id": "b2ac88fd-ec36-4ae3-b7d5-32d93a8b1f7a",
   "metadata": {},
   "outputs": [
    {
     "name": "stdout",
     "output_type": "stream",
     "text": [
      "---- Uni V3 test ----\n",
      " - Withdraw: 100 ETH\n",
      " - Price ticks: lwr_tick -887220, cur_tick 23027, upr_tick 887220\n",
      "\n",
      "---- Initial ----\n",
      "\n",
      "Exchange ETH-TKN (LP)\n",
      "Real Reserves:   ETH = 999.9999999999999, TKN = 10000.0\n",
      "Gross Liquidity: 3162.277660168379 \n",
      "\n",
      "---- Withdraw 162.509 LP tokens for 51.3898 ETH and 513.898 TKN ----\n",
      "\n",
      "Exchange ETH-TKN (LP)\n",
      "Real Reserves:   ETH = 948.61016621623, TKN = 9486.101662162302\n",
      "Gross Liquidity: 2999.7687368341976 \n",
      "\n",
      "---- Swap 513.898 TKN for 48.6102 ETH ----\n",
      "\n",
      "Exchange ETH-TKN (LP)\n",
      "Real Reserves:   ETH = 899.9999999999999, TKN = 10000.0\n",
      "Gross Liquidity: 2999.7687368341976 \n",
      "\n",
      "---- 51.3898 (ETH Burned) + 48.6102 (ETH Swapped) = 100.0 (ETH Withdrawn) ----\n",
      "\n"
     ]
    }
   ],
   "source": [
    "import math\n",
    "\n",
    "eth = ERC20(\"ETH\", \"0x09\")\n",
    "tkn = ERC20(\"TKN\", \"0x111\")\n",
    "init_price = UniV3Utils.encodePriceSqrt(10, 1)\n",
    "\n",
    "exchg_data = UniswapExchangeData(tkn0 = eth, tkn1 = tkn, symbol=\"LP\", \n",
    "                                   address=\"0x011\", version = 'V3', \n",
    "                                   tick_spacing = tick_spacing, \n",
    "                                   fee = fee)\n",
    "\n",
    "factory = UniswapFactory(\"ETH pool factory\", \"0x2\")\n",
    "lp = factory.deploy(exchg_data)\n",
    "\n",
    "tick_gap = 1000\n",
    "amount_out = 100\n",
    "\n",
    "lwr_tick = lp.get_tick_price(-1, 10, tick_gap)\n",
    "upr_tick = lp.get_tick_price(1, 10, tick_gap)\n",
    "lwr_tick = UniV3Utils.getMinTick(tick_spacing)\n",
    "upr_tick = UniV3Utils.getMaxTick(tick_spacing)\n",
    "\n",
    "sqrtP =  math.sqrt(10)\n",
    "Ly = calc_Ly(sqrtP, 100, lwr_tick, upr_tick)\n",
    "Lx = calc_Lx(sqrtP, 1000, lwr_tick, upr_tick)\n",
    "\n",
    "print(f'---- Uni V3 test ----')\n",
    "print(f' - Withdraw: {amount_out} ETH')\n",
    "print(f' - Price ticks: lwr_tick {lwr_tick}, cur_tick {price_to_tick(10)}, upr_tick {upr_tick}\\n')\n",
    "\n",
    "print('---- Initial ----\\n')\n",
    "lp.initialize(init_price)\n",
    "out = lp.mint(user_nm, lwr_tick, upr_tick, Lx)    #3162.2776601683795\n",
    "lp.summary()\n",
    "\n",
    "\n",
    "# Calculate LP settlement\n",
    "dL_calc = calc_lp_settlement(lp, eth, amount_out, lwr_tick, upr_tick)\n",
    "\n",
    "# Withdraw\n",
    "(_, _, _, _, amt0, amt1) = lp.burn(user_nm, lwr_tick, upr_tick, dL_calc)\n",
    "\n",
    "print(f'---- Withdraw {dL_calc:.6} LP tokens for {amt0:.6} ETH and {amt1:.6} TKN ----\\n')\n",
    "lp.summary()\n",
    "\n",
    "# Swap\n",
    "out = Swap().apply(lp, tkn, user_nm, amt1) \n",
    "\n",
    "print(f'---- Swap {amt1:.6} TKN for {abs(out[1]):.6} ETH ----\\n')\n",
    "lp.summary()\n",
    "\n",
    "print(f'---- {amt0:.6} (ETH Burned) + {abs(out[1]):.6} (ETH Swapped) = {(amt0 + abs(out[1])):.6} (ETH Withdrawn) ----\\n')"
   ]
  }
 ],
 "metadata": {
  "kernelspec": {
   "display_name": "py3",
   "language": "python",
   "name": "py3"
  },
  "language_info": {
   "codemirror_mode": {
    "name": "ipython",
    "version": 3
   },
   "file_extension": ".py",
   "mimetype": "text/x-python",
   "name": "python",
   "nbconvert_exporter": "python",
   "pygments_lexer": "ipython3",
   "version": "3.10.0rc2"
  }
 },
 "nbformat": 4,
 "nbformat_minor": 5
}
