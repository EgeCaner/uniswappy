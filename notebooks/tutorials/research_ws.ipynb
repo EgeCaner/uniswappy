{
 "cells": [
  {
   "cell_type": "markdown",
   "id": "fb6cd7f4-db41-4259-97c7-50e99e82c705",
   "metadata": {},
   "source": [
    "* https://uniswapv3book.com/index.html\n",
    "* https://medium.com/@chaisomsri96/defi-math-uniswap-v3-concentrated-liquidity-bd87686b3ecf\n",
    "* https://liobaheimbach.github.io/assets/pdf/Papers/Risks_and_Returns_of_Uniswap_V3_Liquidity_Providers.pdf\n",
    "* https://docs.uniswap.org/sdk/v3/guides/advanced/active-liquidity\n",
    "* https://blog.uniswap.org/uniswap-v3-math-primer\n",
    "* https://blog.uniswap.org/uniswap-v3-math-primer-2\n",
    "* https://atiselsts.github.io/pdfs/uniswap-v3-liquidity-math.pdf"
   ]
  },
  {
   "cell_type": "code",
   "execution_count": 1,
   "id": "54d68f40-5184-403c-a548-fbb76c2a6476",
   "metadata": {
    "tags": []
   },
   "outputs": [],
   "source": [
    "from uniswappy import *\n",
    "import pandas as pd\n",
    "import copy\n",
    "import matplotlib.pyplot as plt\n",
    "\n",
    "user_nm = MockAddress().apply()\n",
    "eth_amount = 10000\n",
    "tkn_amount = 100000\n",
    "\n",
    "fee = UniV3Utils.FeeAmount.MEDIUM\n",
    "tick_spacing = UniV3Utils.TICK_SPACINGS[fee]\n",
    "lwr_tick = UniV3Utils.getMinTick(tick_spacing)\n",
    "upr_tick = UniV3Utils.getMaxTick(tick_spacing)"
   ]
  },
  {
   "cell_type": "code",
   "execution_count": 2,
   "id": "75c7c594-6b26-43b2-9ab0-e0142be2689c",
   "metadata": {
    "tags": []
   },
   "outputs": [],
   "source": [
    "def calc_Lx(sqrtP, dx, lwr_tick, upr_tick):\n",
    "    pa_sqrt_human = TickMath.getSqrtRatioAtTick(lwr_tick)/2**96\n",
    "    pb_sqrt_human = TickMath.getSqrtRatioAtTick(upr_tick)/2**96 \n",
    "    p_sqrt_human = sqrtP\n",
    "    Lx = dx/(1/p_sqrt_human - 1/pb_sqrt_human)\n",
    "    return Lx\n",
    "\n",
    "def calc_Ly(sqrtP, dy, lwr_tick, upr_tick):\n",
    "    pa_sqrt_human = TickMath.getSqrtRatioAtTick(lwr_tick)/2**96\n",
    "    pb_sqrt_human = TickMath.getSqrtRatioAtTick(upr_tick)/2**96 \n",
    "    p_sqrt_human = sqrtP\n",
    "    Ly = dy/(p_sqrt_human - pa_sqrt_human)\n",
    "    return Ly\n",
    "\n",
    "def calc_y(dL, lwr_tick, upr_tick):\n",
    "    pa_sqrt_human = TickMath.getSqrtRatioAtTick(lwr_tick)/2**96\n",
    "    pb_sqrt_human = TickMath.getSqrtRatioAtTick(upr_tick)/2**96 \n",
    "    p_sqrt_human = lp.slot0.sqrtPriceX96/2**96\n",
    "    dy = dL*(p_sqrt_human - pa_sqrt_human)\n",
    "    #y = dL*(pb_sqrt_human - pa_sqrt_human)\n",
    "    return dy\n",
    "\n",
    "def calc_x(dL, lwr_tick, upr_tick):\n",
    "    pa_sqrt_human = TickMath.getSqrtRatioAtTick(lwr_tick)/2**96\n",
    "    pb_sqrt_human = TickMath.getSqrtRatioAtTick(upr_tick)/2**96 \n",
    "    p_sqrt_human = lp.slot0.sqrtPriceX96/2**96\n",
    "    dx = dL*(1/p_sqrt_human - 1/pb_sqrt_human)\n",
    "    #x = dL*(1/p_sqrt_human - 1/pb_sqrt_human)\n",
    "    return dx"
   ]
  },
  {
   "cell_type": "code",
   "execution_count": 3,
   "id": "b2f175f8-e736-4d36-9a39-44a4eacb8a2c",
   "metadata": {
    "tags": []
   },
   "outputs": [],
   "source": [
    "def get_reserves(lp, token_in):\n",
    "    tokens = lp.factory.token_from_exchange[lp.name]\n",
    "    if(lp.version == UniswapExchangeData.VERSION_V2):\n",
    "        if(token_in.token_name == lp.token1):\n",
    "            x = lp.get_reserve(tokens[lp.token0])\n",
    "            y = lp.get_reserve(tokens[lp.token1])\n",
    "        else: \n",
    "            x = lp.get_reserve(tokens[lp.token1])\n",
    "            y = lp.get_reserve(tokens[lp.token0])\n",
    "    elif(lp.version == UniswapExchangeData.VERSION_V3):   \n",
    "        if(token_in.token_name == lp.token0):\n",
    "            x = lp.get_reserve(tokens[lp.token0])\n",
    "            y = lp.get_reserve(tokens[lp.token1])\n",
    "        else: \n",
    "            x = lp.get_reserve(tokens[lp.token1])\n",
    "            y = lp.get_reserve(tokens[lp.token0]) \n",
    "    return (x, y)  \n",
    "\n",
    "def calc_lp_settlement(lp, token_in, itkn_amt, lwr_tick, upr_tick):\n",
    "\n",
    "    L = lp.get_liquidity()\n",
    "    #(x, y) = get_reserves(lp, token_in) \n",
    "    x = calc_y(L, lwr_tick, upr_tick)\n",
    "    y = calc_x(L, lwr_tick, upr_tick)\n",
    "    #print(f'x {x}, y {y}')\n",
    "    \n",
    "    gamma = 997\n",
    "\n",
    "    a1 = x*y/L\n",
    "    a2 = L\n",
    "    a = a1/a2\n",
    "    b = (1000*itkn_amt*x - itkn_amt*gamma*x + 1000*x*y + x*y*gamma)/(1000*L);\n",
    "    c = itkn_amt*x;\n",
    "\n",
    "    dL = (b*a2 - a2*math.sqrt(b*b - 4*a1*c/a2)) / (2*a1);\n",
    "    return dL\n",
    "\n",
    "def calc_withdraw_portion(lp, token_in, amt, lwr_tick, upr_tick):\n",
    "\n",
    "    L = lp.get_liquidity()\n",
    "    #(x, y) = get_reserves(lp, token_in)\n",
    "    x = calc_y(L, lwr_tick, upr_tick)\n",
    "    y = calc_x(L, lwr_tick, upr_tick)    \n",
    "    gamma = 997/1000\n",
    "\n",
    "    dL = calc_lp_settlement(lp, token_in, amt, lwr_tick, upr_tick)\n",
    "    dx = dL*x/L\n",
    "    dy = dL*y/L\n",
    "    aswap = (gamma*dx)*(y-dy)/(x-dx+gamma*dx)\n",
    "\n",
    "    return dy/amt \n",
    "\n",
    "def calc_lp_settlement2(lp, token_in, q, lwr_tick, upr_tick):\n",
    "\n",
    "    L = lp.get_liquidity()\n",
    "    dPy = calc_y(1, lwr_tick, upr_tick)\n",
    "    dPx = calc_x(1, lwr_tick, upr_tick)\n",
    "    (x, y) = get_reserves(lp, token_in)\n",
    "    \n",
    "    a = dPx*dPy\n",
    "    b = (1000*q*dPx - 997*q*dPx + 1000*dPy*x + 997*y*dPx)/(1000);\n",
    "    c = q*x;\n",
    "\n",
    "    dL = (b - math.sqrt(b*b - 4*a*c)) / (2*a);\n",
    "    return dL\n"
   ]
  },
  {
   "cell_type": "code",
   "execution_count": 4,
   "id": "c4f4dc2e-0989-4163-b229-826024b4f392",
   "metadata": {
    "tags": []
   },
   "outputs": [],
   "source": [
    "q96 = 2**96\n",
    "def price_to_sqrtp(p):\n",
    "    return int(math.sqrt(p) * q96)\n",
    "\n",
    "def tick_to_price(tick):\n",
    "    return math.floor(1.0001**tick)\n",
    "\n",
    "def price_to_tick(p):\n",
    "    return math.floor(math.log(p, 1.0001))\n",
    "\n",
    "def liquidity0(amount, pa, pb):\n",
    "    if pa > pb:\n",
    "        pa, pb = pb, pa\n",
    "    return (amount * (pa * pb) / q96) / (pb - pa)\n",
    "\n",
    "def liquidity1(amount, pa, pb):\n",
    "    if pa > pb:\n",
    "        pa, pb = pb, pa\n",
    "    return amount * q96 / (pb - pa)\n",
    "\n",
    "def calc_amount0(liq, pa, pb):\n",
    "    if pa > pb:\n",
    "        pa, pb = pb, pa\n",
    "    return int(liq * q96 * (pb - pa) / pa / pb)\n",
    "\n",
    "\n",
    "def calc_amount1(liq, pa, pb):\n",
    "    if pa > pb:\n",
    "        pa, pb = pb, pa\n",
    "    return int(liq * (pb - pa) / q96)\n",
    "\n",
    "def price_to_tick(p):\n",
    "    return math.floor(math.log(p, 1.0001))"
   ]
  },
  {
   "cell_type": "code",
   "execution_count": 5,
   "id": "9ca080e7-3e94-41f9-9fa8-768eb92ab66e",
   "metadata": {
    "tags": []
   },
   "outputs": [
    {
     "name": "stdout",
     "output_type": "stream",
     "text": [
      "Exchange ETH-TKN (LP)\n",
      "Real Reserves:   ETH = 999.9999999999997, TKN = 10340.759310919504\n",
      "Gross Liquidity: 66597.92378128914 \n",
      "\n"
     ]
    }
   ],
   "source": [
    "import math\n",
    "\n",
    "eth = ERC20(\"ETH\", \"0x09\")\n",
    "tkn = ERC20(\"TKN\", \"0x111\")\n",
    "init_price = UniV3Utils.encodePriceSqrt(10, 1)\n",
    "\n",
    "exchg_data = UniswapExchangeData(tkn0 = eth, tkn1 = tkn, symbol=\"LP\", \n",
    "                                   address=\"0x011\", version = 'V3', \n",
    "                                   tick_spacing = tick_spacing, \n",
    "                                   fee = fee)\n",
    "\n",
    "factory = UniswapFactory(\"ETH pool factory\", \"0x2\")\n",
    "lp = factory.deploy(exchg_data)\n",
    "\n",
    "lwr_tick = lp.get_tick_price(-1, 10, 1000)\n",
    "upr_tick = lp.get_tick_price(1, 10, 1000)\n",
    "\n",
    "#lwr_tick = UniV3Utils.getMinTick(tick_spacing)\n",
    "#upr_tick = UniV3Utils.getMaxTick(tick_spacing)\n",
    "\n",
    "sqrtP =  math.sqrt(10)\n",
    "Ly = calc_Ly(sqrtP, 100, lwr_tick, upr_tick)\n",
    "Lx = calc_Lx(sqrtP, 1000, lwr_tick, upr_tick)\n",
    "\n",
    "lp.initialize(init_price)\n",
    "out = lp.mint(user_nm, lwr_tick, upr_tick, Lx)    #3162.2776601683795\n",
    "lp.summary()\n",
    "\n",
    "lwr_tick = lp.get_tick_price(-1, lp.get_price(eth), 1000)\n",
    "upr_tick = lp.get_tick_price(1, lp.get_price(eth), 1000)\n",
    "#lwr_tick = UniV3Utils.getMinTick(tick_spacing)\n",
    "#upr_tick = UniV3Utils.getMaxTick(tick_spacing)\n",
    "\n",
    "amount_out = 100\n",
    "Lx = calc_Lx(sqrtP, amount_out, lwr_tick, upr_tick)\n",
    "p_out = calc_withdraw_portion(lp, tkn, amount_out, lwr_tick, upr_tick)\n",
    "#dL2 = calc_lp_settlement(lp, eth, amount_out, lwr_tick2, upr_tick2)\n",
    "#dL = calc_lp_settlement2(lp, eth, amount_out, lwr_tick2, upr_tick2)\n",
    "#print(f'dL {dL2} dL2 {dL}')"
   ]
  },
  {
   "cell_type": "code",
   "execution_count": 6,
   "id": "2ff8ff8d-4de1-44aa-acf3-9a9c3586a236",
   "metadata": {
    "tags": []
   },
   "outputs": [
    {
     "name": "stdout",
     "output_type": "stream",
     "text": [
      "New price (calc): 10.05083685047008\n",
      "New sqrtP: 2.5117747796363857e+29\n",
      "New tick: 23077\n",
      "USDC in: 508.2782835158756\n",
      "ETH out: 50.69912253362368\n"
     ]
    },
    {
     "data": {
      "text/plain": [
       "99.99992253362367"
      ]
     },
     "execution_count": 6,
     "metadata": {},
     "output_type": "execute_result"
    }
   ],
   "source": [
    "dL = 3283.3309207565794\n",
    "\n",
    "# Burn portion\n",
    "dPy = calc_y(1, lwr_tick, upr_tick)\n",
    "dPx = calc_x(1, lwr_tick, upr_tick)\n",
    "dx = dL*dPx\n",
    "dy = dL*dPy\n",
    "\n",
    "# Swap portion\n",
    "eth_gwei = 10**18\n",
    "L = lp.get_liquidity()\n",
    "liq = (L - dL) * eth_gwei\n",
    "amount_in = dy * eth_gwei\n",
    "sqrtp_cur = price_to_sqrtp(lp.get_price(eth))\n",
    "\n",
    "price_diff = ((amount_in - 3*amount_in/1000) * q96) // liq\n",
    "price_next_calc = sqrtp_cur + price_diff\n",
    "#price_next = math.sqrt(10.05083685047008)*q96\n",
    "#print(\"New price (actual):\", (price_next / q96) ** 2)\n",
    "print(\"New price (calc):\", (price_next_calc / q96) ** 2)\n",
    "print(\"New sqrtP:\", price_next_calc)\n",
    "print(\"New tick:\", price_to_tick((price_next_calc / q96) ** 2))\n",
    "\n",
    "amount_in = calc_amount1(liq, price_next_calc, sqrtp_cur)\n",
    "amount_out = calc_amount0(liq, price_next_calc, sqrtp_cur)\n",
    "\n",
    "print(\"USDC in:\", amount_in / eth_gwei)\n",
    "print(\"ETH out:\", amount_out / eth_gwei)\n",
    "\n",
    "dx_swap = amount_out / eth_gwei\n",
    "\n",
    "# x pulled out\n",
    "dx + dx_swap"
   ]
  },
  {
   "cell_type": "code",
   "execution_count": 7,
   "id": "4c53b872-d6df-43a2-8349-e2580255a9f6",
   "metadata": {
    "tags": []
   },
   "outputs": [
    {
     "name": "stdout",
     "output_type": "stream",
     "text": [
      "Exchange ETH-TKN (LP)\n",
      "Real Reserves:   ETH = 950.6991999999997, TKN = 9830.951604283724\n",
      "Gross Liquidity: 63314.59286053256 \n",
      "\n",
      "new price 251177477963638562769788518347\n",
      "Exchange ETH-TKN (LP)\n",
      "Real Reserves:   ETH = 900.0000774663762, TKN = 10340.759310919504\n",
      "Gross Liquidity: 63314.59286053256 \n",
      "\n",
      "amount0 49.30079999999998, amount1 509.8077066357803\n"
     ]
    },
    {
     "data": {
      "text/plain": [
       "-50.69912253362341"
      ]
     },
     "execution_count": 7,
     "metadata": {},
     "output_type": "execute_result"
    }
   ],
   "source": [
    "p_out = 0.493008\n",
    "(_, _, _, _, amount0, amount1) = lp.burn(user_nm, lwr_tick, upr_tick, p_out*Lx)\n",
    "lp.summary()\n",
    "\n",
    "out = Swap().apply(lp, tkn, user_nm, amount1) \n",
    "lp.summary()\n",
    "print(f'amount0 {amount0}, amount1 {amount1}')\n",
    "out[1]"
   ]
  }
 ],
 "metadata": {
  "kernelspec": {
   "display_name": "Python 3 (ipykernel)",
   "language": "python",
   "name": "python3"
  },
  "language_info": {
   "codemirror_mode": {
    "name": "ipython",
    "version": 3
   },
   "file_extension": ".py",
   "mimetype": "text/x-python",
   "name": "python",
   "nbconvert_exporter": "python",
   "pygments_lexer": "ipython3",
   "version": "3.11.5"
  }
 },
 "nbformat": 4,
 "nbformat_minor": 5
}
