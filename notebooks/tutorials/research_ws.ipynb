{
 "cells": [
  {
   "cell_type": "markdown",
   "id": "fb6cd7f4-db41-4259-97c7-50e99e82c705",
   "metadata": {},
   "source": [
    "* https://uniswapv3book.com/index.html\n",
    "* https://medium.com/@chaisomsri96/defi-math-uniswap-v3-concentrated-liquidity-bd87686b3ecf\n",
    "* https://liobaheimbach.github.io/assets/pdf/Papers/Risks_and_Returns_of_Uniswap_V3_Liquidity_Providers.pdf\n",
    "* https://docs.uniswap.org/sdk/v3/guides/advanced/active-liquidity\n",
    "* https://blog.uniswap.org/uniswap-v3-math-primer\n",
    "* https://blog.uniswap.org/uniswap-v3-math-primer-2\n",
    "* https://atiselsts.github.io/pdfs/uniswap-v3-liquidity-math.pdf"
   ]
  },
  {
   "cell_type": "code",
   "execution_count": 1,
   "id": "54d68f40-5184-403c-a548-fbb76c2a6476",
   "metadata": {
    "tags": []
   },
   "outputs": [],
   "source": [
    "from uniswappy import *\n",
    "import pandas as pd\n",
    "import copy\n",
    "import matplotlib.pyplot as plt\n",
    "\n",
    "user_nm = MockAddress().apply()\n",
    "eth_amount = 10000\n",
    "tkn_amount = 100000\n",
    "\n",
    "fee = UniV3Utils.FeeAmount.MEDIUM\n",
    "tick_spacing = UniV3Utils.TICK_SPACINGS[fee]\n",
    "lwr_tick = UniV3Utils.getMinTick(tick_spacing)\n",
    "upr_tick = UniV3Utils.getMaxTick(tick_spacing)"
   ]
  },
  {
   "cell_type": "code",
   "execution_count": null,
   "id": "e2169415-721d-4610-aaa9-54d7ced0ab08",
   "metadata": {
    "tags": []
   },
   "outputs": [],
   "source": [
    "n_steps = 50\n",
    "start_price = eth_amount/tkn_amount\n",
    "mu = 0.1; sigma = 0.5\n",
    "n_paths = 1\n",
    "\n",
    "b = BrownianModel(start_price)\n",
    "p_arr = b.gen_gbms(mu, sigma, n_steps, n_paths)\n",
    "exp_p_arr = np.median(p_arr, axis = 1)\n",
    "\n",
    "accounts = MockAddress().apply(250)"
   ]
  },
  {
   "cell_type": "code",
   "execution_count": null,
   "id": "9a7fdcb8-1fd4-42b4-9834-7de2235c32ae",
   "metadata": {
    "tags": []
   },
   "outputs": [],
   "source": [
    "x_val = np.arange(0,len(p_arr))\n",
    "fig, (USD_ax) = plt.subplots(nrows=1, sharex=False, sharey=False, figsize=(18, 5))\n",
    "USD_ax.plot(x_val[1:], p_arr[1:], color = 'r',linestyle = 'dashdot', label='initial invest') \n",
    "USD_ax.set_title(f'Price Chart (ETH/TKN)', fontsize=20)\n",
    "USD_ax.set_ylabel('Price (USD)', size=20)\n",
    "USD_ax.set_xlabel('Date', size=20)"
   ]
  },
  {
   "cell_type": "code",
   "execution_count": 2,
   "id": "75c7c594-6b26-43b2-9ab0-e0142be2689c",
   "metadata": {
    "tags": []
   },
   "outputs": [],
   "source": [
    "def calc_Lx(sqrtP, dx, lwr_tick, upr_tick):\n",
    "    pa_sqrt_human = TickMath.getSqrtRatioAtTick(lwr_tick)/2**96\n",
    "    pb_sqrt_human = TickMath.getSqrtRatioAtTick(upr_tick)/2**96 \n",
    "    p_sqrt_human = sqrtP\n",
    "    Lx = dx/(1/p_sqrt_human - 1/pb_sqrt_human)\n",
    "    return Lx\n",
    "\n",
    "def calc_Ly(sqrtP, dy, lwr_tick, upr_tick):\n",
    "    pa_sqrt_human = TickMath.getSqrtRatioAtTick(lwr_tick)/2**96\n",
    "    pb_sqrt_human = TickMath.getSqrtRatioAtTick(upr_tick)/2**96 \n",
    "    p_sqrt_human = sqrtP\n",
    "    Ly = dy/(p_sqrt_human - pa_sqrt_human)\n",
    "    return Ly\n",
    "\n",
    "def calc_y(dL, lwr_tick, upr_tick):\n",
    "    pa_sqrt_human = TickMath.getSqrtRatioAtTick(lwr_tick)/2**96\n",
    "    pb_sqrt_human = TickMath.getSqrtRatioAtTick(upr_tick)/2**96 \n",
    "    p_sqrt_human = lp.slot0.sqrtPriceX96/2**96\n",
    "    dy = dL*(p_sqrt_human - pa_sqrt_human)\n",
    "    #y = dL*(pb_sqrt_human - pa_sqrt_human)\n",
    "    return dy\n",
    "\n",
    "def calc_x(dL, lwr_tick, upr_tick):\n",
    "    pa_sqrt_human = TickMath.getSqrtRatioAtTick(lwr_tick)/2**96\n",
    "    pb_sqrt_human = TickMath.getSqrtRatioAtTick(upr_tick)/2**96 \n",
    "    p_sqrt_human = lp.slot0.sqrtPriceX96/2**96\n",
    "    dx = dL*(1/p_sqrt_human - 1/pb_sqrt_human)\n",
    "    #x = dL*(1/p_sqrt_human - 1/pb_sqrt_human)\n",
    "    return dx"
   ]
  },
  {
   "cell_type": "code",
   "execution_count": 3,
   "id": "b2f175f8-e736-4d36-9a39-44a4eacb8a2c",
   "metadata": {
    "tags": []
   },
   "outputs": [],
   "source": [
    "def get_reserves(lp, token_in):\n",
    "    tokens = lp.factory.token_from_exchange[lp.name]\n",
    "    if(lp.version == UniswapExchangeData.VERSION_V2):\n",
    "        if(token_in.token_name == lp.token1):\n",
    "            x = lp.get_reserve(tokens[lp.token0])\n",
    "            y = lp.get_reserve(tokens[lp.token1])\n",
    "        else: \n",
    "            x = lp.get_reserve(tokens[lp.token1])\n",
    "            y = lp.get_reserve(tokens[lp.token0])\n",
    "    elif(lp.version == UniswapExchangeData.VERSION_V3):   \n",
    "        if(token_in.token_name == lp.token0):\n",
    "            x = lp.get_reserve(tokens[lp.token0])\n",
    "            y = lp.get_reserve(tokens[lp.token1])\n",
    "        else: \n",
    "            x = lp.get_reserve(tokens[lp.token1])\n",
    "            y = lp.get_reserve(tokens[lp.token0]) \n",
    "    return (x, y)  \n",
    "\n",
    "def calc_lp_settlement(lp, token_in, itkn_amt, lwr_tick, upr_tick):\n",
    "\n",
    "    L = lp.get_liquidity()\n",
    "    #(x, y) = get_reserves(lp, token_in) \n",
    "    x = calc_y(L, lwr_tick, upr_tick)\n",
    "    y = calc_x(L, lwr_tick, upr_tick)\n",
    "    #print(f'x {x}, y {y}')\n",
    "    \n",
    "    gamma = 997\n",
    "\n",
    "    a1 = x*y/L\n",
    "    a2 = L\n",
    "    a = a1/a2\n",
    "    b = (1000*itkn_amt*x - itkn_amt*gamma*x + 1000*x*y + x*y*gamma)/(1000*L);\n",
    "    c = itkn_amt*x;\n",
    "\n",
    "    dL = (b*a2 - a2*math.sqrt(b*b - 4*a1*c/a2)) / (2*a1);\n",
    "    return dL\n",
    "\n",
    "def calc_withdraw_portion(lp, token_in, amt, lwr_tick, upr_tick):\n",
    "\n",
    "    L = lp.get_liquidity()\n",
    "    #(x, y) = get_reserves(lp, token_in)\n",
    "    x = calc_y(L, lwr_tick, upr_tick)\n",
    "    y = calc_x(L, lwr_tick, upr_tick)    \n",
    "    gamma = 997/1000\n",
    "\n",
    "    dL = calc_lp_settlement(lp, token_in, amt, lwr_tick, upr_tick)\n",
    "    dx = dL*x/L\n",
    "    dy = dL*y/L\n",
    "    aswap = (gamma*dx)*(y-dy)/(x-dx+gamma*dx)\n",
    "\n",
    "    return dy/amt \n",
    "\n",
    "def calc_lp_settlement2(lp, token_in, q, lwr_tick, upr_tick):\n",
    "\n",
    "    L = lp.get_liquidity()\n",
    "    dPy = calc_y(1, lwr_tick, upr_tick)\n",
    "    dPx = calc_x(1, lwr_tick, upr_tick)\n",
    "    (x, y) = get_reserves(lp, token_in)\n",
    "    \n",
    "    a = dPx*dPy\n",
    "    b = (1000*q*dPx - 997*q*dPx + 1000*dPy*x + 997*y*dPx)/(1000);\n",
    "    c = q*x;\n",
    "\n",
    "    dL = (b - math.sqrt(b*b - 4*a*c)) / (2*a);\n",
    "    return dL\n"
   ]
  },
  {
   "cell_type": "code",
   "execution_count": 4,
   "id": "c4f4dc2e-0989-4163-b229-826024b4f392",
   "metadata": {
    "tags": []
   },
   "outputs": [],
   "source": [
    "q96 = 2**96\n",
    "def price_to_sqrtp(p):\n",
    "    return int(math.sqrt(p) * q96)\n",
    "\n",
    "def tick_to_price(tick):\n",
    "    return math.floor(1.0001**tick)\n",
    "\n",
    "def price_to_tick(p):\n",
    "    return math.floor(math.log(p, 1.0001))\n",
    "\n",
    "def liquidity0(amount, pa, pb):\n",
    "    if pa > pb:\n",
    "        pa, pb = pb, pa\n",
    "    return (amount * (pa * pb) / q96) / (pb - pa)\n",
    "\n",
    "def liquidity1(amount, pa, pb):\n",
    "    if pa > pb:\n",
    "        pa, pb = pb, pa\n",
    "    return amount * q96 / (pb - pa)\n",
    "\n",
    "def calc_amount0(liq, pa, pb):\n",
    "    if pa > pb:\n",
    "        pa, pb = pb, pa\n",
    "    return int(liq * q96 * (pb - pa) / pa / pb)\n",
    "\n",
    "\n",
    "def calc_amount1(liq, pa, pb):\n",
    "    if pa > pb:\n",
    "        pa, pb = pb, pa\n",
    "    return int(liq * (pb - pa) / q96)\n",
    "\n",
    "def price_to_tick(p):\n",
    "    return math.floor(math.log(p, 1.0001))"
   ]
  },
  {
   "cell_type": "code",
   "execution_count": null,
   "id": "ac91ab06-d81a-49cc-97c0-780c3b7307d6",
   "metadata": {
    "tags": []
   },
   "outputs": [],
   "source": [
    "sqrtp_low = price_to_sqrtp(4525)\n",
    "sqrtp_cur = price_to_sqrtp(5000)\n",
    "sqrtp_upp = price_to_sqrtp(5483)\n",
    "\n",
    "eth = 10**18\n",
    "amount_eth = 1 * eth\n",
    "amount_usdc = 5000 * eth\n",
    "\n",
    "liq0 = liquidity0(amount_eth, sqrtp_cur, sqrtp_upp)\n",
    "liq1 = liquidity1(amount_usdc, sqrtp_cur, sqrtp_low)\n",
    "liq = int(min(liq0, liq1))\n",
    "liq/10**18"
   ]
  },
  {
   "cell_type": "code",
   "execution_count": null,
   "id": "b8245da6-2ee8-4ece-890f-4a01c847d6ce",
   "metadata": {
    "tags": []
   },
   "outputs": [],
   "source": [
    "amount_in = 42 * eth\n",
    "price_diff = (amount_in * q96) // liq\n",
    "price_next = sqrtp_cur + price_diff\n",
    "print(\"New price:\", (price_next / q96) ** 2)\n",
    "print(\"New sqrtP:\", price_next)\n",
    "print(\"New tick:\", price_to_tick((price_next / q96) ** 2))\n",
    "\n",
    "amount_in = calc_amount1(liq, price_next, sqrtp_cur)\n",
    "amount_out = calc_amount0(liq, price_next, sqrtp_cur)\n",
    "\n",
    "print(\"USDC in:\", amount_in / eth)\n",
    "print(\"ETH out:\", amount_out / eth)"
   ]
  },
  {
   "cell_type": "code",
   "execution_count": null,
   "id": "2f799971-da76-44fa-8a6f-57794db30ad9",
   "metadata": {
    "tags": []
   },
   "outputs": [],
   "source": [
    "import math\n",
    "\n",
    "eth = ERC20(\"ETH\", \"0x09\")\n",
    "tkn = ERC20(\"TKN\", \"0x111\")\n",
    "init_price = UniV3Utils.encodePriceSqrt(5000, 1)\n",
    "\n",
    "exchg_data = UniswapExchangeData(tkn0 = eth, tkn1 = tkn, symbol=\"LP\", \n",
    "                                   address=\"0x011\", version = 'V3', \n",
    "                                   tick_spacing = tick_spacing, \n",
    "                                   fee = fee)\n",
    "\n",
    "factory = UniswapFactory(\"ETH pool factory\", \"0x2\")\n",
    "lp = factory.deploy(exchg_data)\n",
    "\n",
    "#lwr_tick = lp.get_tick_price(-1, 10, 1000)\n",
    "#upr_tick = lp.get_tick_price(1, 10, 1000)\n",
    "\n",
    "cur_tick = 85176\n",
    "lwr_tick = 84222\n",
    "upr_tick = 86129\n",
    "\n",
    "cur_tick = cur_tick - cur_tick % lp.tickSpacing\n",
    "lwr_tick = lwr_tick - lwr_tick % lp.tickSpacing\n",
    "upr_tick = upr_tick - upr_tick % lp.tickSpacing\n",
    "\n",
    "#lwr_tick = UniV3Utils.getMinTick(tick_spacing)\n",
    "#upr_tick = UniV3Utils.getMaxTick(tick_spacing)\n",
    "\n",
    "sqrtP =  math.sqrt(5000)\n",
    "Ly = calc_Ly(sqrtP, 100, lwr_tick, upr_tick)\n",
    "Lx = calc_Lx(sqrtP, 1, lwr_tick, upr_tick)\n",
    "\n",
    "lp.initialize(init_price)\n",
    "out = lp.mint(user_nm, lwr_tick, upr_tick, Lx)  \n",
    "lp.summary()\n",
    "\n",
    "out = Swap().apply(lp, tkn, user_nm, 42) \n",
    "lp.summary()\n",
    "out[1]"
   ]
  },
  {
   "cell_type": "code",
   "execution_count": null,
   "id": "e3f7a600-39c0-4329-b660-bf31bb95e05a",
   "metadata": {},
   "outputs": [],
   "source": []
  },
  {
   "cell_type": "code",
   "execution_count": 32,
   "id": "9ca080e7-3e94-41f9-9fa8-768eb92ab66e",
   "metadata": {
    "tags": []
   },
   "outputs": [
    {
     "name": "stdout",
     "output_type": "stream",
     "text": [
      "Exchange ETH-TKN (LP)\n",
      "Real Reserves:   ETH = 999.9999999999997, TKN = 10340.759310919504\n",
      "Gross Liquidity: 66597.92378128914 \n",
      "\n",
      "Exchange ETH-TKN (LP)\n",
      "Real Reserves:   ETH = 950.6991999999997, TKN = 9830.951604283724\n",
      "Gross Liquidity: 63314.59286053256 \n",
      "\n"
     ]
    }
   ],
   "source": [
    "import math\n",
    "\n",
    "eth = ERC20(\"ETH\", \"0x09\")\n",
    "tkn = ERC20(\"TKN\", \"0x111\")\n",
    "init_price = UniV3Utils.encodePriceSqrt(10, 1)\n",
    "\n",
    "exchg_data = UniswapExchangeData(tkn0 = eth, tkn1 = tkn, symbol=\"LP\", \n",
    "                                   address=\"0x011\", version = 'V3', \n",
    "                                   tick_spacing = tick_spacing, \n",
    "                                   fee = fee)\n",
    "\n",
    "factory = UniswapFactory(\"ETH pool factory\", \"0x2\")\n",
    "lp = factory.deploy(exchg_data)\n",
    "\n",
    "lwr_tick = lp.get_tick_price(-1, 10, 1000)\n",
    "upr_tick = lp.get_tick_price(1, 10, 1000)\n",
    "\n",
    "#lwr_tick = UniV3Utils.getMinTick(tick_spacing)\n",
    "#upr_tick = UniV3Utils.getMaxTick(tick_spacing)\n",
    "\n",
    "sqrtP =  math.sqrt(10)\n",
    "Ly = calc_Ly(sqrtP, 100, lwr_tick, upr_tick)\n",
    "Lx = calc_Lx(sqrtP, 1000, lwr_tick, upr_tick)\n",
    "\n",
    "lp.initialize(init_price)\n",
    "out = lp.mint(user_nm, lwr_tick, upr_tick, Lx)    #3162.2776601683795\n",
    "lp.summary()\n",
    "\n",
    "lwr_tick = lp.get_tick_price(-1, lp.get_price(eth), 1000)\n",
    "upr_tick = lp.get_tick_price(1, lp.get_price(eth), 1000)\n",
    "#lwr_tick = UniV3Utils.getMinTick(tick_spacing)\n",
    "#upr_tick = UniV3Utils.getMaxTick(tick_spacing)\n",
    "\n",
    "amount_out = 100\n",
    "Lx = calc_Lx(sqrtP, amount_out, lwr_tick, upr_tick)\n",
    "p_out = calc_withdraw_portion(lp, tkn, amount_out, lwr_tick, upr_tick)\n",
    "#dL2 = calc_lp_settlement(lp, eth, amount_out, lwr_tick2, upr_tick2)\n",
    "#dL = calc_lp_settlement2(lp, eth, amount_out, lwr_tick2, upr_tick2)\n",
    "#print(f'dL {dL2} dL2 {dL}')\n",
    "\n",
    "p_out = 0.493008\n",
    "(_, _, _, _, amount0, amount1) = lp.burn(user_nm, lwr_tick, upr_tick, p_out*Lx)\n",
    "lp.summary()"
   ]
  },
  {
   "cell_type": "code",
   "execution_count": 33,
   "id": "2ff8ff8d-4de1-44aa-acf3-9a9c3586a236",
   "metadata": {
    "tags": []
   },
   "outputs": [
    {
     "name": "stdout",
     "output_type": "stream",
     "text": [
      "New price (actual): 10.05083685047008\n",
      "New price (calc): 10.05083685047008\n",
      "New sqrtP: 2.5117747796363857e+29\n",
      "New tick: 23077\n",
      "USDC in: 508.2782835158756\n",
      "ETH out: 50.69912253362368\n"
     ]
    }
   ],
   "source": [
    "eth_gwei = 10**18\n",
    "liq = lp.get_liquidity() * eth_gwei\n",
    "amount_in = amount1 * eth_gwei\n",
    "sqrtp_cur = price_to_sqrtp(lp.get_price(eth))\n",
    "\n",
    "price_diff = ((amount_in - 3*amount_in/1000) * q96) // liq\n",
    "price_next_calc = sqrtp_cur + price_diff\n",
    "#price_next = math.sqrt(10.05083685047008)*q96\n",
    "print(\"New price (actual):\", (price_next / q96) ** 2)\n",
    "print(\"New price (calc):\", (price_next_calc / q96) ** 2)\n",
    "print(\"New sqrtP:\", price_next)\n",
    "print(\"New tick:\", price_to_tick((price_next_calc / q96) ** 2))\n",
    "\n",
    "amount_in = calc_amount1(liq, price_next_calc, sqrtp_cur)\n",
    "amount_out = calc_amount0(liq, price_next_calc, sqrtp_cur)\n",
    "\n",
    "print(\"USDC in:\", amount_in / eth_gwei)\n",
    "print(\"ETH out:\", amount_out / eth_gwei)\n",
    "\n",
    "dx2 = amount_out / eth_gwei"
   ]
  },
  {
   "cell_type": "code",
   "execution_count": 34,
   "id": "9e4cede0-6c7d-4ef3-bbc3-21d4cd705e58",
   "metadata": {
    "tags": []
   },
   "outputs": [
    {
     "data": {
      "text/plain": [
       "99.99992253362367"
      ]
     },
     "execution_count": 34,
     "metadata": {},
     "output_type": "execute_result"
    }
   ],
   "source": [
    "dL_act = 3283.3309207565794\n",
    "\n",
    "dPy = calc_y(1, lwr_tick, upr_tick)\n",
    "dPx = calc_x(1, lwr_tick, upr_tick)\n",
    "\n",
    "L = lp.get_liquidity()\n",
    "\n",
    "x = lp.get_reserve(eth)\n",
    "y = lp.get_reserve(tkn)\n",
    "\n",
    "dx = dL_act*dPx\n",
    "dx + dx2"
   ]
  },
  {
   "cell_type": "code",
   "execution_count": 9,
   "id": "4c53b872-d6df-43a2-8349-e2580255a9f6",
   "metadata": {
    "tags": []
   },
   "outputs": [
    {
     "name": "stdout",
     "output_type": "stream",
     "text": [
      "new price 251177477963638562769788518347\n",
      "Exchange ETH-TKN (LP)\n",
      "Real Reserves:   ETH = 900.0000774663762, TKN = 10340.759310919504\n",
      "Gross Liquidity: 63314.59286053256 \n",
      "\n",
      "amount0 49.30079999999998, amount1 509.8077066357803\n"
     ]
    },
    {
     "data": {
      "text/plain": [
       "-50.69912253362341"
      ]
     },
     "execution_count": 9,
     "metadata": {},
     "output_type": "execute_result"
    }
   ],
   "source": [
    "out = Swap().apply(lp, tkn, user_nm, amount1) \n",
    "lp.summary()\n",
    "print(f'amount0 {amount0}, amount1 {amount1}')\n",
    "out[1]"
   ]
  },
  {
   "cell_type": "code",
   "execution_count": 10,
   "id": "044eca26-ed03-486d-beb8-d0ef3921600c",
   "metadata": {
    "tags": []
   },
   "outputs": [
    {
     "data": {
      "text/plain": [
       "10.05083685047008"
      ]
     },
     "execution_count": 10,
     "metadata": {},
     "output_type": "execute_result"
    }
   ],
   "source": [
    "(251177477963638562769788518347 / q96) ** 2"
   ]
  },
  {
   "cell_type": "code",
   "execution_count": null,
   "id": "8bfb5e61-7bd6-477b-9f7d-7f970b599f41",
   "metadata": {
    "tags": []
   },
   "outputs": [],
   "source": [
    "Lx = 6659.792378128914\n",
    "p_needed = 0.49301\n",
    "dL_act = p_needed*Lx\n",
    "dL_act"
   ]
  },
  {
   "cell_type": "code",
   "execution_count": null,
   "id": "37df0bfd-05ef-4d8b-ace4-9bd586728aec",
   "metadata": {
    "tags": []
   },
   "outputs": [],
   "source": [
    "dL_act = 3283.3309207565794\n",
    "\n",
    "dPy = calc_y(1, lwr_tick2, upr_tick2)\n",
    "dPx = calc_x(1, lwr_tick2, upr_tick2)\n",
    "\n",
    "L = lp.get_liquidity()\n",
    "\n",
    "x = lp.get_reserve(eth)\n",
    "y = lp.get_reserve(tkn)\n",
    "\n",
    "dx = dL_act*dPx\n",
    "dy = dL_act*dPy\n",
    "\n",
    "#dx = 49.30099999999998\n",
    "#dy = 509.8097747876425\n",
    "\n",
    "#x = 950.6989999999996\n",
    "#y = 9830.949536131862\n",
    "\n",
    "#dx = dL_act*x/L\n",
    "#dy = dL_act*y/L\n",
    "gamma = 997/1000\n",
    "\n",
    "amount_out - dx\n",
    "dy"
   ]
  },
  {
   "cell_type": "code",
   "execution_count": null,
   "id": "dbfe163e-5a8f-4f1b-8c8b-27009e9eacc8",
   "metadata": {
    "tags": []
   },
   "outputs": [],
   "source": [
    "L = lp.get_liquidity()\n",
    "\n",
    "dP = dy/L\n",
    "sqrtP_curr = lp.slot0.sqrtPriceX96/2**96\n",
    "sqrtP_target = sqrtP_curr + dP\n",
    "p_target = sqrtP_target**2\n",
    "dInvP = 1/sqrtP_target - 1/sqrtP_curr \n",
    "dInvP*L"
   ]
  },
  {
   "cell_type": "code",
   "execution_count": null,
   "id": "75c2fbc8-d48d-41cd-a306-dd1d94270070",
   "metadata": {
    "tags": []
   },
   "outputs": [],
   "source": [
    "dP = dy/L\n",
    "sqrtP_curr = lp.slot0.sqrtPriceX96/2**96\n",
    "sqrtP_target = sqrtP_curr + dP\n",
    "p_target = sqrtP_target**2\n",
    "p_target"
   ]
  },
  {
   "cell_type": "code",
   "execution_count": null,
   "id": "e27686ac-ee1e-453f-837c-dc6d332ab345",
   "metadata": {
    "tags": []
   },
   "outputs": [],
   "source": [
    "dInvP = 1/sqrtP_target - 1/sqrtP_curr \n",
    "dInvP"
   ]
  },
  {
   "cell_type": "code",
   "execution_count": null,
   "id": "187b36e0-7d1c-44b2-94e2-c399b7740b19",
   "metadata": {
    "tags": []
   },
   "outputs": [],
   "source": [
    "dInvP*L"
   ]
  },
  {
   "cell_type": "code",
   "execution_count": null,
   "id": "3214b1d7-e22d-47af-83dc-b4516c09f55a",
   "metadata": {
    "tags": []
   },
   "outputs": [],
   "source": [
    "L*(sqrtP_curr - sqrtP_target)"
   ]
  },
  {
   "cell_type": "code",
   "execution_count": null,
   "id": "0a06e55a-9aeb-48fd-9ae6-b28c6175b527",
   "metadata": {
    "tags": []
   },
   "outputs": [],
   "source": [
    "L*(sqrtP_curr - sqrtP_target) / (sqrtP_curr*sqrtP_target)"
   ]
  },
  {
   "cell_type": "code",
   "execution_count": null,
   "id": "424802b9-577b-4055-a555-abee4024043e",
   "metadata": {
    "tags": []
   },
   "outputs": [],
   "source": [
    "p_out = 0.493008\n",
    "(_, _, _, _, amount0, amount1) = lp.burn(user_nm, lwr_tick, upr_tick, p_out*Lx)\n",
    "lp.summary()\n",
    "\n",
    "out = Swap().apply(lp, tkn, user_nm, amount1) \n",
    "lp.summary()\n",
    "print(f'amount0 {amount0}, amount1 {amount1}')\n",
    "out"
   ]
  },
  {
   "cell_type": "code",
   "execution_count": null,
   "id": "41ca1373-16c7-4493-b8ad-1a6d30863e97",
   "metadata": {
    "tags": []
   },
   "outputs": [],
   "source": [
    "dPy = calc_y(1, lwr_tick, upr_tick)\n",
    "dPx = calc_x(1, lwr_tick, upr_tick)\n",
    "q = amount_out\n",
    "gamma = 997/1000\n",
    "x = lp.get_reserve(eth)\n",
    "y = lp.get_reserve(tkn)\n",
    "\n",
    "a = dPx*dPy\n",
    "b = -q*dPx + q*gamma*dPx - dPy*x - y*dPx*gamma;\n",
    "c = q*x;\n",
    "\n",
    "dL = (-b + math.sqrt(b**2 - 4*a*c)) / (2*a);\n",
    "dL"
   ]
  },
  {
   "cell_type": "code",
   "execution_count": null,
   "id": "600ba928-2fc3-4bf5-a7c7-a2c1f0878f28",
   "metadata": {
    "tags": []
   },
   "outputs": [],
   "source": []
  },
  {
   "cell_type": "code",
   "execution_count": null,
   "id": "3c0e2d71-c1d1-429c-996e-db9bfdbdbf74",
   "metadata": {
    "tags": []
   },
   "outputs": [],
   "source": [
    "(gamma*dy*x - dx)/(y - dy + gamma*dy)"
   ]
  },
  {
   "cell_type": "code",
   "execution_count": null,
   "id": "3d7b3314-39c7-4ed3-ad72-8b15abf83e13",
   "metadata": {
    "tags": []
   },
   "outputs": [],
   "source": [
    "dL_act*dPy"
   ]
  },
  {
   "cell_type": "code",
   "execution_count": null,
   "id": "efe40905-e603-40a5-b0bf-267c031892d4",
   "metadata": {
    "tags": []
   },
   "outputs": [],
   "source": [
    "(dL**2)*dPx*dPy + (dL)*(-q*dPx + q*gamma*dPx - dPy*x - y*dPx*gamma) + q*x"
   ]
  },
  {
   "cell_type": "code",
   "execution_count": null,
   "id": "0abd6a54-70f2-4ea6-af1c-0cac5dc1e20f",
   "metadata": {
    "tags": []
   },
   "outputs": [],
   "source": [
    "(_, _, _, _, amount0, amount1) = lp.burn(user_nm, lwr_tick, upr_tick, p_out*Lx)\n",
    "amount0"
   ]
  },
  {
   "cell_type": "code",
   "execution_count": null,
   "id": "3c3c99d8-0933-47ab-ab9e-6edcf12fabaf",
   "metadata": {
    "tags": []
   },
   "outputs": [],
   "source": [
    "p_out*Lx"
   ]
  },
  {
   "cell_type": "code",
   "execution_count": null,
   "id": "3ea9372d-fbf1-4eb6-b8a0-2855132fe029",
   "metadata": {
    "tags": []
   },
   "outputs": [],
   "source": [
    "p_out = 0.49301\n",
    "#p_out = 1\n",
    "(_, _, _, _, amount0, amount1) = lp.burn(user_nm, lwr_tick, upr_tick, p_out*Lx)\n",
    "print(f'amount0 {amount0}, amount1 amount1\n",
    "\n",
    "lp.summary()\n",
    "\n",
    "out = Swap().apply(lp, tkn, user_nm, amount1) \n",
    "withdrawn = abs(out[1])  + p_out*amount_out \n",
    "lp.summary()\n",
    "withdrawn\n",
    "p_out"
   ]
  },
  {
   "cell_type": "code",
   "execution_count": null,
   "id": "8fa6c347-4555-4cc3-a2b3-a39572fce72f",
   "metadata": {
    "tags": []
   },
   "outputs": [],
   "source": []
  },
  {
   "cell_type": "code",
   "execution_count": null,
   "id": "a0c1ec0f-c87a-4bc6-9ff3-e6a60bd24ec7",
   "metadata": {
    "tags": []
   },
   "outputs": [],
   "source": [
    "66597.92378128914 - 63314.5795409478 "
   ]
  },
  {
   "cell_type": "code",
   "execution_count": null,
   "id": "4bc5a408-89f5-4713-b1a8-ebded4b6f93d",
   "metadata": {
    "tags": []
   },
   "outputs": [],
   "source": [
    "0.5138983378376984*Lx"
   ]
  },
  {
   "cell_type": "code",
   "execution_count": null,
   "id": "4cab5c8a-b12b-44fc-b960-d53c1601f15e",
   "metadata": {
    "tags": []
   },
   "outputs": [],
   "source": [
    "lp.get_virtual_reserve(tkn)"
   ]
  },
  {
   "cell_type": "code",
   "execution_count": null,
   "id": "1d7d11fd-0714-4fb8-bb46-a161d785e151",
   "metadata": {
    "tags": []
   },
   "outputs": [],
   "source": [
    "calc_x(2999.7687368341976, lwr_tick, upr_tick)"
   ]
  },
  {
   "cell_type": "code",
   "execution_count": null,
   "id": "7f483cdd-c57c-4162-babd-14b107fa07b5",
   "metadata": {
    "tags": []
   },
   "outputs": [],
   "source": [
    "lp.get_price(eth)"
   ]
  },
  {
   "cell_type": "code",
   "execution_count": null,
   "id": "cceb97ad-1b8e-46eb-8d4c-9c1985a656da",
   "metadata": {
    "tags": []
   },
   "outputs": [],
   "source": [
    "lp.get_tick_price(0, lp.get_price(eth), 1000)"
   ]
  },
  {
   "cell_type": "code",
   "execution_count": null,
   "id": "b105f961-dab0-4b38-b619-5c2e71e8f3fa",
   "metadata": {},
   "outputs": [],
   "source": []
  },
  {
   "cell_type": "code",
   "execution_count": null,
   "id": "b8109a47-b7c3-44dd-9124-e22b4dff3f28",
   "metadata": {},
   "outputs": [],
   "source": [
    "lp.get_virtual_reserve(tkn)"
   ]
  },
  {
   "cell_type": "code",
   "execution_count": null,
   "id": "7537f7da-bf4d-4d35-91bb-35a0d914168f",
   "metadata": {},
   "outputs": [],
   "source": [
    "math.sqrt(1.0001**lwr_tick)"
   ]
  },
  {
   "cell_type": "code",
   "execution_count": null,
   "id": "358cffa4-10ac-47a2-9328-19193b76c409",
   "metadata": {},
   "outputs": [],
   "source": [
    "calc_Ly(1000, lwr_tick, upr_tick)"
   ]
  },
  {
   "cell_type": "code",
   "execution_count": null,
   "id": "5a0b9d0a-d861-4835-90f5-6752bc4f716c",
   "metadata": {},
   "outputs": [],
   "source": [
    "p_sqrt_human = lp.slot0.sqrtPriceX96/2**96\n",
    "p_sqrt_human"
   ]
  },
  {
   "cell_type": "code",
   "execution_count": null,
   "id": "7829d628-9b73-43cb-9168-75d7b3be6399",
   "metadata": {},
   "outputs": [],
   "source": [
    "p_sqrt_human = math.sqrt(10)\n",
    "p_sqrt_human"
   ]
  },
  {
   "cell_type": "code",
   "execution_count": null,
   "id": "13035491-022a-46a0-ae60-c2b5c2b82457",
   "metadata": {},
   "outputs": [],
   "source": [
    "p_sqrt_human = math.sqrt(1.0001**mid_tick)\n",
    "p_sqrt_human**2"
   ]
  },
  {
   "cell_type": "code",
   "execution_count": null,
   "id": "adb86e0a-b1ba-4d47-a87a-4e2e4d12858a",
   "metadata": {},
   "outputs": [],
   "source": []
  },
  {
   "cell_type": "code",
   "execution_count": null,
   "id": "936af1c3-a5d3-487e-996b-1044a54289cc",
   "metadata": {},
   "outputs": [],
   "source": []
  },
  {
   "cell_type": "code",
   "execution_count": null,
   "id": "9875e66e-55e8-42e4-88ee-97a176f82b4a",
   "metadata": {},
   "outputs": [],
   "source": [
    "dx = lp.get_liquidity()*(1/p_sqrt_human - 1/pb_sqrt_human)\n",
    "dx"
   ]
  },
  {
   "cell_type": "code",
   "execution_count": null,
   "id": "036c284b-b0b2-4c22-8bb8-7e7b137af7d9",
   "metadata": {},
   "outputs": [],
   "source": [
    "dy = lp.get_liquidity()*(p_sqrt_human - pa_sqrt_human)\n",
    "dy"
   ]
  },
  {
   "cell_type": "code",
   "execution_count": null,
   "id": "4ab5cd9f-e748-4cf1-81cf-c65bf8e1d14c",
   "metadata": {},
   "outputs": [],
   "source": [
    "lp.get_virtual_reserve(eth)"
   ]
  },
  {
   "cell_type": "code",
   "execution_count": null,
   "id": "1c4695df-c04d-4381-ac8f-8e4827b0adb3",
   "metadata": {},
   "outputs": [],
   "source": [
    "Lx = 100/(1/p_sqrt_human - 1/pb_sqrt_human)\n",
    "Lx"
   ]
  },
  {
   "cell_type": "code",
   "execution_count": null,
   "id": "5f7fc9da-9238-484c-bf3e-9d91885674e1",
   "metadata": {},
   "outputs": [],
   "source": [
    "Ly = 1000/(p_sqrt_human - pa_sqrt_human)\n",
    "Ly"
   ]
  },
  {
   "cell_type": "code",
   "execution_count": null,
   "id": "2a04824c-e19f-452d-b3be-537ca3190ca0",
   "metadata": {},
   "outputs": [],
   "source": [
    "(Lx+Ly)/2"
   ]
  },
  {
   "cell_type": "code",
   "execution_count": null,
   "id": "73a1ae7b-d92d-47cc-b1ed-32463591bd14",
   "metadata": {},
   "outputs": [],
   "source": [
    "lp.get_reserve(eth)"
   ]
  },
  {
   "cell_type": "code",
   "execution_count": null,
   "id": "e04b3c4a-e55f-4725-ae5f-bc7206faf24f",
   "metadata": {},
   "outputs": [],
   "source": []
  },
  {
   "cell_type": "code",
   "execution_count": null,
   "id": "ba72b454-35f4-4c31-99c0-9cd2aeade1a1",
   "metadata": {},
   "outputs": [],
   "source": []
  },
  {
   "cell_type": "code",
   "execution_count": null,
   "id": "2cf763ae-ad9e-4346-ac27-9121d1ebe9f6",
   "metadata": {},
   "outputs": [],
   "source": [
    "63259.85082780032 - 63196.61638219618"
   ]
  },
  {
   "cell_type": "code",
   "execution_count": null,
   "id": "2f8d0aaf-2c72-4cb5-9dce-43847a5bcd2e",
   "metadata": {},
   "outputs": [],
   "source": [
    "arb = CorrectReserves(lp, x0 = 1/exp_p_arr[0])\n",
    "for k in range(1, n_steps):\n",
    "    p = 1/exp_p_arr[k]\n",
    "    arb.apply(p, lwr_tick, upr_tick)\n",
    "    \n",
    "    select_tkn = EventSelectionModel().bi_select(0.5)\n",
    "    rnd_swap_amt = TokenDeltaModel(30).delta()\n",
    "    rnd_add_amt = TokenDeltaModel(30).delta()\n",
    "    user_add = random.choice(accounts)\n",
    "    user_swap = random.choice(accounts)\n",
    "    v3_positions = copy.deepcopy(lp.positions)\n",
    "    if(select_tkn == 0): \n",
    "        AddLiquidity().apply(lp, eth, user_add, rnd_add_amt, lp.get_tick_price(-1), lp.get_tick_price(1))\n",
    "        update_graph(lp, user_add, tkn, v3_positions, v3_graph)\n",
    "        out = Swap().apply(lp, eth, user_swap, rnd_swap_amt) \n",
    "    else:\n",
    "        AddLiquidity().apply(lp, tkn, user_add, p*rnd_add_amt, lp.get_tick_price(-1), lp.get_tick_price(1))\n",
    "        update_graph(lp, user_add, tkn, v3_positions, v3_graph)\n",
    "        out = Swap().apply(lp, tkn, user_swap,  p*rnd_swap_amt) \n",
    "\n",
    "    print(f'Market: {exp_p_arr[k]}, LP: {lp.get_price(tkn)}')\n",
    "\n",
    "print('')\n",
    "lp.summary()"
   ]
  },
  {
   "cell_type": "code",
   "execution_count": null,
   "id": "3faa947e-2de1-44c4-bd61-4b00f9d3e924",
   "metadata": {},
   "outputs": [],
   "source": [
    "lp.ticks"
   ]
  },
  {
   "cell_type": "code",
   "execution_count": null,
   "id": "cba35749-0779-4d0c-9b41-c36e72df7d78",
   "metadata": {},
   "outputs": [],
   "source": [
    "lp.get_tick_price(1)"
   ]
  },
  {
   "cell_type": "code",
   "execution_count": null,
   "id": "f451f079-2b2b-4eaa-abf9-d3dba7771f12",
   "metadata": {},
   "outputs": [],
   "source": [
    "lp.ticks"
   ]
  },
  {
   "cell_type": "code",
   "execution_count": null,
   "id": "407a425d-e3e1-4087-a376-f24c7135d409",
   "metadata": {},
   "outputs": [],
   "source": [
    "UniV3Utils.getPositionKey(accounts[0], lwr_tick, upr_tick)"
   ]
  },
  {
   "cell_type": "code",
   "execution_count": null,
   "id": "a580a8f6-c090-4e9d-9e6c-8e1668a31f8d",
   "metadata": {},
   "outputs": [],
   "source": [
    "lp.positions"
   ]
  },
  {
   "cell_type": "code",
   "execution_count": null,
   "id": "5fdcd56f-4bb2-42bb-960e-3767639aa3ee",
   "metadata": {},
   "outputs": [],
   "source": [
    "#for pos in v3_graph:\n",
    "#    print(f\"price {v3_graph[pos]['price']}, liq: {v3_graph[pos]['delta_liq']/10**18}\")"
   ]
  },
  {
   "cell_type": "code",
   "execution_count": null,
   "id": "e0455956-be44-4f8c-9167-ac2ebc32caed",
   "metadata": {},
   "outputs": [],
   "source": [
    "for k, pos in enumerate(v3_graph):\n",
    "    row = np.empty(2)\n",
    "    row[0] = v3_graph[pos]['price']\n",
    "    row[1] = v3_graph[pos]['delta_liq']/10**18\n",
    "    res = row if k == 0 else np.vstack((res, row))\n",
    "\n",
    "df = pd.DataFrame(res, columns = ['price', 'liq'])\n",
    "df.sort_values(by=['price'], inplace=True)\n",
    "df.reset_index(drop=True,inplace=True)\n",
    "df['price'] = np.round(df['price'].values, 3)\n",
    "freq_df_v3 = df.groupby('price').agg({'liq': 'sum'})"
   ]
  },
  {
   "cell_type": "code",
   "execution_count": null,
   "id": "bbb0fbeb-7b19-4dc1-ba0c-7b2eb8f9e8d9",
   "metadata": {},
   "outputs": [],
   "source": [
    "fig, (price_ax, ld_ax) = plt.subplots(nrows=2, sharex=False, sharey=False, figsize=(12, 10))\n",
    "\n",
    "price_ax.plot(x_val[1:], p_arr[1:], color = 'r',linestyle = 'dashdot', label='initial invest') \n",
    "price_ax.set_title(f'Price Chart (ETH/TKN)', fontsize=15)\n",
    "price_ax.set_ylabel('Price (USD)', size=14)\n",
    "price_ax.set_xlabel('Date', size=10)\n",
    "\n",
    "ld_ax.axvline(x = lp.get_price(tkn), color = 'red', linestyle = 'dashdot', linewidth=2, label = 'Last Price')\n",
    "ld_ax.bar(freq_df_v2.index, freq_df_v2['liq'].values, color ='purple', width = 0.00095, alpha = .5, label = 'Uni V2')\n",
    "ld_ax.bar(freq_df_v3.index, freq_df_v3['liq'].values, color ='teal', width = 0.00095, alpha = .5, label = 'Uni V3')\n",
    "ld_ax.set_title('Liquidity Frequency Distribution: Uniswap V2 vs V3',fontsize=15)\n",
    "ld_ax.set_ylabel('Liquidity', fontsize=14)\n",
    "ld_ax.set_xlabel('Price (USD)', fontsize=10)\n",
    "ld_ax.legend()"
   ]
  }
 ],
 "metadata": {
  "kernelspec": {
   "display_name": "Python 3 (ipykernel)",
   "language": "python",
   "name": "python3"
  },
  "language_info": {
   "codemirror_mode": {
    "name": "ipython",
    "version": 3
   },
   "file_extension": ".py",
   "mimetype": "text/x-python",
   "name": "python",
   "nbconvert_exporter": "python",
   "pygments_lexer": "ipython3",
   "version": "3.11.5"
  }
 },
 "nbformat": 4,
 "nbformat_minor": 5
}
